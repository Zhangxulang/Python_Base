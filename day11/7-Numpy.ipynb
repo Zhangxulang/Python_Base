{
 "cells": [
  {
   "metadata": {},
   "cell_type": "markdown",
   "source": "# 一、Numpy简介",
   "id": "b29bfccf9cc5ba01"
  },
  {
   "metadata": {},
   "cell_type": "code",
   "source": [
    "#列表和数组的区别：\n",
    "# 1. 列表是可变的，数组是不可变的。\n",
    "# 2. 列表中的元素可以是不同类型的，而数组中的元素必须是相同类型的。\n",
    "# 3. 列表中的元素可以是任意的，而数组中的元素必须是数字。\n",
    "# 4. 列表的索引是从0开始，而数组的索引是从0开始。\n",
    "# 5. 列表的元素可以是重复的，而数组的元素是唯一的。\n",
    "# 6. 列表的元素可以是嵌套的，而数组的元素是一维的。\n",
    "# 7. 列表的效率比数组高。\n",
    "# 8. 数组的运算速度更快。\n",
    "# 9. 数组可以更好地利用内存。\n",
    "# 10. 数组可以更好地处理大数据。"
   ],
   "id": "4ec1541e8a340b91",
   "outputs": [],
   "execution_count": 98
  },
  {
   "cell_type": "code",
   "id": "initial_id",
   "metadata": {
    "collapsed": true,
    "ExecuteTime": {
     "end_time": "2025-07-18T20:46:35.949505Z",
     "start_time": "2025-07-18T20:46:35.927924Z"
    }
   },
   "source": [
    "#列表转ndarray：\n",
    "import numpy as np\n",
    "list = [1, 2, 3]\n",
    "print(list)\n",
    "print(type(list))"
   ],
   "outputs": [
    {
     "name": "stdout",
     "output_type": "stream",
     "text": [
      "[1, 2, 3]\n",
      "<class 'list'>\n"
     ]
    }
   ],
   "execution_count": 99
  },
  {
   "metadata": {
    "ExecuteTime": {
     "end_time": "2025-07-18T20:46:36.046783Z",
     "start_time": "2025-07-18T20:46:36.035576Z"
    }
   },
   "cell_type": "code",
   "source": [
    "oneArray = np.array(list)\n",
    "print(oneArray)\n",
    "print(type(oneArray))  #列表输出有逗号，ndarray输出没有逗号"
   ],
   "id": "5ca4a35e534ae8d4",
   "outputs": [
    {
     "name": "stdout",
     "output_type": "stream",
     "text": [
      "[1 2 3]\n",
      "<class 'numpy.ndarray'>\n"
     ]
    }
   ],
   "execution_count": 100
  },
  {
   "metadata": {},
   "cell_type": "markdown",
   "source": "# 二、ndarray与Python原生list运算效率对比",
   "id": "391ecc44c9b432ab"
  },
  {
   "metadata": {
    "ExecuteTime": {
     "end_time": "2025-07-18T20:46:37.998319Z",
     "start_time": "2025-07-18T20:46:36.101832Z"
    }
   },
   "cell_type": "code",
   "source": [
    "import random\n",
    "import time\n",
    "import numpy as np\n",
    "#随机生成100个元素的列表\n",
    "a = []\n",
    "for i in range(10000000):\n",
    "    a.append(random.random())\n",
    "print('随机完成')"
   ],
   "id": "b323c62dbda2a0a",
   "outputs": [
    {
     "name": "stdout",
     "output_type": "stream",
     "text": [
      "随机完成\n"
     ]
    }
   ],
   "execution_count": 101
  },
  {
   "metadata": {
    "ExecuteTime": {
     "end_time": "2025-07-18T20:46:39.738759Z",
     "start_time": "2025-07-18T20:46:38.757648Z"
    }
   },
   "cell_type": "code",
   "source": [
    "b = np.array (a)  #将列表转化为ndarray\n",
    "print('转化完成')"
   ],
   "id": "d49200e43da2e9ac",
   "outputs": [
    {
     "name": "stdout",
     "output_type": "stream",
     "text": [
      "转化完成\n"
     ]
    }
   ],
   "execution_count": 102
  },
  {
   "metadata": {
    "ExecuteTime": {
     "end_time": "2025-07-18T20:46:41.371451Z",
     "start_time": "2025-07-18T20:46:40.848127Z"
    }
   },
   "cell_type": "code",
   "source": [
    "t1 = time.time()\n",
    "sum1 = sum(a)\n",
    "t2 = time.time()\n",
    "\n",
    "t4 = time.time()\n",
    "sum3 = np.sum(b)\n",
    "t5 = time.time()\n",
    "print(t2 - t1, t5 - t4)"
   ],
   "id": "a965ae07981406d4",
   "outputs": [
    {
     "name": "stdout",
     "output_type": "stream",
     "text": [
      "0.0857698917388916 0.41588902473449707\n"
     ]
    }
   ],
   "execution_count": 103
  },
  {
   "metadata": {},
   "cell_type": "markdown",
   "source": "# 三、创建一维数组",
   "id": "e269a2b4d3b456ce",
   "attachments": {
    "20e328b4-4c52-482b-bff7-dba4eca8d0ea.png": {
     "image/png": "[encoded data removed]"
    }
   }
  },
  {
   "metadata": {
    "ExecuteTime": {
     "end_time": "2025-07-18T20:46:41.417466Z",
     "start_time": "2025-07-18T20:46:41.402647Z"
    }
   },
   "cell_type": "code",
   "source": [
    "import numpy as np\n",
    "list1 = [1 ,2 ,3,4]\n",
    "oneArray = np .array(list1)\n",
    "print(type(oneArray))\n",
    "print(oneArray)\n",
    "\n",
    "# 创建数组的多种形式\n",
    "# 1 . 直接传入列表的方式\n",
    "t1 = np .array([1 ,2,3])\n",
    "print(t1)\n",
    "print(type(t1))\n",
    "\n",
    "\n",
    "# 2 . 传入range生成序列\n",
    "t2 = np .array(range(10))\n",
    "print(t2)\n",
    "print(type(t2))\n",
    "\n",
    "# 3 . 使用numpy自带的np .arange()生成数组\n",
    "t3 = np .arange(0 ,10,2)\n",
    "print(t3)\n",
    "print(type(t3))\n"
   ],
   "id": "d665bd3d5e57dec1",
   "outputs": [
    {
     "name": "stdout",
     "output_type": "stream",
     "text": [
      "<class 'numpy.ndarray'>\n",
      "[1 2 3 4]\n",
      "[1 2 3]\n",
      "<class 'numpy.ndarray'>\n",
      "[0 1 2 3 4 5 6 7 8 9]\n",
      "<class 'numpy.ndarray'>\n",
      "[0 2 4 6 8]\n",
      "<class 'numpy.ndarray'>\n"
     ]
    }
   ],
   "execution_count": 104
  },
  {
   "metadata": {},
   "cell_type": "markdown",
   "source": "# 四、创建二维数组",
   "id": "1d5d827db9250103"
  },
  {
   "metadata": {
    "ExecuteTime": {
     "end_time": "2025-07-18T20:46:41.483029Z",
     "start_time": "2025-07-18T20:46:41.446414Z"
    }
   },
   "cell_type": "code",
   "source": [
    "import numpy as np\n",
    "list2 = [[1 ,2] , [3 ,4] , [5 ,6]]\n",
    "twoArray = np .array(list2)\n",
    "print(twoArray)\n",
    "print(type(twoArray))\n",
    "print(twoArray.shape)  # 输出数组的形状\n",
    "# 创建二维数组的多种形式\n",
    "# 1 . 直接传入列表的方式\n",
    "t1 = np .array([[1 ,2] , [3 ,4] , [5 ,6]])\n",
    "print(t1)\n",
    "print(type(t1))\n",
    "print(t1.shape)\n",
    "print(t1.size)  # 输出数组的元素个数\n",
    "\n",
    "# 2 . 使用numpy自带的np .zeros()生成数组\n",
    "t2 = np .zeros((3,2))\n",
    "print(t2)\n",
    "print(type(t2))\n",
    "print(t2.shape)\n",
    "print(t2.size)\n",
    "\n",
    "# 3 . 使用numpy自带的np .ones()生成数组\n",
    "t3 = np .ones((3,2))\n",
    "print(t3)\n",
    "print(type(t3))\n",
    "print(t3.shape)\n",
    "print(t3.size)\n",
    "\n",
    "# 4 . 使用numpy自带的np .empty()生成数组\n",
    "t4 = np .empty((3,2))\n",
    "print(t4)\n",
    "print(type(t4))\n",
    "print(t4.shape)\n",
    "print(t4.size)\n",
    "\n",
    "# 5 . 使用numpy自带的np .random.rand()生成随机数组\n",
    "t5 = np .random.rand(3,2)\n",
    "print(t5)\n",
    "print(type(t5))\n",
    "print(t5.shape)\n",
    "print(t5.size)"
   ],
   "id": "45dab72b935dd66c",
   "outputs": [
    {
     "name": "stdout",
     "output_type": "stream",
     "text": [
      "[[1 2]\n",
      " [3 4]\n",
      " [5 6]]\n",
      "<class 'numpy.ndarray'>\n",
      "(3, 2)\n",
      "[[1 2]\n",
      " [3 4]\n",
      " [5 6]]\n",
      "<class 'numpy.ndarray'>\n",
      "(3, 2)\n",
      "6\n",
      "[[0. 0.]\n",
      " [0. 0.]\n",
      " [0. 0.]]\n",
      "<class 'numpy.ndarray'>\n",
      "(3, 2)\n",
      "6\n",
      "[[1. 1.]\n",
      " [1. 1.]\n",
      " [1. 1.]]\n",
      "<class 'numpy.ndarray'>\n",
      "(3, 2)\n",
      "6\n",
      "[[1. 1.]\n",
      " [1. 1.]\n",
      " [1. 1.]]\n",
      "<class 'numpy.ndarray'>\n",
      "(3, 2)\n",
      "6\n",
      "[[0.36527955 0.01167328]\n",
      " [0.9070914  0.07480474]\n",
      " [0.02291901 0.48869543]]\n",
      "<class 'numpy.ndarray'>\n",
      "(3, 2)\n",
      "6\n"
     ]
    }
   ],
   "execution_count": 105
  },
  {
   "metadata": {
    "ExecuteTime": {
     "end_time": "2025-07-18T20:46:41.542582Z",
     "start_time": "2025-07-18T20:46:41.501915Z"
    }
   },
   "cell_type": "code",
   "source": "twoArray.tolist()  # 将数组转化为列表",
   "id": "5b160b68fc827338",
   "outputs": [
    {
     "data": {
      "text/plain": [
       "[[1, 2], [3, 4], [5, 6]]"
      ]
     },
     "execution_count": 106,
     "metadata": {},
     "output_type": "execute_result"
    }
   ],
   "execution_count": 106
  },
  {
   "metadata": {},
   "cell_type": "markdown",
   "source": "常用属性",
   "id": "9fbec2acd5478450",
   "attachments": {
    "9060b782-aa07-432c-9b25-afafdeb3fe53.png": {
     "image/png": "[encoded data removed]"
    }
   }
  },
  {
   "metadata": {
    "ExecuteTime": {
     "end_time": "2025-07-18T20:46:41.579642Z",
     "start_time": "2025-07-18T20:46:41.569057Z"
    }
   },
   "cell_type": "code",
   "source": [
    "list2 = [[1 ,2] , [3 ,4] , [5 ,6]]\n",
    "\n",
    "twoArray = np .array(list2)\n",
    "# 获取数组的维度( 注意： 与函数的参数很像)\n",
    "print(twoArray.ndim)\n",
    "# 形状（行 ，列）\n",
    "print(twoArray.shape)\n",
    "# 有多少个元素\n",
    "print(twoArray.size)\n",
    "#数据类型\n",
    "print(twoArray.dtype)  #默认是int32，4个字节 数据范围 -21亿 到 21亿"
   ],
   "id": "6c70711c8b916910",
   "outputs": [
    {
     "name": "stdout",
     "output_type": "stream",
     "text": [
      "2\n",
      "(3, 2)\n",
      "6\n",
      "int32\n"
     ]
    }
   ],
   "execution_count": 107
  },
  {
   "metadata": {},
   "cell_type": "markdown",
   "source": "调整数组的形状",
   "id": "f9e599b60e5c68df"
  },
  {
   "metadata": {
    "ExecuteTime": {
     "end_time": "2025-07-18T20:46:41.623106Z",
     "start_time": "2025-07-18T20:46:41.615560Z"
    }
   },
   "cell_type": "code",
   "source": [
    "four = np.array([[1 ,2 ,3] , [4 ,5 ,6]])\n",
    "print(four)\n",
    "four1=four\n",
    "print(id(four))"
   ],
   "id": "36ce57745af74374",
   "outputs": [
    {
     "name": "stdout",
     "output_type": "stream",
     "text": [
      "[[1 2 3]\n",
      " [4 5 6]]\n",
      "1545898587024\n"
     ]
    }
   ],
   "execution_count": 108
  },
  {
   "metadata": {
    "ExecuteTime": {
     "end_time": "2025-07-18T20:46:41.669478Z",
     "start_time": "2025-07-18T20:46:41.663944Z"
    }
   },
   "cell_type": "code",
   "source": [
    "four.shape = (3, 2)  # 调整数组的形状\n",
    "print(four)\n",
    "print(id(four))\n",
    "print(id(four1))  # 数组的id不变, 指向同一块内存, 所以修改数组的形状不会影响原数组的值"
   ],
   "id": "66eb088efe03fb04",
   "outputs": [
    {
     "name": "stdout",
     "output_type": "stream",
     "text": [
      "[[1 2]\n",
      " [3 4]\n",
      " [5 6]]\n",
      "1545898587024\n",
      "1545898587024\n"
     ]
    }
   ],
   "execution_count": 109
  },
  {
   "metadata": {
    "ExecuteTime": {
     "end_time": "2025-07-18T20:46:41.798202Z",
     "start_time": "2025-07-18T20:46:41.787443Z"
    }
   },
   "cell_type": "code",
   "source": [
    "four2=four.reshape((2,3))  # 调整数组的形状, 但是会返回一个新的数组，原数组不变，返回的数组是新数组的引用\n",
    "print(four2)\n",
    "print(id(four2))\n",
    "print(id(four))  # 数组的id不变, 指向同一块内存, 所以修改数组的形状不会影响原数组的值\n",
    "four2"
   ],
   "id": "dd993ec5dd5ea7d4",
   "outputs": [
    {
     "name": "stdout",
     "output_type": "stream",
     "text": [
      "[[1 2 3]\n",
      " [4 5 6]]\n",
      "1545900405744\n",
      "1545898587024\n"
     ]
    },
    {
     "data": {
      "text/plain": [
       "array([[1, 2, 3],\n",
       "       [4, 5, 6]])"
      ]
     },
     "execution_count": 110,
     "metadata": {},
     "output_type": "execute_result"
    }
   ],
   "execution_count": 110
  },
  {
   "metadata": {
    "ExecuteTime": {
     "end_time": "2025-07-18T20:46:42.101749Z",
     "start_time": "2025-07-18T20:46:42.096940Z"
    }
   },
   "cell_type": "code",
   "source": [
    "import numpy as np\n",
    "\n",
    "# 创建一个3x4数组\n",
    "four = np.arange(12).reshape((3, 4))\n",
    "\n",
    "# 将多维变成一维数组，按列优先方式展开后再 reshape 成 6 个元素的一维数组（会出错，因为只有 12 个元素）\n",
    "# 你应该 reshape 为 (12,) 或其他因数组合\n",
    "five = four.reshape((12,), order='F')  # # 展开为一维数组，按列优先（Fortran风格）\n",
    "\n",
    "\n",
    "six = four.flatten(order='c')          # 默认，按行优先（C语言风格）\n",
    "\n",
    "print(\"four:\\n\", four)\n",
    "print(\"five (reshape order='F'):\\n\", five)\n",
    "print(\"six (flatten order='F'):\\n\", six)\n",
    "\n"
   ],
   "id": "d2f5d4845249f30a",
   "outputs": [
    {
     "name": "stdout",
     "output_type": "stream",
     "text": [
      "four:\n",
      " [[ 0  1  2  3]\n",
      " [ 4  5  6  7]\n",
      " [ 8  9 10 11]]\n",
      "five (reshape order='F'):\n",
      " [ 0  4  8  1  5  9  2  6 10  3  7 11]\n",
      "six (flatten order='F'):\n",
      " [ 0  1  2  3  4  5  6  7  8  9 10 11]\n"
     ]
    }
   ],
   "execution_count": 111
  },
  {
   "metadata": {
    "ExecuteTime": {
     "end_time": "2025-07-18T20:46:42.436984Z",
     "start_time": "2025-07-18T20:46:42.431813Z"
    }
   },
   "cell_type": "code",
   "source": [
    "# 拓展：数组形状操作\n",
    "t = np.arange(12)\n",
    "print(\"t:\\n\", t)\n",
    "print(\"t.shape:\", t.shape)\n",
    "\n",
    "# 转换成二维\n",
    "t1 = t.reshape((4, 3))\n",
    "print(\"t1:\\n\", t1)\n",
    "print(\"t1.shape:\", t1.shape)"
   ],
   "id": "2b61019667b5aa34",
   "outputs": [
    {
     "name": "stdout",
     "output_type": "stream",
     "text": [
      "t:\n",
      " [ 0  1  2  3  4  5  6  7  8  9 10 11]\n",
      "t.shape: (12,)\n",
      "t1:\n",
      " [[ 0  1  2]\n",
      " [ 3  4  5]\n",
      " [ 6  7  8]\n",
      " [ 9 10 11]]\n",
      "t1.shape: (4, 3)\n"
     ]
    }
   ],
   "execution_count": 112
  },
  {
   "metadata": {},
   "cell_type": "markdown",
   "source": "# 五、将数组转成list",
   "id": "a9297b21ae3779f4"
  },
  {
   "metadata": {
    "ExecuteTime": {
     "end_time": "2025-07-18T20:46:42.690197Z",
     "start_time": "2025-07-18T20:46:42.556445Z"
    }
   },
   "cell_type": "code",
   "source": [
    "# 将数组转成list\n",
    "a= np .array([9, 12, 88 , 14, 25])\n",
    "list_a = a .tolist()\n",
    "print(list_a)\n",
    "print(type(list_a))"
   ],
   "id": "c7a5f2eab494725d",
   "outputs": [
    {
     "name": "stdout",
     "output_type": "stream",
     "text": [
      "[9, 12, 88, 14, 25]\n",
      "<class 'list'>\n"
     ]
    }
   ],
   "execution_count": 113
  },
  {
   "metadata": {},
   "cell_type": "markdown",
   "source": "# 六、 NumPy的数据类型",
   "id": "d8e9faca0c20b28a"
  },
  {
   "metadata": {
    "ExecuteTime": {
     "end_time": "2025-07-18T20:46:42.736107Z",
     "start_time": "2025-07-18T20:46:42.728208Z"
    }
   },
   "cell_type": "code",
   "source": [
    "import random\n",
    "# 返回数组中每个元素的字节单位长度 ， dtype设置数据 类型\n",
    "f = np .array([1 ,2 ,3 ,4 ,5] , dtype = np.int16) #节省内存\n",
    "print(f .itemsize) # 1 np .int8(一个字节)\n",
    "# 获取数据类型\n",
    "print(f .dtype)\n",
    "\n",
    "# 调整数据类型\n",
    "f1 = f .astype(np.int64)\n",
    "print(f1 .dtype)\n",
    "\n"
   ],
   "id": "6af26883b808955c",
   "outputs": [
    {
     "name": "stdout",
     "output_type": "stream",
     "text": [
      "2\n",
      "int16\n",
      "int64\n"
     ]
    }
   ],
   "execution_count": 114
  },
  {
   "metadata": {
    "ExecuteTime": {
     "end_time": "2025-07-18T20:46:42.815704Z",
     "start_time": "2025-07-18T20:46:42.804709Z"
    }
   },
   "cell_type": "code",
   "source": [
    "# 拓展随机生成小数\n",
    "# 使用python语法 ，保留两位\n",
    "print(random.random() * 100)\n",
    "# 使用numpy语法 ，保留两位\n",
    "#@round第一个参数是数字，第二个参数是对第一个参数保留几位小数\n",
    "print(round(random.random() ,2))\n",
    "#\n",
    "print([random .random() for i in range(10)])\n",
    "#arr = np .array([random .random() for i in range(10)])\n",
    "# 取小数点后两位\n",
    "print(np .round(arr,2))"
   ],
   "id": "6e596e00c6f1a5ef",
   "outputs": [
    {
     "name": "stdout",
     "output_type": "stream",
     "text": [
      "88.93780624631627\n",
      "0.99\n",
      "[0.025891200752523935, 0.11307289625715844, 0.2303032525500467, 0.4802544501023813, 0.12600952333244608, 0.45423241883719334, 0.160471285669043, 0.8112242462695792, 0.588785268055028, 0.8370142826485996]\n",
      "[0.61 0.32 0.65 0.52 0.67 0.61 0.82 0.65 0.22 0.3 ]\n"
     ]
    }
   ],
   "execution_count": 115
  },
  {
   "metadata": {},
   "cell_type": "markdown",
   "source": "# 七、数组和数的运算",
   "id": "223477255398225",
   "attachments": {
    "d4db4b6b-1d19-4dca-990c-2de84206d894.png": {
     "image/png": "[encoded data removed]"
    }
   }
  },
  {
   "metadata": {
    "ExecuteTime": {
     "end_time": "2025-07-18T20:46:42.894518Z",
     "start_time": "2025-07-18T20:46:42.884668Z"
    }
   },
   "cell_type": "code",
   "source": [
    "t1 =np .arange(24) .reshape((6 ,4))\n",
    "print(t1)\n",
    "print(\"-\"*20)\n",
    "print(t1+1) #过程：先将2转化为ndarray，然后进行运算\n",
    "print(\"-\"*20)\n",
    "print(t1*2)\n",
    "print(\"-\"*20)\n",
    "print(t1//2)\n",
    "print(\"-\"*20)\n",
    "print(t1/2)"
   ],
   "id": "9f7400b5d79ce707",
   "outputs": [
    {
     "name": "stdout",
     "output_type": "stream",
     "text": [
      "[[ 0  1  2  3]\n",
      " [ 4  5  6  7]\n",
      " [ 8  9 10 11]\n",
      " [12 13 14 15]\n",
      " [16 17 18 19]\n",
      " [20 21 22 23]]\n",
      "--------------------\n",
      "[[ 1  2  3  4]\n",
      " [ 5  6  7  8]\n",
      " [ 9 10 11 12]\n",
      " [13 14 15 16]\n",
      " [17 18 19 20]\n",
      " [21 22 23 24]]\n",
      "--------------------\n",
      "[[ 0  2  4  6]\n",
      " [ 8 10 12 14]\n",
      " [16 18 20 22]\n",
      " [24 26 28 30]\n",
      " [32 34 36 38]\n",
      " [40 42 44 46]]\n",
      "--------------------\n",
      "[[ 0  0  1  1]\n",
      " [ 2  2  3  3]\n",
      " [ 4  4  5  5]\n",
      " [ 6  6  7  7]\n",
      " [ 8  8  9  9]\n",
      " [10 10 11 11]]\n",
      "--------------------\n",
      "[[ 0.   0.5  1.   1.5]\n",
      " [ 2.   2.5  3.   3.5]\n",
      " [ 4.   4.5  5.   5.5]\n",
      " [ 6.   6.5  7.   7.5]\n",
      " [ 8.   8.5  9.   9.5]\n",
      " [10.  10.5 11.  11.5]]\n"
     ]
    }
   ],
   "execution_count": 116
  },
  {
   "metadata": {},
   "cell_type": "markdown",
   "source": "# 八、数组和数组之间的操作",
   "id": "8ef2be053788a64f"
  },
  {
   "metadata": {
    "ExecuteTime": {
     "end_time": "2025-07-18T20:46:42.995024Z",
     "start_time": "2025-07-18T20:46:42.987367Z"
    }
   },
   "cell_type": "code",
   "source": [
    "#同种形状的数组(对应位置进行计算操作)\n",
    "t1 = np .arange(24) .reshape((6 ,4))\n",
    "t2 = np .arange(100 ,124) .reshape((6 ,4))\n",
    "print(t1)\n",
    "print(t2)\n",
    "print(\"-\"*20)\n",
    "print(t1+t2)\n"
   ],
   "id": "d23692da87e62366",
   "outputs": [
    {
     "name": "stdout",
     "output_type": "stream",
     "text": [
      "[[ 0  1  2  3]\n",
      " [ 4  5  6  7]\n",
      " [ 8  9 10 11]\n",
      " [12 13 14 15]\n",
      " [16 17 18 19]\n",
      " [20 21 22 23]]\n",
      "[[100 101 102 103]\n",
      " [104 105 106 107]\n",
      " [108 109 110 111]\n",
      " [112 113 114 115]\n",
      " [116 117 118 119]\n",
      " [120 121 122 123]]\n",
      "--------------------\n",
      "[[100 102 104 106]\n",
      " [108 110 112 114]\n",
      " [116 118 120 122]\n",
      " [124 126 128 130]\n",
      " [132 134 136 138]\n",
      " [140 142 144 146]]\n"
     ]
    }
   ],
   "execution_count": 117
  },
  {
   "metadata": {
    "ExecuteTime": {
     "end_time": "2025-07-18T20:46:43.063795Z",
     "start_time": "2025-07-18T20:46:43.054707Z"
    }
   },
   "cell_type": "code",
   "source": [
    "#不种形状的多维数组不能计算\n",
    "t1 = np .arange(24) .reshape((4 ,6))\n",
    "t2 = np .arange(18) .reshape((3 ,6))\n",
    "print(t1)\n",
    "print(t2)\n",
    "#print(t1-t2)\n",
    "\"\"\"\n",
    "ValueError: operands could not be broadcast together with shapes (4,6) (3,6)\"\"\""
   ],
   "id": "2cb4b0eaeae69470",
   "outputs": [
    {
     "name": "stdout",
     "output_type": "stream",
     "text": [
      "[[ 0  1  2  3  4  5]\n",
      " [ 6  7  8  9 10 11]\n",
      " [12 13 14 15 16 17]\n",
      " [18 19 20 21 22 23]]\n",
      "[[ 0  1  2  3  4  5]\n",
      " [ 6  7  8  9 10 11]\n",
      " [12 13 14 15 16 17]]\n"
     ]
    },
    {
     "data": {
      "text/plain": [
       "'\\nValueError: operands could not be broadcast together with shapes (4,6) (3,6)'"
      ]
     },
     "execution_count": 118,
     "metadata": {},
     "output_type": "execute_result"
    }
   ],
   "execution_count": 118
  },
  {
   "metadata": {
    "ExecuteTime": {
     "end_time": "2025-07-18T20:46:43.137649Z",
     "start_time": "2025-07-18T20:46:43.129673Z"
    }
   },
   "cell_type": "code",
   "source": [
    "#行数或者列数相同的一维数组和多维数组可以进行计算： 行形状相同（会与每一行数组的对应位相操作)\n",
    "t1 = np .arange(24) .reshape((4 ,6))\n",
    "t2 = np .arange(0,6)  #生成一维数组\n",
    "print(t1)\n",
    "print(t2)\n",
    "print(t1-t2)\n"
   ],
   "id": "95575f7facc99a8a",
   "outputs": [
    {
     "name": "stdout",
     "output_type": "stream",
     "text": [
      "[[ 0  1  2  3  4  5]\n",
      " [ 6  7  8  9 10 11]\n",
      " [12 13 14 15 16 17]\n",
      " [18 19 20 21 22 23]]\n",
      "[0 1 2 3 4 5]\n",
      "[[ 0  0  0  0  0  0]\n",
      " [ 6  6  6  6  6  6]\n",
      " [12 12 12 12 12 12]\n",
      " [18 18 18 18 18 18]]\n"
     ]
    }
   ],
   "execution_count": 119
  },
  {
   "metadata": {},
   "cell_type": "markdown",
   "source": [
    "NumPy 自动广播（Broadcasting）机制启动\n",
    "NumPy 自动将 t2 沿着 t1 的行方向进行扩展（复制 4 次），相当于变成：\n",
    "\n",
    "[[0 1 2 3 4 5]\n",
    " [0 1 2 3 4 5]\n",
    " [0 1 2 3 4 5]\n",
    " [0 1 2 3 4 5]]"
   ],
   "id": "71cb8835519050a6"
  },
  {
   "metadata": {
    "ExecuteTime": {
     "end_time": "2025-07-18T20:46:43.207103Z",
     "start_time": "2025-07-18T20:46:43.199690Z"
    }
   },
   "cell_type": "code",
   "source": [
    "# 列形状相同（会与每一个相同维度的数组的对应位相操作)\n",
    "t1 = np .arange(24) .reshape((4 ,6))\n",
    "t2 = np .arange(4) .reshape((4 ,1))\n",
    "print(t1)\n",
    "print(t2)\n",
    "print(t1-t2)"
   ],
   "id": "58dd1f092b47334b",
   "outputs": [
    {
     "name": "stdout",
     "output_type": "stream",
     "text": [
      "[[ 0  1  2  3  4  5]\n",
      " [ 6  7  8  9 10 11]\n",
      " [12 13 14 15 16 17]\n",
      " [18 19 20 21 22 23]]\n",
      "[[0]\n",
      " [1]\n",
      " [2]\n",
      " [3]]\n",
      "[[ 0  1  2  3  4  5]\n",
      " [ 5  6  7  8  9 10]\n",
      " [10 11 12 13 14 15]\n",
      " [15 16 17 18 19 20]]\n"
     ]
    }
   ],
   "execution_count": 120
  },
  {
   "metadata": {
    "ExecuteTime": {
     "end_time": "2025-07-18T20:46:43.277978Z",
     "start_time": "2025-07-18T20:46:43.272027Z"
    }
   },
   "cell_type": "code",
   "source": [
    "# 数组中的轴（axis）\n",
    "# 数组的轴（axis）是指数组中元素的方向。\n",
    "# 数组的轴的数量称为数组的秩（rank）。\n",
    "# 数组的轴的数量决定了数组的维度（dimension）。\n",
    "\n"
   ],
   "id": "45ec0d847f9c53e8",
   "outputs": [],
   "execution_count": 121
  },
  {
   "metadata": {
    "ExecuteTime": {
     "end_time": "2025-07-18T20:46:43.341193Z",
     "start_time": "2025-07-18T20:46:43.315225Z"
    }
   },
   "cell_type": "code",
   "source": [
    "import numpy as np  # 导入 NumPy 库并简写为 np\n",
    "\n",
    "# ---------- 二维数组操作 ----------\n",
    "\n",
    "# 创建一个 2x3 的二维数组\n",
    "a = np.array([[1, 2, 3],\n",
    "              [4, 5, 6]])\n",
    "\n",
    "# 沿 axis=0（列方向）求和，即每列相加：1+4, 2+5, 3+6\n",
    "print(np.sum(a, axis=0))  # 输出: [5 7 9]\n",
    "\n",
    "# 沿 axis=1（行方向）求和，即每行相加：1+2+3, 4+5+6\n",
    "print(np.sum(a, axis=1))  # 输出: [6 15]\n",
    "\n",
    "# 不指定 axis，对所有元素求和\n",
    "print(np.sum(a))          # 输出: 21\n",
    "\n",
    "\n",
    "# ---------- 三维数组操作 ----------\n",
    "\n",
    "# 创建一个 3D 数组，形状为 (2页, 3行, 4列)\n",
    "a = np.arange(24).reshape((2, 3, 4))  # 数值从 0 到 23，依次填充\n",
    "\n",
    "# 打印三维数组 a 的结构\n",
    "print(a)\n",
    "# 示例输出：\n",
    "# [[[ 0  1  2  3]\n",
    "#   [ 4  5  6  7]\n",
    "#   [ 8  9 10 11]]\n",
    "#\n",
    "#  [[12 13 14 15]\n",
    "#   [16 17 18 19]\n",
    "#   [20 21 22 23]]]\n",
    "\n",
    "# 沿 axis=0 求和：跨页相加，对应位置元素加在一起，结果为 (3,4) 的数组\n",
    "b = np.sum(a, axis=0)\n",
    "print(\"-\" * 20)\n",
    "print(b)\n",
    "# 输出：\n",
    "# [[12 14 16 18]\n",
    "#  [20 22 24 26]\n",
    "#  [28 30 32 34]]\n",
    "\n",
    "# 沿 axis=1 求和：每页内部按“行”相加，结果为 (2,4) 的数组\n",
    "c = np.sum(a, axis=1)\n",
    "print(\"-\" * 20)\n",
    "print(c)\n",
    "# 输出：\n",
    "# [[12 15 18 21]\n",
    "#  [48 51 54 57]]\n",
    "\n",
    "# 沿 axis=2 求和：每行内部相加（即列求和），结果为 (2,3) 的数组\n",
    "d = np.sum(a, axis=2)\n",
    "print(\"-\" * 20)\n",
    "print(d)\n",
    "# 输出：\n",
    "# [[ 6 22 38]\n",
    "#  [54 70 86]]"
   ],
   "id": "ebfcfc7bdce917ae",
   "outputs": [
    {
     "name": "stdout",
     "output_type": "stream",
     "text": [
      "[5 7 9]\n",
      "[ 6 15]\n",
      "21\n",
      "[[[ 0  1  2  3]\n",
      "  [ 4  5  6  7]\n",
      "  [ 8  9 10 11]]\n",
      "\n",
      " [[12 13 14 15]\n",
      "  [16 17 18 19]\n",
      "  [20 21 22 23]]]\n",
      "--------------------\n",
      "[[12 14 16 18]\n",
      " [20 22 24 26]\n",
      " [28 30 32 34]]\n",
      "--------------------\n",
      "[[12 15 18 21]\n",
      " [48 51 54 57]]\n",
      "--------------------\n",
      "[[ 6 22 38]\n",
      " [54 70 86]]\n"
     ]
    }
   ],
   "execution_count": 122
  },
  {
   "metadata": {},
   "cell_type": "markdown",
   "source": "# 九、数组的索引和切片",
   "id": "5cb74fb20aa3525a"
  },
  {
   "metadata": {
    "ExecuteTime": {
     "end_time": "2025-07-18T20:46:43.415186Z",
     "start_time": "2025-07-18T20:46:43.407320Z"
    }
   },
   "cell_type": "code",
   "source": [
    "#一维数组\n",
    "import numpy as np\n",
    "a = np.arange(10)\n",
    "\n",
    "# 冒号分隔切片参数 start:stop:step 来进行切片操作print(a[2:7:2])# 从索引 2 开始到索引 7 停止，间隔为 2\n",
    "# 如果只放置一个参数，如 [2]，将返回与该索引相对应的单个元素\n",
    "print(a[2],a)\n",
    "# 如果为 [2:]，表示从该索引开始以后的所有项都将被提取\n",
    "print(a[2:])"
   ],
   "id": "ebb6eb1b20feff36",
   "outputs": [
    {
     "name": "stdout",
     "output_type": "stream",
     "text": [
      "2 [0 1 2 3 4 5 6 7 8 9]\n",
      "[2 3 4 5 6 7 8 9]\n"
     ]
    }
   ],
   "execution_count": 123
  },
  {
   "metadata": {
    "ExecuteTime": {
     "end_time": "2025-07-18T20:46:43.487847Z",
     "start_time": "2025-07-18T20:46:43.472792Z"
    }
   },
   "cell_type": "code",
   "source": [
    "#多维数组\n",
    "import numpy as np\n",
    "t1 = np.arange(24).reshape(4,6)\n",
    "print(t1)\n",
    "print('*'*20)\n",
    "print(t1[1]) # 取一行(一行代表是一条数据，索引也是从0开始的) print(t1[1,:]) # 取一行\n",
    "print('*'*20)\n",
    "print(t1[1:])# 取连续的多行\n",
    "print('*'*20)\n",
    "print(t1[1:3,:])# 取连续的多行\n",
    "print('*'*20)\n",
    "print(t1[[0,2,3]])# 取不连续的多行\n",
    "print('*'*20)\n",
    "print(t1[[0,2,3],:])# 取不连续的多行\n",
    "print('*'*20)\n",
    "print(t1[:,1])# 取一列\n",
    "print('*'*20)\n",
    "print(t1[:,1:])# 连续的多列\n",
    "print('*'*20)\n",
    "print(t1[:,[0,2,3]])# 取不连续的多列\n",
    "print('*'*20)\n",
    "print(t1[2,3])# # 取某一个值,三行四列\n",
    "print('*'*20)"
   ],
   "id": "a326d786fc0efe8",
   "outputs": [
    {
     "name": "stdout",
     "output_type": "stream",
     "text": [
      "[[ 0  1  2  3  4  5]\n",
      " [ 6  7  8  9 10 11]\n",
      " [12 13 14 15 16 17]\n",
      " [18 19 20 21 22 23]]\n",
      "********************\n",
      "[ 6  7  8  9 10 11]\n",
      "********************\n",
      "[[ 6  7  8  9 10 11]\n",
      " [12 13 14 15 16 17]\n",
      " [18 19 20 21 22 23]]\n",
      "********************\n",
      "[[ 6  7  8  9 10 11]\n",
      " [12 13 14 15 16 17]]\n",
      "********************\n",
      "[[ 0  1  2  3  4  5]\n",
      " [12 13 14 15 16 17]\n",
      " [18 19 20 21 22 23]]\n",
      "********************\n",
      "[[ 0  1  2  3  4  5]\n",
      " [12 13 14 15 16 17]\n",
      " [18 19 20 21 22 23]]\n",
      "********************\n",
      "[ 1  7 13 19]\n",
      "********************\n",
      "[[ 1  2  3  4  5]\n",
      " [ 7  8  9 10 11]\n",
      " [13 14 15 16 17]\n",
      " [19 20 21 22 23]]\n",
      "********************\n",
      "[[ 0  2  3]\n",
      " [ 6  8  9]\n",
      " [12 14 15]\n",
      " [18 20 21]]\n",
      "********************\n",
      "15\n",
      "********************\n"
     ]
    }
   ],
   "execution_count": 124
  },
  {
   "metadata": {},
   "cell_type": "markdown",
   "source": "# 十、数组中的数值修改",
   "id": "2f56fc469e33b80d"
  },
  {
   "metadata": {
    "ExecuteTime": {
     "end_time": "2025-07-21T16:09:57.659760Z",
     "start_time": "2025-07-21T16:09:57.644058Z"
    }
   },
   "cell_type": "code",
   "source": [
    "import numpy as np\n",
    "t = np.arange( 24 ).reshape( 4, 6 )\n",
    "print(t)\n",
    "print(id(t))\n",
    "\n",
    "# # 修改某一行的值\n",
    "# t[1, :] = 0\n",
    "# # 修改某一列的值\n",
    "# t[:, 1] = 0\n",
    "# # 修改连续多行\n",
    "# t[1:3, :] = 0\n",
    "# # # 修改连续多列\n",
    "# t[:, 1:4] = 0\n",
    "#\n",
    "# # 修改多行多列，取第二行到第四行，第三列到第五列\n",
    "# t[1:4,2:5]=0 #\n",
    "# # 修改多个不相邻的点\n",
    "# t[[0,1], [0,3]]=0\n",
    "# print(t)\n",
    "# 可以根据条件修改，比如讲小于 10 的值改掉\n",
    "#t[t < 10] = 0\n",
    "# print(t)\n",
    "# 使用逻辑判断\n",
    "# np.logical_and  & # np.logical_or  |\n",
    "# np.logical_not      ~\n",
    "t[(t > 2) & (t < 6)] = 0\n",
    "# 与 t[(t < 2) | (t > 6)] = 0\n",
    "# 或 t[~ (t > 6)] = 0  # 非\n",
    "# print(t)\n",
    "t=t.clip (10,18)\n",
    "print(id(t))\n",
    "t\n"
   ],
   "id": "58287ec0bb49559e",
   "outputs": [
    {
     "name": "stdout",
     "output_type": "stream",
     "text": [
      "[[ 0  1  2  3  4  5]\n",
      " [ 6  7  8  9 10 11]\n",
      " [12 13 14 15 16 17]\n",
      " [18 19 20 21 22 23]]\n",
      "1677642099248\n",
      "1677674519824\n"
     ]
    },
    {
     "data": {
      "text/plain": [
       "array([[10, 10, 10, 10, 10, 10],\n",
       "       [10, 10, 10, 10, 10, 11],\n",
       "       [12, 13, 14, 15, 16, 17],\n",
       "       [18, 18, 18, 18, 18, 18]])"
      ]
     },
     "execution_count": 8,
     "metadata": {},
     "output_type": "execute_result"
    }
   ],
   "execution_count": 8
  },
  {
   "metadata": {
    "ExecuteTime": {
     "end_time": "2025-07-21T16:05:41.468613Z",
     "start_time": "2025-07-21T16:05:41.460631Z"
    }
   },
   "cell_type": "code",
   "source": [
    "# python 三目运算\n",
    "a=10\n",
    "b=20\n",
    "c=a if a>b else b\n",
    "print(c)"
   ],
   "id": "f416c17d253dd5b3",
   "outputs": [
    {
     "name": "stdout",
     "output_type": "stream",
     "text": [
      "20\n"
     ]
    }
   ],
   "execution_count": 6
  },
  {
   "metadata": {},
   "cell_type": "code",
   "outputs": [],
   "execution_count": null,
   "source": [
    "# 拓 展\n",
    "# 三目运算（ np.where(condition, x, y)满足条件(condition)，输出 x，不满足输出 y。)）\n",
    "# score = np.array ( [[80, 88], [82, 81], [75, 81]] )\n",
    "# result = np.where( score > 80, True, False )\n",
    "# print( result )"
   ],
   "id": "4dc0a04debdf8b70"
  },
  {
   "metadata": {
    "ExecuteTime": {
     "end_time": "2025-07-18T20:46:43.664522Z",
     "start_time": "2025-07-18T20:46:43.654511Z"
    }
   },
   "cell_type": "code",
   "source": "# 十一、数组的添加、删除、去重",
   "id": "b58814c6cecb9c0a",
   "outputs": [],
   "execution_count": 126
  },
  {
   "metadata": {
    "ExecuteTime": {
     "end_time": "2025-07-18T20:46:43.721742Z",
     "start_time": "2025-07-18T20:46:43.702426Z"
    }
   },
   "cell_type": "code",
   "source": [
    "# 数组的添加\n",
    "# 1. numpy.append 函数在数组的末尾添加值。 追加操作会分配整个数组，并把原来的数组复 制到新数组中。\n",
    "# 此外，输入数组的维度必须匹配否则将生成ValueError。\n",
    "'''\n",
    "参 数 说 明 ：\n",
    "arr： 输 入 数 组\n",
    "values：要向 arr 添加的值，需要和arr 形状相同（除了要添加的轴）\n",
    "axis：默认为 None。当 axis无定义时，是横向加成，返回总是为一维数组！当 axis有定义的 时候，分别为 0 和 1 的时候。当\n",
    "axis有定义的时候，分别为 0 和 1 的时候（列数要相同）。当 axis为 1 时，数组是加在右边 （行数要相同）。\n",
    "'''\n",
    "import numpy as np\n",
    "\n",
    "a = np.array ([[1, 2, 3], [4, 5, 6]])\n",
    "\n",
    "print('第一个数组：')\n",
    "print(a)\n",
    "print('\\n')\n",
    "\n",
    "print(' 向 数 组 添 加 元 素 ：')\n",
    "print(np.append(a, [7, 8, 9]))\n",
    "print('\\n')\n",
    "\n",
    "print('沿轴 0 添加元素：')\n",
    "print(np.append(a, [[7, 8, 9]], axis=0))\n",
    "print('\\n')\n",
    "\n",
    "print('沿轴 1 添加元素：')\n",
    "print(np.append(a, [[5, 5, 5], [7, 8, 9]], axis=1))\n",
    "\n",
    "# 2. numpy.insert\n",
    "# 函数在给定索引之前，沿给定轴在输入数组中插入值。# 如果值的类型转换为要插入，则它 与输入数组不同。\n",
    "# 插入没有原地的，函数会返回一个新数组。 此外，如果未提供轴，则输入数组会被展开。\n",
    "\n",
    "a = np.array ([[1, 2], [3, 4], [5, 6]])\n",
    "\n",
    "print('第一个数组：')\n",
    "print(a)\n",
    "print('\\n')\n",
    "\n",
    "print('未传递 Axis 参数。 在插入之前输入数组会被展开。')\n",
    "print(np.insert(a, 3, [11, 12]))\n",
    "print('\\n')\n",
    "print('传递了 Axis 参数。 会广播值数组来配输入数组。')\n",
    "\n",
    "\n",
    "print('沿轴  0 广播：')\n",
    "print(np.insert(a, 1, [11], axis=0))\n",
    "print('\\n')\n",
    "\n",
    "print('沿轴  1 广播：')\n",
    "print(np.insert(a, 1, 11, axis=1))"
   ],
   "id": "bbda3e19bb943e2",
   "outputs": [
    {
     "name": "stdout",
     "output_type": "stream",
     "text": [
      "第一个数组：\n",
      "[[1 2 3]\n",
      " [4 5 6]]\n",
      "\n",
      "\n",
      " 向 数 组 添 加 元 素 ：\n",
      "[1 2 3 4 5 6 7 8 9]\n",
      "\n",
      "\n",
      "沿轴 0 添加元素：\n",
      "[[1 2 3]\n",
      " [4 5 6]\n",
      " [7 8 9]]\n",
      "\n",
      "\n",
      "沿轴 1 添加元素：\n",
      "[[1 2 3 5 5 5]\n",
      " [4 5 6 7 8 9]]\n",
      "第一个数组：\n",
      "[[1 2]\n",
      " [3 4]\n",
      " [5 6]]\n",
      "\n",
      "\n",
      "未传递 Axis 参数。 在插入之前输入数组会被展开。\n",
      "[ 1  2  3 11 12  4  5  6]\n",
      "\n",
      "\n",
      "传递了 Axis 参数。 会广播值数组来配输入数组。\n",
      "沿轴  0 广播：\n",
      "[[ 1  2]\n",
      " [11 11]\n",
      " [ 3  4]\n",
      " [ 5  6]]\n",
      "\n",
      "\n",
      "沿轴  1 广播：\n",
      "[[ 1 11  2]\n",
      " [ 3 11  4]\n",
      " [ 5 11  6]]\n"
     ]
    }
   ],
   "execution_count": 127
  },
  {
   "metadata": {
    "ExecuteTime": {
     "end_time": "2025-07-18T20:46:43.769150Z",
     "start_time": "2025-07-18T20:46:43.757358Z"
    }
   },
   "cell_type": "code",
   "source": [
    "# 数组的删除\n",
    "#numpy.delete 函数返回从输入数组中删除指定子数组的新数组。 与 insert() 函数的情况一样，\n",
    "# 如果未提供轴参数， 则输入数组将展开。\n",
    "'''\n",
    "参 数 说 明 ： arr： 输 入 数 组\n",
    "obj：可以被切片，整数或者整数数组，表明要从输入数组删除的子数组axis：\n",
    "沿着它删除给定子数组的轴，如果未提供，则输入数组会被展开'''\n",
    "import numpy as np\n",
    "a = np.arange(12).reshape(3,4)\n",
    "print('第一个数组：')\n",
    "print(a)\n",
    "print('\\n')\n",
    "print('未传递 Axis 参数。 在删除之前输入数组会被展开。')\n",
    "print(np.delete(a,5))\n",
    "print('\\n')\n",
    "print('删除每一行中的第二列：')\n",
    "print(np.delete(a,1,axis = 1))\n",
    "print('\\n')"
   ],
   "id": "b415c7504760da7e",
   "outputs": [
    {
     "name": "stdout",
     "output_type": "stream",
     "text": [
      "第一个数组：\n",
      "[[ 0  1  2  3]\n",
      " [ 4  5  6  7]\n",
      " [ 8  9 10 11]]\n",
      "\n",
      "\n",
      "未传递 Axis 参数。 在删除之前输入数组会被展开。\n",
      "[ 0  1  2  3  4  6  7  8  9 10 11]\n",
      "\n",
      "\n",
      "删除每一行中的第二列：\n",
      "[[ 0  2  3]\n",
      " [ 4  6  7]\n",
      " [ 8 10 11]]\n",
      "\n",
      "\n"
     ]
    }
   ],
   "execution_count": 128
  },
  {
   "metadata": {
    "ExecuteTime": {
     "end_time": "2025-07-21T16:19:37.530271Z",
     "start_time": "2025-07-21T16:19:37.345604Z"
    }
   },
   "cell_type": "code",
   "source": [
    "# 数组的去重\n",
    "# numpy.unique 函数用于去除数组中的重复元素。\n",
    "'''\n",
    "arr：输入数组，如果不是一维数组则会展开\n",
    "return_ index：如果为true，返回新列表元素在旧列表中的位置（下标），并以列表形式储\n",
    "return_ inverse：如果为 true，返回旧列表元素在新列表中的位置（下标），并以列表形式储\n",
    "return_counts：如果为true，返回去重数组中的元素在原数组中的出现次数\n",
    "'''\n",
    "import numpy as np\n",
    "a = np.array ([5,2,6,2,7,5,6,8,2,9])\n",
    "\n",
    "print ('第一个数组：')\n",
    "print (a)\n",
    "print ('\\n')\n",
    "\n",
    "print ('第一个数组的去重值：')\n",
    "u = np.unique(a)\n",
    "print (u)\n",
    "print ('\\n')\n",
    "\n",
    "print ('去重数组的索引数组：')\n",
    "u,indices = np.unique(a, return_index = True)\n",
    "print (indices)\n",
    "print ('\\n')\n",
    "\n",
    "print ('我们可以看到每个和原数组下标对应的数值：')\n",
    "print (a)\n",
    "print ('去重数组的下标：')\n",
    "u,indices = np.unique(a,return_inverse = True)\n",
    "print (u)\n",
    "print (indices)\n",
    "print ('\\n')\n",
    "\n",
    "print ('返回去重元素的重复数量：')\n",
    "u,indices = np.unique(a,return_counts = True)\n",
    "print (u)\n",
    "print (indices)"
   ],
   "id": "499e8433777172e7",
   "outputs": [
    {
     "name": "stdout",
     "output_type": "stream",
     "text": [
      "第一个数组：\n",
      "[5 2 6 2 7 5 6 8 2 9]\n",
      "\n",
      "\n",
      "第一个数组的去重值：\n",
      "[2 5 6 7 8 9]\n",
      "\n",
      "\n",
      "去重数组的索引数组：\n",
      "[1 0 2 4 7 9]\n",
      "\n",
      "\n",
      "我们可以看到每个和原数组下标对应的数值：\n",
      "[5 2 6 2 7 5 6 8 2 9]\n",
      "去重数组的下标：\n",
      "[2 5 6 7 8 9]\n",
      "[1 0 2 0 3 1 2 4 0 5]\n",
      "\n",
      "\n",
      "返回去重元素的重复数量：\n",
      "[2 5 6 7 8 9]\n",
      "[3 2 2 1 1 1]\n"
     ]
    }
   ],
   "execution_count": 9
  },
  {
   "metadata": {},
   "cell_type": "markdown",
   "source": "# 十二、NumPy 的计算（数学函数）",
   "id": "450c3b1d4a3c469f",
   "attachments": {
    "6a15902f-9b17-41ce-a43e-450acd404ab1.png": {
     "image/png": "[encoded data removed]"
    }
   }
  },
  {
   "metadata": {
    "ExecuteTime": {
     "end_time": "2025-07-18T20:46:43.867695Z",
     "start_time": "2025-07-18T20:46:43.861349Z"
    }
   },
   "cell_type": "code",
   "source": [
    "# NumPy 提供了大量的数学函数，可以对数组进行各种计算。\n",
    "# 这些函数包括：\n",
    "# 1. 线性代数函数：用于对数组进行线性代数运算。\n",
    "# 2. 统计函数：用于对数组进行统计运算。\n",
    "# 3. 随机数函数：用于生成随机数。\n",
    "# 4. 排序函数：用于对数组进行排序。\n",
    "# 5. 集成函数：用于对数组进行集成。\n",
    "# 6. 文本处理函数：用于处理文本数据。\n",
    "# 7. 等等。"
   ],
   "id": "d8a5be3bb3c0f064",
   "outputs": [],
   "execution_count": 130
  },
  {
   "metadata": {},
   "cell_type": "markdown",
   "source": "",
   "id": "61e2a3ced92f3618"
  },
  {
   "metadata": {
    "ExecuteTime": {
     "end_time": "2025-07-18T20:46:43.936667Z",
     "start_time": "2025-07-18T20:46:43.912146Z"
    }
   },
   "cell_type": "code",
   "source": [
    "import numpy as np\n",
    "score = np.array ([[80,88],[82,81],[75,81]])\n",
    "# 1. 获取所有数据最大值\n",
    "result = np.max(score)\n",
    "print(result)\n",
    "# 2. 获取某一个轴上的数据最大值,对应的轴消失\n",
    "result = np.max(score,axis=0)\n",
    "print(result)\n",
    "# 3. 获取最小值\n",
    "result = np.min(score)\n",
    "print(result)\n",
    "# 4. 获取某一个轴上的数据最小值\n",
    "result = np.min(score,axis=0)\n",
    "print(result)\n",
    "# 5. 数据的比较\n",
    "result = np.maximum( [-2, -1, 0, 1, 2], 0 )  # 第一个参数中的每一个数与第二个参数比 较返回大的\n",
    "print(result)\n",
    "result = np.minimum( [-2, -1, 0, 1, 2], 0 )  # 第一个参数中的每一个数与第二个参数比 较返回小的\n",
    "print(result)\n",
    "result = np.maximum( [-2, -1, 0, 1, 2], [1, 2, 3, 4, 5] )\n",
    "print(result)\n",
    "# 接受的两个参数，也可以大小一致;第二个参数只是一个单独的值时，其实是用到了维度的广 播机制；\n",
    "\n",
    "\n",
    "\n",
    "\n",
    "\n",
    "'''通用函数：\n",
    "numpy.sqrt(array)  平方根函数\n",
    "numpy.exp (array)   e^array[i]的数组\n",
    "numpy.abs/fabs(array)  计算绝对值\n",
    "numpy.square(array)    计算各元素的平方 等于 array   2\n",
    "numpy.log/log10/log2(array)    计算各元素的各种对数\n",
    "numpy.sign(array)  计算各元素正负号\n",
    "numpy.isnan(array) 计算各元素是否为 NaN\n",
    "numpy.isinf(array) 计算各元素是否为 NaN\n",
    "numpy.cos/cosh/sin/sinh/tan/tanh(array) 三角函数\n",
    "numpy.modf(array)  将 array 中值得整数和小数分离，作两个数组返回\n",
    "numpy.ceil(array)  向上取整,也就是取比这个数大的整数\n",
    "numpy.floor(array) 向下取整,也就是取比这个数小的整数\n",
    "numpy.rint(array)  四舍五入\n",
    "numpy.trunc(array) 向 0 取整\n",
    "numpy.cos(array)   正弦值\n",
    "numpy.sin(array)   余弦值\n",
    "numpy.tan(array)   正切值\n",
    "\n",
    "numpy.add(array1,array2)   元素级加法\n",
    "numpy.subtract(array1,array2)  元素级减法\n",
    "numpy.multiply (array1,array2)  元素级乘法\n",
    "numpy.divide(array1,array2)    元素级除法 array1./array2\n",
    "numpy.power(array1,array2) 元素级指数 array1.^array2\n",
    "numpy.maximum/minimum(array1,aray2) 元素级最大值\n",
    "numpy.fmax/fmin(array1,array2) 元素级最大值，忽略 NaN\n",
    "numpy.mod(array1,array2)   元素级求模\n",
    "numpy.copysign(array1,array2)  将第二个数组中值得符号复制给第一个数组中值\n",
    "\n",
    "\n",
    "numpy.greater/greater_equal/less/less_equal/equal/not_equal (array1,array2)\n",
    "元素级比较运算，产生布尔数组\n",
    "numpy.logical_end/logical_or/logic_xor(array1,array2)元素级的真值逻辑运算\n",
    "'''"
   ],
   "id": "abda07779ef6ad62",
   "outputs": [
    {
     "name": "stdout",
     "output_type": "stream",
     "text": [
      "88\n",
      "[82 88]\n",
      "75\n",
      "[75 81]\n",
      "[0 0 0 1 2]\n",
      "[-2 -1  0  0  0]\n",
      "[1 2 3 4 5]\n",
      "[[1 2 3]\n",
      " [4 5 6]]\n",
      "[[1 2 3]\n",
      " [5 7 9]]\n",
      "[[ 1  3  6]\n",
      " [ 4  9 15]]\n",
      "[2.94392029 3.29983165]\n"
     ]
    },
    {
     "data": {
      "text/plain": [
       "'通用函数：\\nnumpy.sqrt(array)  平方根函数\\nnumpy.exp (array)   e^array[i]的数组\\nnumpy.abs/fabs(array)  计算绝对值\\nnumpy.square(array)    计算各元素的平方 等于 array   2\\nnumpy.log/log10/log2(array)    计算各元素的各种对数\\nnumpy.sign(array)  计算各元素正负号\\nnumpy.isnan(array) 计算各元素是否为 NaN\\nnumpy.isinf(array) 计算各元素是否为 NaN\\nnumpy.cos/cosh/sin/sinh/tan/tanh(array) 三角函数\\nnumpy.modf(array)  将 array 中值得整数和小数分离，作两个数组返回\\nnumpy.ceil(array)  向上取整,也就是取比这个数大的整数\\nnumpy.floor(array) 向下取整,也就是取比这个数小的整数\\nnumpy.rint(array)  四舍五入\\nnumpy.trunc(array) 向 0 取整\\nnumpy.cos(array)   正弦值\\nnumpy.sin(array)   余弦值\\nnumpy.tan(array)   正切值\\n\\nnumpy.add(array1,array2)   元素级加法\\nnumpy.subtract(array1,array2)  元素级减法\\nnumpy.multiply (array1,array2)  元素级乘法\\nnumpy.divide(array1,array2)    元素级除法 array1./array2\\nnumpy.power(array1,array2) 元素级指数 array1.^array2\\nnumpy.maximum/minimum(array1,aray2) 元素级最大值\\nnumpy.fmax/fmin(array1,array2) 元素级最大值，忽略 NaN\\nnumpy.mod(array1,array2)   元素级求模\\nnumpy.copysign(array1,array2)  将第二个数组中值得符号复制给第一个数组中值\\n\\n\\nnumpy.greater/greater_equal/less/less_equal/equal/not_equal (array1,array2)\\n元素级比较运算，产生布尔数组\\nnumpy.logical_end/logical_or/logic_xor(array1,array2)元素级的真值逻辑运算\\n'"
      ]
     },
     "execution_count": 131,
     "metadata": {},
     "output_type": "execute_result"
    }
   ],
   "execution_count": 131
  },
  {
   "metadata": {
    "ExecuteTime": {
     "end_time": "2025-07-21T16:29:35.098741Z",
     "start_time": "2025-07-21T16:29:33.746193Z"
    }
   },
   "cell_type": "code",
   "source": [
    "# 6. 求平均值\n",
    "result = np.mean(score) # 获取所有数据的平均值 print(result)\n",
    "result = np.mean(score,axis=0) # 获取某一行或者某一列的平均值 print(result)\n",
    "# 7. 求前缀和\n",
    "arr    = np.array ([[1,2,3], [4,5,6]])\n",
    "print(arr)\n",
    "print(arr.cumsum(0))\n",
    "'''\n",
    "[1, 2, 3]------>   |1 |2 |3 |\n",
    "[4, 5, 6]------>   |5=1+4 |7=2+5 |9=3+6|\n",
    "'''\n",
    "print(arr.cumsum(1))\n",
    "'''\n",
    "[1, 2, 3]------>   |1 |2+1   |3+2+1 |\n",
    "[4, 5, 6]------>   |4 |4+5   |4+5+6 |\n",
    "'''"
   ],
   "id": "6b192b04b0f76f0c",
   "outputs": [
    {
     "name": "stdout",
     "output_type": "stream",
     "text": [
      "[[1 2 3]\n",
      " [4 5 6]]\n",
      "[[1 2 3]\n",
      " [5 7 9]]\n",
      "[[ 1  3  6]\n",
      " [ 4  9 15]]\n"
     ]
    },
    {
     "data": {
      "text/plain": [
       "'\\n[1, 2, 3]------>   |1 |2+1   |3+2+1 |\\n[4, 5, 6]------>   |4 |4+5   |4+5+6 |\\n'"
      ]
     },
     "execution_count": 10,
     "metadata": {},
     "output_type": "execute_result"
    }
   ],
   "execution_count": 10
  },
  {
   "metadata": {
    "ExecuteTime": {
     "end_time": "2025-07-21T16:31:28.125585Z",
     "start_time": "2025-07-21T16:31:28.108372Z"
    }
   },
   "cell_type": "code",
   "source": [
    "# 8. argmin 求最小值索引\n",
    "result = np.argmin(score,axis=0)\n",
    "res=np.min(score,axis=0) #这样我们就可以知道最小的81 是第二排的，是从前往后遍历的\n",
    "print(result,res)\n",
    "# 9. 求每一列的标准差（这里是总体标准差）\n",
    "# 标准差是一组数据平均值分散程度的一种度量。一个较大的标准差，代表大部分数值和其平 均值之间差异较大；\n",
    "# 一个较小的标准差，代表这些数据较接近平均值反应出数据的波动稳定情况，越大表示波动 越大，越不稳定。\n",
    "result = np.std(score,axis=0)\n",
    "print(result)\n",
    "\n",
    "# 10. 极 值\n",
    "result = np.ptp (score,axis=None)#就是最大值和最小值的差 print(result)\n",
    "# 拓展：方差var, 协方差 cov, 计算平均值 average, 计算中位数 median"
   ],
   "id": "5d61608ce1895088",
   "outputs": [
    {
     "name": "stdout",
     "output_type": "stream",
     "text": [
      "[2 1] [75 81]\n",
      "[2.94392029 3.29983165]\n"
     ]
    }
   ],
   "execution_count": 12
  },
  {
   "metadata": {},
   "cell_type": "markdown",
   "source": "# 十三、数组的拼接与分割",
   "id": "31ed7b1daf4fcb71"
  },
  {
   "metadata": {
    "ExecuteTime": {
     "end_time": "2025-07-21T16:35:25.395161Z",
     "start_time": "2025-07-21T16:35:25.375110Z"
    }
   },
   "cell_type": "code",
   "source": [
    "# 数组的拼接\n",
    "# 有的时候我们需要将两个数据加起来一起研究分析，我们就可以将其进行拼接然后分析\n",
    "import numpy as np\n",
    "# 1. 根据轴连接的数组序列\n",
    "a = np.array ([[1,2],[3,4]])\n",
    "b = np.array ([[5,6],[7,8]])\n",
    "\n",
    "# 要求a,b 两个数组的维度相同\n",
    "# print ('沿轴 0 连接两个数组：')\n",
    "print (np.concatenate((a,b),axis= 0))\n",
    "print ('\\n')"
   ],
   "id": "27bb68071573ac7f",
   "outputs": [
    {
     "name": "stdout",
     "output_type": "stream",
     "text": [
      "[[1 2]\n",
      " [3 4]\n",
      " [5 6]\n",
      " [7 8]]\n",
      "\n",
      "\n"
     ]
    }
   ],
   "execution_count": 13
  },
  {
   "metadata": {},
   "cell_type": "code",
   "outputs": [],
   "execution_count": null,
   "source": [
    "print ('沿轴 1 连接两个数组：')\n",
    "print (np.concatenate((a,b),axis = 1))\n",
    "\n"
   ],
   "id": "8e9a72341a824973"
  },
  {
   "metadata": {},
   "cell_type": "code",
   "outputs": [],
   "execution_count": null,
   "source": [
    "# 2. 根据轴进行堆叠\n",
    "print ('沿轴 0 连接两个数组：')\n",
    "print (np.stack((a,b),axis= 0))\n",
    "print ('\\n')\n",
    "print ('沿轴 1 连接两个数组：')\n",
    "print (np.stack((a,b),axis = 1))\n",
    "\n"
   ],
   "id": "8ec5c322e2be4490"
  },
  {
   "metadata": {},
   "cell_type": "code",
   "outputs": [],
   "execution_count": null,
   "source": [
    "# 3. 矩阵垂直拼接\n",
    "v1 = [[0,1,2,3,4,5],\n",
    "[6,7,8,9,10,11]]\n",
    "v2 = [[12,13,14,15,16,17],\n",
    "[18,19,20,21,22,23]]\n",
    "result = np.vstack((v1,v2))\n",
    "print(result)\n",
    "\n"
   ],
   "id": "d1d5fd056741e402"
  },
  {
   "metadata": {},
   "cell_type": "code",
   "outputs": [],
   "execution_count": null,
   "source": [
    "# 4. 矩阵水平拼接\n",
    "v1 = [[0,1,2,3,4,5],\n",
    "[6,7,8,9,10,11]]\n",
    "v2 = [[12,13,14,15,16,17],\n",
    "[18,19,20,21,22,23]]\n",
    "result = np.hstack((v1,v2))\n",
    "print(result)"
   ],
   "id": "4e8c3c8b20166ec2"
  },
  {
   "metadata": {
    "ExecuteTime": {
     "end_time": "2025-07-18T20:46:44.041854Z",
     "start_time": "2025-07-18T20:46:44.022542Z"
    }
   },
   "cell_type": "code",
   "source": [
    "# 数组的分割\n",
    "# 1. 将一个数组分割为多个子数组\n",
    "'''\n",
    "参数说明：\n",
    "ary：被分割的数组\n",
    "indices_or_ sections：是一个整数，就用该数平均切分，如果是一个数组，为沿轴切分的位置 （左开右闭）\n",
    "axis：沿着哪个维度进行切向，默认为0，横向切分。为 1 时，纵向切分\n",
    "'''\n",
    "import numpy as np\n",
    "arr = np.arange(9).reshape(3,3)\n",
    "print ('将数组分为三个大小相等的子数组：')\n",
    "b = np.split(arr,3)\n",
    "print (b)\n",
    "\n",
    "# 2.numpy.hsplit 函数用于水平分割数组，通过指定要返回的相同形状的数组数量来拆分原数 组。\n",
    "harr = np.floor(10*np.random.random((2, 6)))\n",
    "print ('原 array：')\n",
    "print(harr)\n",
    "\n",
    "print ('拆分后：')\n",
    "print(np.hsplit(harr, 3))\n",
    "\n",
    "# 3.numpy.vsplit 沿着垂直轴分割\n",
    "a = np.arange(16).reshape(4,4)\n",
    "\n",
    "print ('第一个数组：')\n",
    "print (a)\n",
    "print ('\\n')\n",
    "\n",
    "print ('竖直分割：')\n",
    "b = np.vsplit(a,2)\n",
    "print (b)"
   ],
   "id": "498678fe03b235b",
   "outputs": [
    {
     "name": "stdout",
     "output_type": "stream",
     "text": [
      "将数组分为三个大小相等的子数组：\n",
      "[array([[0, 1, 2]]), array([[3, 4, 5]]), array([[6, 7, 8]])]\n",
      "原 array：\n",
      "[[7. 8. 2. 2. 6. 0.]\n",
      " [7. 7. 9. 5. 8. 9.]]\n",
      "拆分后：\n",
      "[array([[7., 8.],\n",
      "       [7., 7.]]), array([[2., 2.],\n",
      "       [9., 5.]]), array([[6., 0.],\n",
      "       [8., 9.]])]\n",
      "第一个数组：\n",
      "[[ 0  1  2  3]\n",
      " [ 4  5  6  7]\n",
      " [ 8  9 10 11]\n",
      " [12 13 14 15]]\n",
      "\n",
      "\n",
      "竖直分割：\n",
      "[array([[0, 1, 2, 3],\n",
      "       [4, 5, 6, 7]]), array([[ 8,  9, 10, 11],\n",
      "       [12, 13, 14, 15]])]\n"
     ]
    }
   ],
   "execution_count": 133
  },
  {
   "metadata": {},
   "cell_type": "markdown",
   "source": "# 十四、数组中的nan和inf",
   "id": "bf9deae471df055f"
  },
  {
   "metadata": {},
   "cell_type": "code",
   "source": [
    "'''\n",
    "C 语言中表示最大的正整数值是 0x7FFF FFFF，最小的负整数是 0x8000 0000。\n",
    "查阅资料后，发现 inf 表示无穷大，需要使用 float(‘inf’) 函数来转化，那么对应的就有 float('-inf') 表示无穷小了。\n",
    "这样你就可以使用任意数来判断和它的关系了。\n",
    "那什么时候会出现 inf 呢？ 比如一个数字除以0，Python 中会报错，但是numpy 中会是一个 inf\n",
    "或者-inf\n",
    "另外还有 nan，这种写法在 pandans 中常见，表示缺失的数据，所以一般用 nan 来表示。\n",
    "任何与其做运算结果都是 nan（比如零除以零，在 numpy 中）\n",
    "'''\n",
    "\n",
    "import numpy as np\n",
    "# 创建一个nan 和 inf #\n",
    "#nan表示Not a Number，表示缺失数据，inf表示无穷大，-inf表示负无穷大\n",
    "a = np.nan\n",
    "b = np.inf\n",
    "print(a,type(a))\n",
    "print(b,type(b))\n",
    "\n",
    "# --判断数组中为nan 的个数\n",
    "t = np.arange(24,dtype=float).reshape(4,6)\n",
    "\n",
    "# 将三行四列的数改成nan\n",
    "t[3,4] = np.nan\n",
    "\n",
    "# 可以使用 np.count_nonzero() 来判断非零的个数\n",
    "print(np.count_nonzero(t))\n",
    "\n",
    "print(np.count_nonzero(t != t))\n",
    "\n",
    "# 将 nan 替换为0\n",
    "t[np.isnan(t)] = 0\n",
    "print(t)\n",
    "\n",
    "# ----------练习： 处理数组中nan\n",
    "t = np.arange(24).reshape(4,6).astype('float')\n",
    "#\n",
    "# 将数组中的一部分替换nan\n",
    "t[1,3:] = np.nan\n",
    "print(t)\n",
    "print('-------------------')\n"
   ],
   "id": "5077c406bd3a7176",
   "execution_count": null,
   "outputs": []
  },
  {
   "metadata": {
    "ExecuteTime": {
     "end_time": "2025-07-21T18:16:36.335905Z",
     "start_time": "2025-07-21T18:16:36.244076Z"
    }
   },
   "cell_type": "code",
   "source": "print(t.shape[1])  #很长的一段代码，不了解的可以拆一部分来理解",
   "id": "97e36fe6bde1874a",
   "outputs": [
    {
     "name": "stdout",
     "output_type": "stream",
     "text": [
      "6\n"
     ]
    }
   ],
   "execution_count": 17
  },
  {
   "metadata": {},
   "cell_type": "code",
   "outputs": [
    {
     "name": "stdout",
     "output_type": "stream",
     "text": [
      "nan <class 'float'>\n",
      "inf <class 'float'>\n",
      "23\n",
      "1\n",
      "[[ 0.  1.  2.  3.  4.  5.]\n",
      " [ 6.  7.  8.  9. 10. 11.]\n",
      " [12. 13. 14. 15. 16. 17.]\n",
      " [18. 19. 20. 21.  0. 23.]]\n",
      "[[ 0.  1.  2.  3.  4.  5.]\n",
      " [ 6.  7.  8. nan nan nan]\n",
      " [12. 13. 14. 15. 16. 17.]\n",
      " [18. 19. 20. 21. 22. 23.]]\n",
      "-------------------\n",
      "[[ 0.  1.  2.  3.  4.  5.]\n",
      " [ 6.  7.  8. 13. 14. 15.]\n",
      " [12. 13. 14. 15. 16. 17.]\n",
      " [18. 19. 20. 21. 22. 23.]]\n"
     ]
    }
   ],
   "execution_count": 134,
   "source": [
    "# 遍历每一列，然后判断每一列是否有nan\n",
    "for i in range(t.shape[1]):\n",
    "    #获取当前列数据\n",
    "    temp_col = t[:,i]\n",
    "\n",
    "    # 判断当前列的数据中是否含有nan\n",
    "    nan_num = np.count_nonzero(temp_col != temp_col)\n",
    "    # 条件成立说明含有nan\n",
    "    if nan_num != 0:\n",
    "        # 将这一列不为nan 的数据拿出来\n",
    "        temp_col_not_nan = temp_col[temp_col == temp_col]\n",
    "\n",
    "        # 将 nan 替换成这一列的平均值\n",
    "        temp_col[np.isnan( temp_col )] = np.mean( temp_col_not_nan )\n",
    "\n",
    "print(t)"
   ],
   "id": "66902e0b11dc21af"
  },
  {
   "metadata": {
    "ExecuteTime": {
     "end_time": "2025-07-21T17:01:07.268344Z",
     "start_time": "2025-07-21T17:01:07.180552Z"
    }
   },
   "cell_type": "code",
   "source": [
    "a = np.nan\n",
    "b = np.nan\n",
    "print(a,type(a))\n",
    "print(b,type(b))\n"
   ],
   "id": "25c466d84354d31e",
   "outputs": [
    {
     "name": "stdout",
     "output_type": "stream",
     "text": [
      "nan <class 'float'>\n",
      "nan <class 'float'>\n"
     ]
    }
   ],
   "execution_count": 15
  },
  {
   "metadata": {
    "ExecuteTime": {
     "end_time": "2025-07-21T17:04:50.950936Z",
     "start_time": "2025-07-21T17:04:50.863053Z"
    }
   },
   "cell_type": "code",
   "source": [
    "# 并 且  np.nan != np.nan    结果 是 TRUE\n",
    "# 所以我们可以使用这两个结合使用判断nan的个数\n",
    "# 或者使用 np.isnan() 来判断是否为nan\n",
    "# 或者使用 np.isfinite() 来判断是否为有限数\n",
    "# 或者使用 np.isinf() 来判断是否为无穷大\n",
    "# 或者使用 np.isneginf() 来判断是否为负无穷大\n",
    "# 或者使用 np.isposinf() 来判断是否为正无穷大\n",
    "print(np.nan == np.nan)\n",
    "print(True==1)\n",
    "print(False==0)\n",
    "np.nan+1   # nan和其他数运算结果还是nan"
   ],
   "id": "863e0bd48e02a3c9",
   "outputs": [
    {
     "name": "stdout",
     "output_type": "stream",
     "text": [
      "False\n",
      "True\n",
      "True\n"
     ]
    },
    {
     "data": {
      "text/plain": [
       "nan"
      ]
     },
     "execution_count": 16,
     "metadata": {},
     "output_type": "execute_result"
    }
   ],
   "execution_count": 16
  },
  {
   "metadata": {},
   "cell_type": "markdown",
   "source": "# 十五、二维数组的转置，轴滚动",
   "id": "364cf2d181d391cb"
  },
  {
   "metadata": {
    "ExecuteTime": {
     "end_time": "2025-07-21T18:27:34.390988Z",
     "start_time": "2025-07-21T18:27:34.371475Z"
    }
   },
   "cell_type": "code",
   "source": "np.inf>-np.inf # 结果是True，表示infz正无穷大大于-inff负无穷大",
   "id": "33acf1846935b9e8",
   "outputs": [
    {
     "data": {
      "text/plain": [
       "True"
      ]
     },
     "execution_count": 19,
     "metadata": {},
     "output_type": "execute_result"
    }
   ],
   "execution_count": 19
  },
  {
   "metadata": {
    "ExecuteTime": {
     "end_time": "2025-07-21T18:38:47.370614Z",
     "start_time": "2025-07-21T18:38:47.354658Z"
    }
   },
   "cell_type": "code",
   "source": [
    "#对换数组的维度\n",
    "import numpy as np\n",
    "a = np.arange(12).reshape(3,4)\n",
    "print ('原数组：')\n",
    "print (a )\n",
    "\n",
    "print ('对换数组：')\n",
    "print (np.transpose(a))\n",
    "\n",
    "# 与 transpose 一致\n",
    "a = np.arange(12).reshape(3,4)\n",
    "\n",
    "print ('原数组：')\n",
    "print (a)\n",
    "\n",
    "print ('转置数组：')\n",
    "print (a.T)\n"
   ],
   "id": "35c5d5c288bfbb9f",
   "outputs": [
    {
     "name": "stdout",
     "output_type": "stream",
     "text": [
      "原数组：\n",
      "[[ 0  1  2  3]\n",
      " [ 4  5  6  7]\n",
      " [ 8  9 10 11]]\n",
      "对换数组：\n",
      "[[ 0  4  8]\n",
      " [ 1  5  9]\n",
      " [ 2  6 10]\n",
      " [ 3  7 11]]\n",
      "原数组：\n",
      "[[ 0  1  2  3]\n",
      " [ 4  5  6  7]\n",
      " [ 8  9 10 11]]\n",
      "转置数组：\n",
      "[[ 0  4  8]\n",
      " [ 1  5  9]\n",
      " [ 2  6 10]\n",
      " [ 3  7 11]]\n"
     ]
    }
   ],
   "execution_count": 39
  },
  {
   "metadata": {
    "ExecuteTime": {
     "end_time": "2025-07-21T18:38:52.696142Z",
     "start_time": "2025-07-21T18:38:52.686758Z"
    }
   },
   "cell_type": "code",
   "source": [
    "# 函数用于交换数组的两个轴\n",
    "t1 = np.arange(24).reshape(4,6)\n",
    "re = t1.swapaxes(1,0)\n",
    "print (' 原 数 组 ：')\n",
    "print (t1)\n",
    "print ('调用 swapaxes 函数后的数组：')\n",
    "print (re)  #数据不用记住，不用观察\n",
    "\n",
    "t=np.rollaxis(t,1,0)\n",
    "print(t.shape)"
   ],
   "id": "9ad6ce6b910a0d26",
   "outputs": [
    {
     "name": "stdout",
     "output_type": "stream",
     "text": [
      " 原 数 组 ：\n",
      "[[ 0  1  2  3  4  5]\n",
      " [ 6  7  8  9 10 11]\n",
      " [12 13 14 15 16 17]\n",
      " [18 19 20 21 22 23]]\n",
      "调用 swapaxes 函数后的数组：\n",
      "[[ 0  6 12 18]\n",
      " [ 1  7 13 19]\n",
      " [ 2  8 14 20]\n",
      " [ 3  9 15 21]\n",
      " [ 4 10 16 22]\n",
      " [ 5 11 17 23]]\n",
      "(6, 4)\n"
     ]
    }
   ],
   "execution_count": 40
  },
  {
   "metadata": {
    "ExecuteTime": {
     "end_time": "2025-07-21T18:38:05.820269Z",
     "start_time": "2025-07-21T18:38:05.812289Z"
    }
   },
   "cell_type": "code",
   "source": [
    "#3维及以上，称为轴交换\n",
    "t1 = np.arange(24).reshape(2,3,4)\n",
    "print(t1.shape)\n",
    "t2 = np.swapaxes(t1,1,2)\n",
    "print(t2.shape) # 2,4,3\n",
    "t3 = np.swapaxes(t2,2,1)\n",
    "print(t3.shape) # 2,3,4  与原数组相同"
   ],
   "id": "260b39fc74f5d6c3",
   "outputs": [
    {
     "name": "stdout",
     "output_type": "stream",
     "text": [
      "(2, 3, 4)\n",
      "(2, 4, 3)\n",
      "(2, 3, 4)\n"
     ]
    }
   ],
   "execution_count": 38
  },
  {
   "metadata": {},
   "cell_type": "markdown",
   "source": "# 十六、NumPy 数组的保存与读取",
   "id": "40e9e5d147e64a37"
  },
  {
   "metadata": {
    "ExecuteTime": {
     "end_time": "2025-07-21T18:34:58.872187Z",
     "start_time": "2025-07-21T18:34:58.503893Z"
    }
   },
   "cell_type": "code",
   "source": [
    "# coding=utf-8\n",
    "import numpy as np\n",
    "\n",
    "us_file_path = \"./youtube_video_data/US_video_data_numbers.csv\"\n",
    "uk_file_path = \"./youtube_video_data/GB_video_data_numbers.csv\"\n",
    "\n",
    "t1 = np.loadtxt(us_file_path,delimiter=\",\",dtype=\"int\",unpack=True)\n",
    "t2 = np.loadtxt(us_file_path,delimiter=\",\",dtype=\"int\")\n",
    "\n",
    "# print(t1)\n",
    "print(\"*\"*100)\n",
    "print(t2)\n",
    "print(\"*\"*100)\n",
    "#取行\n",
    "\n",
    "\n",
    "# print(t2[2])\n",
    "# print(\"*\"*100)\n",
    "#取连续的多行\n",
    "# print(t2[2:])\n",
    "# print(\"*\"*100)\n",
    "#取不连续的多行\n",
    "# print(t2[[2,8,10]])\n",
    "\n",
    "# print(t2[1, :])\n",
    "# print(\"*\"*100)\n",
    "# print(t2[2:, :])\n",
    "# print(\"*\"*100)\n",
    "# print(t2[[2,10,3], :])\n",
    "\n",
    "\n",
    "# print(t2[:,0])\n",
    "\n",
    "#取连续的多列\n",
    "# print(t2[:,2:])\n",
    "\n",
    "#取不连续的多列\n",
    "# print(t2[:, [0,2]])\n",
    "\n",
    "#去行和列，取第 3 行，第四列的值\n",
    "# a = t2[2,3]\n",
    "# print(a)\n",
    "# print(type(a))\n",
    "\n",
    "#取多行和多列，取第 3 行到第五行，第 2 列到第 4 列的结果\n",
    "#去的是行和列交叉点的位置\n",
    "b = t2[2:5,1:4]\n",
    "print(b)\n",
    "print(\"*\"*100)\n",
    "#取多个不相邻的点\n",
    "#选出来的结果是（0，0） （2，1） （2，3）\n",
    "c = t2[[0,2,2],[0,1,3]]\n",
    "print(c)"
   ],
   "id": "db201c66f653e99c",
   "outputs": [
    {
     "ename": "FileNotFoundError",
     "evalue": "./youtube_video_data/US_video_data_numbers.csv not found.",
     "output_type": "error",
     "traceback": [
      "\u001B[31m---------------------------------------------------------------------------\u001B[39m",
      "\u001B[31mFileNotFoundError\u001B[39m                         Traceback (most recent call last)",
      "\u001B[36mCell\u001B[39m\u001B[36m \u001B[39m\u001B[32mIn[26]\u001B[39m\u001B[32m, line 7\u001B[39m\n\u001B[32m      4\u001B[39m us_file_path = \u001B[33m\"\u001B[39m\u001B[33m./youtube_video_data/US_video_data_numbers.csv\u001B[39m\u001B[33m\"\u001B[39m\n\u001B[32m      5\u001B[39m uk_file_path = \u001B[33m\"\u001B[39m\u001B[33m./youtube_video_data/GB_video_data_numbers.csv\u001B[39m\u001B[33m\"\u001B[39m\n\u001B[32m----> \u001B[39m\u001B[32m7\u001B[39m t1 = \u001B[43mnp\u001B[49m\u001B[43m.\u001B[49m\u001B[43mloadtxt\u001B[49m\u001B[43m(\u001B[49m\u001B[43mus_file_path\u001B[49m\u001B[43m,\u001B[49m\u001B[43mdelimiter\u001B[49m\u001B[43m=\u001B[49m\u001B[33;43m\"\u001B[39;49m\u001B[33;43m,\u001B[39;49m\u001B[33;43m\"\u001B[39;49m\u001B[43m,\u001B[49m\u001B[43mdtype\u001B[49m\u001B[43m=\u001B[49m\u001B[33;43m\"\u001B[39;49m\u001B[33;43mint\u001B[39;49m\u001B[33;43m\"\u001B[39;49m\u001B[43m,\u001B[49m\u001B[43munpack\u001B[49m\u001B[43m=\u001B[49m\u001B[38;5;28;43;01mTrue\u001B[39;49;00m\u001B[43m)\u001B[49m\n\u001B[32m      8\u001B[39m t2 = np.loadtxt(us_file_path,delimiter=\u001B[33m\"\u001B[39m\u001B[33m,\u001B[39m\u001B[33m\"\u001B[39m,dtype=\u001B[33m\"\u001B[39m\u001B[33mint\u001B[39m\u001B[33m\"\u001B[39m)\n\u001B[32m     10\u001B[39m \u001B[38;5;66;03m# print(t1)\u001B[39;00m\n",
      "\u001B[36mFile \u001B[39m\u001B[32m~\\AppData\\Local\\Programs\\Python\\Python312\\Lib\\site-packages\\numpy\\lib\\npyio.py:1373\u001B[39m, in \u001B[36mloadtxt\u001B[39m\u001B[34m(fname, dtype, comments, delimiter, converters, skiprows, usecols, unpack, ndmin, encoding, max_rows, quotechar, like)\u001B[39m\n\u001B[32m   1370\u001B[39m \u001B[38;5;28;01mif\u001B[39;00m \u001B[38;5;28misinstance\u001B[39m(delimiter, \u001B[38;5;28mbytes\u001B[39m):\n\u001B[32m   1371\u001B[39m     delimiter = delimiter.decode(\u001B[33m'\u001B[39m\u001B[33mlatin1\u001B[39m\u001B[33m'\u001B[39m)\n\u001B[32m-> \u001B[39m\u001B[32m1373\u001B[39m arr = \u001B[43m_read\u001B[49m\u001B[43m(\u001B[49m\u001B[43mfname\u001B[49m\u001B[43m,\u001B[49m\u001B[43m \u001B[49m\u001B[43mdtype\u001B[49m\u001B[43m=\u001B[49m\u001B[43mdtype\u001B[49m\u001B[43m,\u001B[49m\u001B[43m \u001B[49m\u001B[43mcomment\u001B[49m\u001B[43m=\u001B[49m\u001B[43mcomment\u001B[49m\u001B[43m,\u001B[49m\u001B[43m \u001B[49m\u001B[43mdelimiter\u001B[49m\u001B[43m=\u001B[49m\u001B[43mdelimiter\u001B[49m\u001B[43m,\u001B[49m\n\u001B[32m   1374\u001B[39m \u001B[43m            \u001B[49m\u001B[43mconverters\u001B[49m\u001B[43m=\u001B[49m\u001B[43mconverters\u001B[49m\u001B[43m,\u001B[49m\u001B[43m \u001B[49m\u001B[43mskiplines\u001B[49m\u001B[43m=\u001B[49m\u001B[43mskiprows\u001B[49m\u001B[43m,\u001B[49m\u001B[43m \u001B[49m\u001B[43musecols\u001B[49m\u001B[43m=\u001B[49m\u001B[43musecols\u001B[49m\u001B[43m,\u001B[49m\n\u001B[32m   1375\u001B[39m \u001B[43m            \u001B[49m\u001B[43munpack\u001B[49m\u001B[43m=\u001B[49m\u001B[43munpack\u001B[49m\u001B[43m,\u001B[49m\u001B[43m \u001B[49m\u001B[43mndmin\u001B[49m\u001B[43m=\u001B[49m\u001B[43mndmin\u001B[49m\u001B[43m,\u001B[49m\u001B[43m \u001B[49m\u001B[43mencoding\u001B[49m\u001B[43m=\u001B[49m\u001B[43mencoding\u001B[49m\u001B[43m,\u001B[49m\n\u001B[32m   1376\u001B[39m \u001B[43m            \u001B[49m\u001B[43mmax_rows\u001B[49m\u001B[43m=\u001B[49m\u001B[43mmax_rows\u001B[49m\u001B[43m,\u001B[49m\u001B[43m \u001B[49m\u001B[43mquote\u001B[49m\u001B[43m=\u001B[49m\u001B[43mquotechar\u001B[49m\u001B[43m)\u001B[49m\n\u001B[32m   1378\u001B[39m \u001B[38;5;28;01mreturn\u001B[39;00m arr\n",
      "\u001B[36mFile \u001B[39m\u001B[32m~\\AppData\\Local\\Programs\\Python\\Python312\\Lib\\site-packages\\numpy\\lib\\npyio.py:992\u001B[39m, in \u001B[36m_read\u001B[39m\u001B[34m(fname, delimiter, comment, quote, imaginary_unit, usecols, skiplines, max_rows, converters, ndmin, unpack, dtype, encoding)\u001B[39m\n\u001B[32m    990\u001B[39m     fname = os.fspath(fname)\n\u001B[32m    991\u001B[39m \u001B[38;5;28;01mif\u001B[39;00m \u001B[38;5;28misinstance\u001B[39m(fname, \u001B[38;5;28mstr\u001B[39m):\n\u001B[32m--> \u001B[39m\u001B[32m992\u001B[39m     fh = \u001B[43mnp\u001B[49m\u001B[43m.\u001B[49m\u001B[43mlib\u001B[49m\u001B[43m.\u001B[49m\u001B[43m_datasource\u001B[49m\u001B[43m.\u001B[49m\u001B[43mopen\u001B[49m\u001B[43m(\u001B[49m\u001B[43mfname\u001B[49m\u001B[43m,\u001B[49m\u001B[43m \u001B[49m\u001B[33;43m'\u001B[39;49m\u001B[33;43mrt\u001B[39;49m\u001B[33;43m'\u001B[39;49m\u001B[43m,\u001B[49m\u001B[43m \u001B[49m\u001B[43mencoding\u001B[49m\u001B[43m=\u001B[49m\u001B[43mencoding\u001B[49m\u001B[43m)\u001B[49m\n\u001B[32m    993\u001B[39m     \u001B[38;5;28;01mif\u001B[39;00m encoding \u001B[38;5;129;01mis\u001B[39;00m \u001B[38;5;28;01mNone\u001B[39;00m:\n\u001B[32m    994\u001B[39m         encoding = \u001B[38;5;28mgetattr\u001B[39m(fh, \u001B[33m'\u001B[39m\u001B[33mencoding\u001B[39m\u001B[33m'\u001B[39m, \u001B[33m'\u001B[39m\u001B[33mlatin1\u001B[39m\u001B[33m'\u001B[39m)\n",
      "\u001B[36mFile \u001B[39m\u001B[32m~\\AppData\\Local\\Programs\\Python\\Python312\\Lib\\site-packages\\numpy\\lib\\_datasource.py:193\u001B[39m, in \u001B[36mopen\u001B[39m\u001B[34m(path, mode, destpath, encoding, newline)\u001B[39m\n\u001B[32m    156\u001B[39m \u001B[38;5;250m\u001B[39m\u001B[33;03m\"\"\"\u001B[39;00m\n\u001B[32m    157\u001B[39m \u001B[33;03mOpen `path` with `mode` and return the file object.\u001B[39;00m\n\u001B[32m    158\u001B[39m \n\u001B[32m   (...)\u001B[39m\u001B[32m    189\u001B[39m \n\u001B[32m    190\u001B[39m \u001B[33;03m\"\"\"\u001B[39;00m\n\u001B[32m    192\u001B[39m ds = DataSource(destpath)\n\u001B[32m--> \u001B[39m\u001B[32m193\u001B[39m \u001B[38;5;28;01mreturn\u001B[39;00m \u001B[43mds\u001B[49m\u001B[43m.\u001B[49m\u001B[43mopen\u001B[49m\u001B[43m(\u001B[49m\u001B[43mpath\u001B[49m\u001B[43m,\u001B[49m\u001B[43m \u001B[49m\u001B[43mmode\u001B[49m\u001B[43m,\u001B[49m\u001B[43m \u001B[49m\u001B[43mencoding\u001B[49m\u001B[43m=\u001B[49m\u001B[43mencoding\u001B[49m\u001B[43m,\u001B[49m\u001B[43m \u001B[49m\u001B[43mnewline\u001B[49m\u001B[43m=\u001B[49m\u001B[43mnewline\u001B[49m\u001B[43m)\u001B[49m\n",
      "\u001B[36mFile \u001B[39m\u001B[32m~\\AppData\\Local\\Programs\\Python\\Python312\\Lib\\site-packages\\numpy\\lib\\_datasource.py:533\u001B[39m, in \u001B[36mDataSource.open\u001B[39m\u001B[34m(self, path, mode, encoding, newline)\u001B[39m\n\u001B[32m    530\u001B[39m     \u001B[38;5;28;01mreturn\u001B[39;00m _file_openers[ext](found, mode=mode,\n\u001B[32m    531\u001B[39m                               encoding=encoding, newline=newline)\n\u001B[32m    532\u001B[39m \u001B[38;5;28;01melse\u001B[39;00m:\n\u001B[32m--> \u001B[39m\u001B[32m533\u001B[39m     \u001B[38;5;28;01mraise\u001B[39;00m \u001B[38;5;167;01mFileNotFoundError\u001B[39;00m(\u001B[33mf\u001B[39m\u001B[33m\"\u001B[39m\u001B[38;5;132;01m{\u001B[39;00mpath\u001B[38;5;132;01m}\u001B[39;00m\u001B[33m not found.\u001B[39m\u001B[33m\"\u001B[39m)\n",
      "\u001B[31mFileNotFoundError\u001B[39m: ./youtube_video_data/US_video_data_numbers.csv not found."
     ]
    }
   ],
   "execution_count": 26
  },
  {
   "metadata": {},
   "cell_type": "markdown",
   "source": "# 十七、NumPy 结合 Matplotlib 绘直方图",
   "id": "6ce7f847007d298e"
  },
  {
   "metadata": {},
   "cell_type": "code",
   "outputs": [],
   "execution_count": null,
   "source": [
    "import numpy as np\n",
    "from matplotlib import  pyplot as plt\n",
    "\n",
    "us_file_path = \"./youtube_video_data/US_video_data_numbers.csv\"\n",
    "uk_file_path = \"./youtube_video_data/GB_video_data_numbers.csv\"\n",
    "\n",
    "# t1 = np.loadtxt(us_file_path,delimiter=\", \",dtype=\"int\",unpack=True)\n",
    "t_us = np.loadtxt(us_file_path,delimiter=\",\",dtype=\"int\")\n",
    "\n",
    "# 取评论的数据\n",
    "t_us_comments = t_us[:,-1]\n",
    "\n",
    "# 怎么知道分多少，打印最大和最小值\n",
    "print(t_us_comments.max(),t_us_comments.min())\n",
    "\n",
    "d = 10000\n",
    "bin_nums = (t_us_comments.max()-t_us_comments.min())//d\n",
    "# 绘图\n",
    "plt.figure(fig size=(20,8),dpi=80)\n",
    "plt.hist(t_us_comments,bin_nums)\n",
    "\n",
    "plt.show()"
   ],
   "id": "112004851e223542"
  },
  {
   "metadata": {},
   "cell_type": "code",
   "outputs": [],
   "execution_count": null,
   "source": [
    "import numpy as np\n",
    "from matplotlib import pyplot as p lt\n",
    "\n",
    "us_file_path = \"./youtube_video_data/US_video_data_numbers.csv\"\n",
    "uk_file_path = \"./youtube_video_data/GB_video_data_numbers.csv\"\n",
    "\n",
    "# t1 = np.loadtxt(us_file_path,delimiter=\", \",dtype=\"int\",unpack=True)\n",
    "t_us = np.loadtxt(us_file_path,delimiter=\",\",dtype=\"int\")\n",
    "\n",
    "#取评论的数据\n",
    "t_us_comments = t_us[:,-1]\n",
    "\n",
    "#选择比 5000 小的数据\n",
    "t_us_comments = t_us_comments[t_us_comments<=5000]\n",
    "\n",
    "print(t_us_comments.max(),t_us_comments.min())\n",
    "\n",
    "d = 50\n",
    "bin_nums = (t_us_comments.max()-t_us_comments.min())//d\n",
    "\n",
    "#绘图\n",
    "plt.figure(fig size=(20,8),dpi=80)\n",
    "\n",
    "plt.hist(t_us_comments,bin_nums)\n",
    "\n",
    "plt.show()"
   ],
   "id": "4932f72a15554974"
  },
  {
   "metadata": {},
   "cell_type": "code",
   "outputs": [],
   "execution_count": null,
   "source": [
    "import numpy as np\n",
    "from matplotlib import pyplot as plt\n",
    "\n",
    "us_file_path = \"./youtube_video_data/US_video_data_numbers.csv\"\n",
    "uk_file_path = \"./youtube_video_data/GB_video_data_numbers.csv\"\n",
    "\n",
    "# t1 = np.loadtxt(us_file_path,delimiter=\", \",dtype=\"int\",unpack=True)\n",
    "t_uk = np.loadtxt(uk_file_path,delimiter=\",\",dtype=\"int\")\n",
    "\n",
    "#选择喜欢数比 50 万小的数据\n",
    "# t_uk = t_uk[t_uk[:,1]<=500000]\n",
    "\n",
    "t_uk_comment = t_uk[:,-1]\n",
    "t_uk_like = t_uk[:,1]\n",
    "\n",
    "plt.figure(fig size=(20,8),dpi=80)\n",
    "plt.scatter(t_uk_like,t_uk_comment)\n",
    "\n",
    "plt.show()"
   ],
   "id": "9e9a383b44f047a4"
  }
 ],
 "metadata": {
  "kernelspec": {
   "display_name": "Python 3",
   "language": "python",
   "name": "python3"
  },
  "language_info": {
   "codemirror_mode": {
    "name": "ipython",
    "version": 2
   },
   "file_extension": ".py",
   "mimetype": "text/x-python",
   "name": "python",
   "nbconvert_exporter": "python",
   "pygments_lexer": "ipython2",
   "version": "2.7.6"
  }
 },
 "nbformat": 4,
 "nbformat_minor": 5
}
