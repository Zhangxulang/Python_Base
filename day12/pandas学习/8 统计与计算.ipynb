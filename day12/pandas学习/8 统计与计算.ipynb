{
 "cells": [
  {
   "cell_type": "code",
   "metadata": {
    "collapsed": true,
    "ExecuteTime": {
     "end_time": "2025-07-22T07:18:22.436432Z",
     "start_time": "2025-07-22T07:18:22.066322Z"
    }
   },
   "source": [
    "import pandas as pd\n",
    "import numpy as np\n",
    "index1 = pd.MultiIndex.from_arrays([['a', 'a', 'a', 'b', 'b', 'b', 'c', 'c', 'c', 'd', 'd', 'd'],\n",
    "                [0, 1, 2, 0, 1, 2, 0, 1, 2, 0, 1, 2]], names=['cloth', 'size'])\n",
    "\n",
    "ser_obj = pd.Series(np.random.randn(12),index=index1)\n",
    "df_obj=ser_obj.unstack(0)\n",
    "print(df_obj)\n",
    "#计算最小值有空值如何处理\n",
    "df_obj.loc[0,'b']=np.nan\n",
    "print(df_obj)\n",
    "print('-'*50)\n",
    "print(df_obj.min(axis=0))"
   ],
   "outputs": [
    {
     "name": "stdout",
     "output_type": "stream",
     "text": [
      "cloth         a         b         c         d\n",
      "size                                         \n",
      "0      0.139474 -1.035805  1.314192 -1.683199\n",
      "1      1.270671 -1.088835 -1.628645  2.685840\n",
      "2      0.153831  0.308242  0.391148 -2.087794\n",
      "cloth         a         b         c         d\n",
      "size                                         \n",
      "0      0.139474       NaN  1.314192 -1.683199\n",
      "1      1.270671 -1.088835 -1.628645  2.685840\n",
      "2      0.153831  0.308242  0.391148 -2.087794\n",
      "--------------------------------------------------\n",
      "cloth\n",
      "a    0.139474\n",
      "b   -1.088835\n",
      "c   -1.628645\n",
      "d   -2.087794\n",
      "dtype: float64\n"
     ]
    }
   ],
   "execution_count": 22
  },
  {
   "metadata": {
    "ExecuteTime": {
     "end_time": "2025-07-22T07:18:22.578778Z",
     "start_time": "2025-07-22T07:18:22.559227Z"
    }
   },
   "cell_type": "code",
   "source": "df_obj",
   "outputs": [
    {
     "data": {
      "text/plain": [
       "cloth         a         b         c         d\n",
       "size                                         \n",
       "0      0.139474       NaN  1.314192 -1.683199\n",
       "1      1.270671 -1.088835 -1.628645  2.685840\n",
       "2      0.153831  0.308242  0.391148 -2.087794"
      ],
      "text/html": [
       "<div>\n",
       "<style scoped>\n",
       "    .dataframe tbody tr th:only-of-type {\n",
       "        vertical-align: middle;\n",
       "    }\n",
       "\n",
       "    .dataframe tbody tr th {\n",
       "        vertical-align: top;\n",
       "    }\n",
       "\n",
       "    .dataframe thead th {\n",
       "        text-align: right;\n",
       "    }\n",
       "</style>\n",
       "<table border=\"1\" class=\"dataframe\">\n",
       "  <thead>\n",
       "    <tr style=\"text-align: right;\">\n",
       "      <th>cloth</th>\n",
       "      <th>a</th>\n",
       "      <th>b</th>\n",
       "      <th>c</th>\n",
       "      <th>d</th>\n",
       "    </tr>\n",
       "    <tr>\n",
       "      <th>size</th>\n",
       "      <th></th>\n",
       "      <th></th>\n",
       "      <th></th>\n",
       "      <th></th>\n",
       "    </tr>\n",
       "  </thead>\n",
       "  <tbody>\n",
       "    <tr>\n",
       "      <th>0</th>\n",
       "      <td>0.139474</td>\n",
       "      <td>NaN</td>\n",
       "      <td>1.314192</td>\n",
       "      <td>-1.683199</td>\n",
       "    </tr>\n",
       "    <tr>\n",
       "      <th>1</th>\n",
       "      <td>1.270671</td>\n",
       "      <td>-1.088835</td>\n",
       "      <td>-1.628645</td>\n",
       "      <td>2.685840</td>\n",
       "    </tr>\n",
       "    <tr>\n",
       "      <th>2</th>\n",
       "      <td>0.153831</td>\n",
       "      <td>0.308242</td>\n",
       "      <td>0.391148</td>\n",
       "      <td>-2.087794</td>\n",
       "    </tr>\n",
       "  </tbody>\n",
       "</table>\n",
       "</div>"
      ]
     },
     "execution_count": 23,
     "metadata": {},
     "output_type": "execute_result"
    }
   ],
   "execution_count": 23
  },
  {
   "cell_type": "code",
   "source": [
    "#观察数据分布的一种 非常常用方法\n",
    "print(df_obj.describe())"
   ],
   "metadata": {
    "collapsed": false,
    "ExecuteTime": {
     "end_time": "2025-07-22T07:18:22.736676Z",
     "start_time": "2025-07-22T07:18:22.706652Z"
    }
   },
   "outputs": [
    {
     "name": "stdout",
     "output_type": "stream",
     "text": [
      "cloth         a         b         c         d\n",
      "count  3.000000  2.000000  3.000000  3.000000\n",
      "mean   0.521325 -0.390296  0.025565 -0.361718\n",
      "std    0.648992  0.987883  1.505095  2.647004\n",
      "min    0.139474 -1.088835 -1.628645 -2.087794\n",
      "25%    0.146653 -0.739566 -0.618749 -1.885497\n",
      "50%    0.153831 -0.390296  0.391148 -1.683199\n",
      "75%    0.712251 -0.041027  0.852670  0.501320\n",
      "max    1.270671  0.308242  1.314192  2.685840\n"
     ]
    }
   ],
   "execution_count": 24
  },
  {
   "cell_type": "code",
   "source": [
    "df_obj.loc[:,'c']"
   ],
   "metadata": {
    "collapsed": false,
    "pycharm": {
     "name": "#%%\n"
    },
    "ExecuteTime": {
     "end_time": "2025-07-22T07:18:22.956996Z",
     "start_time": "2025-07-22T07:18:22.946116Z"
    }
   },
   "outputs": [
    {
     "data": {
      "text/plain": [
       "size\n",
       "0    1.314192\n",
       "1   -1.628645\n",
       "2    0.391148\n",
       "Name: c, dtype: float64"
      ]
     },
     "execution_count": 25,
     "metadata": {},
     "output_type": "execute_result"
    }
   ],
   "execution_count": 25
  },
  {
   "cell_type": "code",
   "source": [
    "#计算最小值或者最大值的索引的位置\n",
    "print(df_obj.loc[:,'c'].argmin())#argmin和argmax只能是series，不能是df"
   ],
   "metadata": {
    "collapsed": false,
    "pycharm": {
     "name": "#%%\n"
    },
    "ExecuteTime": {
     "end_time": "2025-07-22T07:18:23.223035Z",
     "start_time": "2025-07-22T07:18:23.212548Z"
    }
   },
   "outputs": [
    {
     "name": "stdout",
     "output_type": "stream",
     "text": [
      "1\n"
     ]
    }
   ],
   "execution_count": 26
  },
  {
   "cell_type": "code",
   "source": [
    "df_obj"
   ],
   "metadata": {
    "collapsed": false,
    "pycharm": {
     "name": "#%%\n"
    },
    "ExecuteTime": {
     "end_time": "2025-07-22T07:18:23.500006Z",
     "start_time": "2025-07-22T07:18:23.474523Z"
    }
   },
   "outputs": [
    {
     "data": {
      "text/plain": [
       "cloth         a         b         c         d\n",
       "size                                         \n",
       "0      0.139474       NaN  1.314192 -1.683199\n",
       "1      1.270671 -1.088835 -1.628645  2.685840\n",
       "2      0.153831  0.308242  0.391148 -2.087794"
      ],
      "text/html": [
       "<div>\n",
       "<style scoped>\n",
       "    .dataframe tbody tr th:only-of-type {\n",
       "        vertical-align: middle;\n",
       "    }\n",
       "\n",
       "    .dataframe tbody tr th {\n",
       "        vertical-align: top;\n",
       "    }\n",
       "\n",
       "    .dataframe thead th {\n",
       "        text-align: right;\n",
       "    }\n",
       "</style>\n",
       "<table border=\"1\" class=\"dataframe\">\n",
       "  <thead>\n",
       "    <tr style=\"text-align: right;\">\n",
       "      <th>cloth</th>\n",
       "      <th>a</th>\n",
       "      <th>b</th>\n",
       "      <th>c</th>\n",
       "      <th>d</th>\n",
       "    </tr>\n",
       "    <tr>\n",
       "      <th>size</th>\n",
       "      <th></th>\n",
       "      <th></th>\n",
       "      <th></th>\n",
       "      <th></th>\n",
       "    </tr>\n",
       "  </thead>\n",
       "  <tbody>\n",
       "    <tr>\n",
       "      <th>0</th>\n",
       "      <td>0.139474</td>\n",
       "      <td>NaN</td>\n",
       "      <td>1.314192</td>\n",
       "      <td>-1.683199</td>\n",
       "    </tr>\n",
       "    <tr>\n",
       "      <th>1</th>\n",
       "      <td>1.270671</td>\n",
       "      <td>-1.088835</td>\n",
       "      <td>-1.628645</td>\n",
       "      <td>2.685840</td>\n",
       "    </tr>\n",
       "    <tr>\n",
       "      <th>2</th>\n",
       "      <td>0.153831</td>\n",
       "      <td>0.308242</td>\n",
       "      <td>0.391148</td>\n",
       "      <td>-2.087794</td>\n",
       "    </tr>\n",
       "  </tbody>\n",
       "</table>\n",
       "</div>"
      ]
     },
     "execution_count": 27,
     "metadata": {},
     "output_type": "execute_result"
    }
   ],
   "execution_count": 27
  },
  {
   "cell_type": "code",
   "source": [
    "#返回的是一个series\n",
    "#计算最小值或者最大值的索引值\n",
    "df_obj.idxmin(axis=0, skipna=True)"
   ],
   "metadata": {
    "collapsed": false,
    "pycharm": {
     "name": "#%%\n"
    },
    "ExecuteTime": {
     "end_time": "2025-07-22T07:18:23.758366Z",
     "start_time": "2025-07-22T07:18:23.742265Z"
    }
   },
   "outputs": [
    {
     "data": {
      "text/plain": [
       "cloth\n",
       "a    0\n",
       "b    1\n",
       "c    1\n",
       "d    2\n",
       "dtype: int64"
      ]
     },
     "execution_count": 28,
     "metadata": {},
     "output_type": "execute_result"
    }
   ],
   "execution_count": 28
  },
  {
   "cell_type": "markdown",
   "source": [],
   "metadata": {
    "collapsed": false
   }
  },
  {
   "cell_type": "code",
   "source": [
    "import pandas as pd\n",
    "import numpy as np\n",
    "from matplotlib import pyplot as plt\n",
    "\n",
    "file_path = \"IMDB-Movie-Data.csv\"\n",
    "df = pd.read_csv(file_path) #不加路径默认当前路径\n",
    "# 打印数据信息\n",
    "print(df.info()) #查看数据的信息\n",
    "print('-'*50)\n",
    "df.head() #查看数值类型的数据的信息\n",
    "\n"
   ],
   "metadata": {
    "collapsed": false,
    "pycharm": {
     "name": "#%%\n"
    },
    "ExecuteTime": {
     "end_time": "2025-07-22T07:18:24.184031Z",
     "start_time": "2025-07-22T07:18:24.050183Z"
    }
   },
   "outputs": [
    {
     "name": "stdout",
     "output_type": "stream",
     "text": [
      "<class 'pandas.core.frame.DataFrame'>\n",
      "RangeIndex: 1000 entries, 0 to 999\n",
      "Data columns (total 12 columns):\n",
      " #   Column              Non-Null Count  Dtype  \n",
      "---  ------              --------------  -----  \n",
      " 0   Rank                1000 non-null   int64  \n",
      " 1   Title               1000 non-null   object \n",
      " 2   Genre               1000 non-null   object \n",
      " 3   Description         1000 non-null   object \n",
      " 4   Director            1000 non-null   object \n",
      " 5   Actors              1000 non-null   object \n",
      " 6   Year                1000 non-null   int64  \n",
      " 7   Runtime (Minutes)   1000 non-null   int64  \n",
      " 8   Rating              1000 non-null   float64\n",
      " 9   Votes               1000 non-null   int64  \n",
      " 10  Revenue (Millions)  872 non-null    float64\n",
      " 11  Metascore           936 non-null    float64\n",
      "dtypes: float64(3), int64(4), object(5)\n",
      "memory usage: 93.9+ KB\n",
      "None\n",
      "--------------------------------------------------\n"
     ]
    },
    {
     "data": {
      "text/plain": [
       "   Rank                    Title                     Genre  \\\n",
       "0     1  Guardians of the Galaxy   Action,Adventure,Sci-Fi   \n",
       "1     2               Prometheus  Adventure,Mystery,Sci-Fi   \n",
       "2     3                    Split           Horror,Thriller   \n",
       "3     4                     Sing   Animation,Comedy,Family   \n",
       "4     5            Suicide Squad  Action,Adventure,Fantasy   \n",
       "\n",
       "                                         Description              Director  \\\n",
       "0  A group of intergalactic criminals are forced ...            James Gunn   \n",
       "1  Following clues to the origin of mankind, a te...          Ridley Scott   \n",
       "2  Three girls are kidnapped by a man with a diag...    M. Night Shyamalan   \n",
       "3  In a city of humanoid animals, a hustling thea...  Christophe Lourdelet   \n",
       "4  A secret government agency recruits some of th...            David Ayer   \n",
       "\n",
       "                                              Actors  Year  Runtime (Minutes)  \\\n",
       "0  Chris Pratt, Vin Diesel, Bradley Cooper, Zoe S...  2014                121   \n",
       "1  Noomi Rapace, Logan Marshall-Green, Michael Fa...  2012                124   \n",
       "2  James McAvoy, Anya Taylor-Joy, Haley Lu Richar...  2016                117   \n",
       "3  Matthew McConaughey,Reese Witherspoon, Seth Ma...  2016                108   \n",
       "4  Will Smith, Jared Leto, Margot Robbie, Viola D...  2016                123   \n",
       "\n",
       "   Rating   Votes  Revenue (Millions)  Metascore  \n",
       "0     8.1  757074              333.13       76.0  \n",
       "1     7.0  485820              126.46       65.0  \n",
       "2     7.3  157606              138.12       62.0  \n",
       "3     7.2   60545              270.32       59.0  \n",
       "4     6.2  393727              325.02       40.0  "
      ],
      "text/html": [
       "<div>\n",
       "<style scoped>\n",
       "    .dataframe tbody tr th:only-of-type {\n",
       "        vertical-align: middle;\n",
       "    }\n",
       "\n",
       "    .dataframe tbody tr th {\n",
       "        vertical-align: top;\n",
       "    }\n",
       "\n",
       "    .dataframe thead th {\n",
       "        text-align: right;\n",
       "    }\n",
       "</style>\n",
       "<table border=\"1\" class=\"dataframe\">\n",
       "  <thead>\n",
       "    <tr style=\"text-align: right;\">\n",
       "      <th></th>\n",
       "      <th>Rank</th>\n",
       "      <th>Title</th>\n",
       "      <th>Genre</th>\n",
       "      <th>Description</th>\n",
       "      <th>Director</th>\n",
       "      <th>Actors</th>\n",
       "      <th>Year</th>\n",
       "      <th>Runtime (Minutes)</th>\n",
       "      <th>Rating</th>\n",
       "      <th>Votes</th>\n",
       "      <th>Revenue (Millions)</th>\n",
       "      <th>Metascore</th>\n",
       "    </tr>\n",
       "  </thead>\n",
       "  <tbody>\n",
       "    <tr>\n",
       "      <th>0</th>\n",
       "      <td>1</td>\n",
       "      <td>Guardians of the Galaxy</td>\n",
       "      <td>Action,Adventure,Sci-Fi</td>\n",
       "      <td>A group of intergalactic criminals are forced ...</td>\n",
       "      <td>James Gunn</td>\n",
       "      <td>Chris Pratt, Vin Diesel, Bradley Cooper, Zoe S...</td>\n",
       "      <td>2014</td>\n",
       "      <td>121</td>\n",
       "      <td>8.1</td>\n",
       "      <td>757074</td>\n",
       "      <td>333.13</td>\n",
       "      <td>76.0</td>\n",
       "    </tr>\n",
       "    <tr>\n",
       "      <th>1</th>\n",
       "      <td>2</td>\n",
       "      <td>Prometheus</td>\n",
       "      <td>Adventure,Mystery,Sci-Fi</td>\n",
       "      <td>Following clues to the origin of mankind, a te...</td>\n",
       "      <td>Ridley Scott</td>\n",
       "      <td>Noomi Rapace, Logan Marshall-Green, Michael Fa...</td>\n",
       "      <td>2012</td>\n",
       "      <td>124</td>\n",
       "      <td>7.0</td>\n",
       "      <td>485820</td>\n",
       "      <td>126.46</td>\n",
       "      <td>65.0</td>\n",
       "    </tr>\n",
       "    <tr>\n",
       "      <th>2</th>\n",
       "      <td>3</td>\n",
       "      <td>Split</td>\n",
       "      <td>Horror,Thriller</td>\n",
       "      <td>Three girls are kidnapped by a man with a diag...</td>\n",
       "      <td>M. Night Shyamalan</td>\n",
       "      <td>James McAvoy, Anya Taylor-Joy, Haley Lu Richar...</td>\n",
       "      <td>2016</td>\n",
       "      <td>117</td>\n",
       "      <td>7.3</td>\n",
       "      <td>157606</td>\n",
       "      <td>138.12</td>\n",
       "      <td>62.0</td>\n",
       "    </tr>\n",
       "    <tr>\n",
       "      <th>3</th>\n",
       "      <td>4</td>\n",
       "      <td>Sing</td>\n",
       "      <td>Animation,Comedy,Family</td>\n",
       "      <td>In a city of humanoid animals, a hustling thea...</td>\n",
       "      <td>Christophe Lourdelet</td>\n",
       "      <td>Matthew McConaughey,Reese Witherspoon, Seth Ma...</td>\n",
       "      <td>2016</td>\n",
       "      <td>108</td>\n",
       "      <td>7.2</td>\n",
       "      <td>60545</td>\n",
       "      <td>270.32</td>\n",
       "      <td>59.0</td>\n",
       "    </tr>\n",
       "    <tr>\n",
       "      <th>4</th>\n",
       "      <td>5</td>\n",
       "      <td>Suicide Squad</td>\n",
       "      <td>Action,Adventure,Fantasy</td>\n",
       "      <td>A secret government agency recruits some of th...</td>\n",
       "      <td>David Ayer</td>\n",
       "      <td>Will Smith, Jared Leto, Margot Robbie, Viola D...</td>\n",
       "      <td>2016</td>\n",
       "      <td>123</td>\n",
       "      <td>6.2</td>\n",
       "      <td>393727</td>\n",
       "      <td>325.02</td>\n",
       "      <td>40.0</td>\n",
       "    </tr>\n",
       "  </tbody>\n",
       "</table>\n",
       "</div>"
      ]
     },
     "execution_count": 29,
     "metadata": {},
     "output_type": "execute_result"
    }
   ],
   "execution_count": 29
  },
  {
   "metadata": {
    "ExecuteTime": {
     "end_time": "2025-07-22T07:18:24.522070Z",
     "start_time": "2025-07-22T07:18:24.452333Z"
    }
   },
   "cell_type": "code",
   "source": "df.describe()",
   "outputs": [
    {
     "data": {
      "text/plain": [
       "              Rank         Year  Runtime (Minutes)       Rating         Votes  \\\n",
       "count  1000.000000  1000.000000        1000.000000  1000.000000  1.000000e+03   \n",
       "mean    500.500000  2012.783000         113.172000     6.723200  1.698083e+05   \n",
       "std     288.819436     3.205962          18.810908     0.945429  1.887626e+05   \n",
       "min       1.000000  2006.000000          66.000000     1.900000  6.100000e+01   \n",
       "25%     250.750000  2010.000000         100.000000     6.200000  3.630900e+04   \n",
       "50%     500.500000  2014.000000         111.000000     6.800000  1.107990e+05   \n",
       "75%     750.250000  2016.000000         123.000000     7.400000  2.399098e+05   \n",
       "max    1000.000000  2016.000000         191.000000     9.000000  1.791916e+06   \n",
       "\n",
       "       Revenue (Millions)   Metascore  \n",
       "count          872.000000  936.000000  \n",
       "mean            82.956376   58.985043  \n",
       "std            103.253540   17.194757  \n",
       "min              0.000000   11.000000  \n",
       "25%             13.270000   47.000000  \n",
       "50%             47.985000   59.500000  \n",
       "75%            113.715000   72.000000  \n",
       "max            936.630000  100.000000  "
      ],
      "text/html": [
       "<div>\n",
       "<style scoped>\n",
       "    .dataframe tbody tr th:only-of-type {\n",
       "        vertical-align: middle;\n",
       "    }\n",
       "\n",
       "    .dataframe tbody tr th {\n",
       "        vertical-align: top;\n",
       "    }\n",
       "\n",
       "    .dataframe thead th {\n",
       "        text-align: right;\n",
       "    }\n",
       "</style>\n",
       "<table border=\"1\" class=\"dataframe\">\n",
       "  <thead>\n",
       "    <tr style=\"text-align: right;\">\n",
       "      <th></th>\n",
       "      <th>Rank</th>\n",
       "      <th>Year</th>\n",
       "      <th>Runtime (Minutes)</th>\n",
       "      <th>Rating</th>\n",
       "      <th>Votes</th>\n",
       "      <th>Revenue (Millions)</th>\n",
       "      <th>Metascore</th>\n",
       "    </tr>\n",
       "  </thead>\n",
       "  <tbody>\n",
       "    <tr>\n",
       "      <th>count</th>\n",
       "      <td>1000.000000</td>\n",
       "      <td>1000.000000</td>\n",
       "      <td>1000.000000</td>\n",
       "      <td>1000.000000</td>\n",
       "      <td>1.000000e+03</td>\n",
       "      <td>872.000000</td>\n",
       "      <td>936.000000</td>\n",
       "    </tr>\n",
       "    <tr>\n",
       "      <th>mean</th>\n",
       "      <td>500.500000</td>\n",
       "      <td>2012.783000</td>\n",
       "      <td>113.172000</td>\n",
       "      <td>6.723200</td>\n",
       "      <td>1.698083e+05</td>\n",
       "      <td>82.956376</td>\n",
       "      <td>58.985043</td>\n",
       "    </tr>\n",
       "    <tr>\n",
       "      <th>std</th>\n",
       "      <td>288.819436</td>\n",
       "      <td>3.205962</td>\n",
       "      <td>18.810908</td>\n",
       "      <td>0.945429</td>\n",
       "      <td>1.887626e+05</td>\n",
       "      <td>103.253540</td>\n",
       "      <td>17.194757</td>\n",
       "    </tr>\n",
       "    <tr>\n",
       "      <th>min</th>\n",
       "      <td>1.000000</td>\n",
       "      <td>2006.000000</td>\n",
       "      <td>66.000000</td>\n",
       "      <td>1.900000</td>\n",
       "      <td>6.100000e+01</td>\n",
       "      <td>0.000000</td>\n",
       "      <td>11.000000</td>\n",
       "    </tr>\n",
       "    <tr>\n",
       "      <th>25%</th>\n",
       "      <td>250.750000</td>\n",
       "      <td>2010.000000</td>\n",
       "      <td>100.000000</td>\n",
       "      <td>6.200000</td>\n",
       "      <td>3.630900e+04</td>\n",
       "      <td>13.270000</td>\n",
       "      <td>47.000000</td>\n",
       "    </tr>\n",
       "    <tr>\n",
       "      <th>50%</th>\n",
       "      <td>500.500000</td>\n",
       "      <td>2014.000000</td>\n",
       "      <td>111.000000</td>\n",
       "      <td>6.800000</td>\n",
       "      <td>1.107990e+05</td>\n",
       "      <td>47.985000</td>\n",
       "      <td>59.500000</td>\n",
       "    </tr>\n",
       "    <tr>\n",
       "      <th>75%</th>\n",
       "      <td>750.250000</td>\n",
       "      <td>2016.000000</td>\n",
       "      <td>123.000000</td>\n",
       "      <td>7.400000</td>\n",
       "      <td>2.399098e+05</td>\n",
       "      <td>113.715000</td>\n",
       "      <td>72.000000</td>\n",
       "    </tr>\n",
       "    <tr>\n",
       "      <th>max</th>\n",
       "      <td>1000.000000</td>\n",
       "      <td>2016.000000</td>\n",
       "      <td>191.000000</td>\n",
       "      <td>9.000000</td>\n",
       "      <td>1.791916e+06</td>\n",
       "      <td>936.630000</td>\n",
       "      <td>100.000000</td>\n",
       "    </tr>\n",
       "  </tbody>\n",
       "</table>\n",
       "</div>"
      ]
     },
     "execution_count": 30,
     "metadata": {},
     "output_type": "execute_result"
    }
   ],
   "execution_count": 30
  },
  {
   "metadata": {},
   "cell_type": "markdown",
   "source": "### 任务：统计这1000部电影有多少导演和演员"
  },
  {
   "cell_type": "code",
   "source": [
    "\n",
    "# # 获取平均评分\n",
    "# print(df[\"Rating\"].mean())\n",
    "print('-'*50)\n",
    "# 导演的人数\n",
    "print(len(set(df[\"Director\"].tolist())))\n",
    "print(len(df[\"Director\"].unique())) #推荐这种方式"
   ],
   "metadata": {
    "collapsed": false,
    "pycharm": {
     "name": "#%%\n"
    },
    "ExecuteTime": {
     "end_time": "2025-07-22T07:18:25.543703Z",
     "start_time": "2025-07-22T07:18:25.536150Z"
    }
   },
   "outputs": [
    {
     "name": "stdout",
     "output_type": "stream",
     "text": [
      "--------------------------------------------------\n",
      "644\n",
      "644\n"
     ]
    }
   ],
   "execution_count": 31
  },
  {
   "cell_type": "code",
   "source": [
    "# # 获取演员的人数 #二维列表\n",
    "temp_actors_list = df[\"Actors\"].str.split(\", \").tolist()\n",
    "print(temp_actors_list)\n"
   ],
   "metadata": {
    "collapsed": false,
    "pycharm": {
     "name": "#%%\n"
    },
    "ExecuteTime": {
     "end_time": "2025-07-22T07:18:25.726842Z",
     "start_time": "2025-07-22T07:18:25.710076Z"
    }
   },
   "outputs": [
    {
     "name": "stdout",
     "output_type": "stream",
     "text": [
      "[['Chris Pratt', 'Vin Diesel', 'Bradley Cooper', 'Zoe Saldana'], ['Noomi Rapace', 'Logan Marshall-Green', 'Michael Fassbender', 'Charlize Theron'], ['James McAvoy', 'Anya Taylor-Joy', 'Haley Lu Richardson', 'Jessica Sula'], ['Matthew McConaughey,Reese Witherspoon', 'Seth MacFarlane', 'Scarlett Johansson'], ['Will Smith', 'Jared Leto', 'Margot Robbie', 'Viola Davis'], ['Matt Damon', 'Tian Jing', 'Willem Dafoe', 'Andy Lau'], ['Ryan Gosling', 'Emma Stone', 'Rosemarie DeWitt', 'J.K. Simmons'], ['Essie Davis', 'Andrea Riseborough', 'Julian Barratt,Kenneth Branagh'], ['Charlie Hunnam', 'Robert Pattinson', 'Sienna Miller', 'Tom Holland'], ['Jennifer Lawrence', 'Chris Pratt', 'Michael Sheen,Laurence Fishburne'], ['Eddie Redmayne', 'Katherine Waterston', 'Alison Sudol,Dan Fogler'], ['Taraji P. Henson', 'Octavia Spencer', 'Janelle Monáe,Kevin Costner'], ['Felicity Jones', 'Diego Luna', 'Alan Tudyk', 'Donnie Yen'], [\"Auli'i Cravalho\", 'Dwayne Johnson', 'Rachel House', 'Temuera Morrison'], ['Anne Hathaway', 'Jason Sudeikis', 'Austin Stowell,Tim Blake Nelson'], ['Louis C.K.', 'Eric Stonestreet', 'Kevin Hart', 'Lake Bell'], ['Andrew Garfield', 'Sam Worthington', 'Luke Bracey,Teresa Palmer'], ['Matt Damon', 'Tommy Lee Jones', 'Alicia Vikander,Vincent Cassel'], ['Dev Patel', 'Nicole Kidman', 'Rooney Mara', 'Sunny Pawar'], ['Amy Adams', 'Jeremy Renner', 'Forest Whitaker,Michael Stuhlbarg'], ['Matthew McConaughey', 'Edgar Ramírez', 'Bryce Dallas Howard', 'Corey Stoll'], ['Casey Affleck', 'Michelle Williams', 'Kyle Chandler,Lucas Hedges'], ['Emma Booth', 'Ashleigh Cummings', 'Stephen Curry,Susie Porter'], ['Anna Kendrick', 'Justin Timberlake,Zooey Deschanel', 'Christopher Mintz-Plasse'], ['Liam Hemsworth', 'Jeff Goldblum', 'Bill Pullman,Maika Monroe'], ['Fiona Gordon', 'Dominique Abel,Emmanuelle Riva', 'Pierre Richard'], ['Prabhas', 'Rana Daggubati', 'Anushka Shetty,Tamannaah Bhatia'], ['Jocelin Donahue', 'Jesse Bradford', 'Jesse Borrego,Lori Petty'], ['Mila Kunis', 'Kathryn Hahn', 'Kristen Bell,Christina Applegate'], ['Michael Fassbender', 'Marion Cotillard', 'Jeremy Irons,Brendan Gleeson'], ['Zoey Deutch', 'James Franco', 'Tangie Ambrose,Cedric the Entertainer'], ['Amy Adams', 'Jake Gyllenhaal', 'Michael Shannon', 'Aaron Taylor-Johnson'], ['James McAvoy', 'Michael Fassbender', 'Jennifer Lawrence', 'Nicholas Hoult'], ['Ryan Reynolds', 'Morena Baccarin', 'T.J. Miller', 'Ed Skrein'], ['Milla Jovovich', 'Iain Glen', 'Ali Larter', 'Shawn Roberts'], ['Chris Evans', 'Robert Downey Jr.,Scarlett Johansson', 'Sebastian Stan'], ['Matthew McConaughey', 'Anne Hathaway', 'Jessica Chastain', 'Mackenzie Foy'], ['Benedict Cumberbatch', 'Chiwetel Ejiofor', 'Rachel McAdams', 'Benedict Wong'], ['Denzel Washington', 'Chris Pratt', \"Ethan Hawke,Vincent D'Onofrio\"], ['John Francis Daley', 'Austin Pendleton', 'Colleen Camp', 'Neil Flynn'], ['Seth Rogen', 'Kristen Wiig', 'Jonah Hill', 'Alistair Abell'], ['Mahershala Ali', 'Shariff Earp', 'Duan Sanderson', 'Alex R. Hibbert'], ['Brittany Blanton', 'Ayse Howard', 'Roman Jossart,Nadia White'], ['Michael Keaton', 'Nick Offerman', 'John Carroll Lynch', 'Linda Cardellini'], ['Gabriel Chavarria', 'Demián Bichir', 'Theo Rossi,Tony Revolori'], ['Johnny Depp', 'Penélope Cruz', 'Ian McShane', 'Geoffrey Rush'], ['Jessica Chastain', 'Mark Strong', 'Gugu Mbatha-Raw,Michael Stuhlbarg'], ['Hermione Corfield', 'Addison Timlin', 'Joely Richardson,Jeremy Irvine'], ['Chris Pine', 'Zachary Quinto', 'Karl Urban', 'Zoe Saldana'], ['Charlize Theron', 'Javier Bardem', 'Adèle Exarchopoulos,Jared Harris'], ['Daisy Ridley', 'John Boyega', 'Oscar Isaac', 'Domhnall Gleeson'], ['Kate Beckinsale', 'Theo James', 'Tobias Menzies', 'Lara Pulver'], ['Jennifer Aniston', 'Kate Hudson', 'Julia Roberts', 'Jason Sudeikis'], ['Keanu Reeves', 'Michael Nyqvist', 'Alfie Allen', 'Willem Dafoe'], ['Christian Bale', 'Heath Ledger', 'Aaron Eckhart,Michael Caine'], ['Andrew Garfield', 'Adam Driver', 'Liam Neeson,Tadanobu Asano'], ['Stephen Lang', 'Jane Levy', 'Dylan Minnette', 'Daniel Zovatto'], ['Emilia Clarke', 'Sam Claflin', 'Janet McTeer', 'Charles Dance'], ['Gemma Arterton', 'Sam Claflin', 'Bill Nighy', 'Jack Huston'], ['Tom Hanks', 'Aaron Eckhart', 'Laura Linney', 'Valerie Mahaffey'], ['Ben Affleck', 'Henry Cavill', 'Amy Adams', 'Jesse Eisenberg'], ['Brian Cox', 'Emile Hirsch', 'Ophelia Lovibond', 'Michael McElhatton'], ['Emily Blunt', 'Haley Bennett', 'Rebecca Ferguson', 'Justin Theroux'], ['Dakota Johnson', 'Jamie Dornan', 'Jennifer Ehle,Eloise Mumford'], ['Christian Bale', 'Hugh Jackman', 'Scarlett Johansson', 'Michael Caine'], ['Colin Firth', 'Taron Egerton', 'Samuel L. Jackson,Michael Caine'], ['Mark Wahlberg', 'Michelle Monaghan', 'J.K. Simmons', 'John Goodman'], ['Tom Hardy', 'Charlize Theron', 'Nicholas Hoult', 'Zoë Kravitz'], ['Bryan Cranston', 'Jennifer Garner', \"Beverly D'Angelo,Jason O'Mara\"], ['Mark Wahlberg', 'Kurt Russell', 'Douglas M. Griffin', 'James DuMont'], ['Oscar Isaac', 'Charlotte Le Bon', 'Christian Bale', 'Daniel Giménez Cacho'], ['Brad Pitt', 'Marion Cotillard', 'Jared Harris', 'Vincent Ebrahim'], ['Lewis MacDougall', 'Sigourney Weaver', 'Felicity Jones,Toby Kebbell'], ['Will Smith', 'Edward Norton', 'Kate Winslet', 'Michael Peña'], ['Ginnifer Goodwin', 'Jason Bateman', 'Idris Elba', 'Jenny Slate'], ['Johnny Depp', 'Orlando Bloom', 'Keira Knightley,Geoffrey Rush'], ['Robert Downey Jr.', 'Chris Evans', 'Scarlett Johansson,Jeremy Renner'], ['Brad Pitt', 'Diane Kruger', 'Eli Roth,Mélanie Laurent'], ['Johnny Depp', 'Orlando Bloom', 'Keira Knightley', 'Jack Davenport'], ['Melissa McCarthy', 'Kristen Wiig', 'Kate McKinnon', 'Leslie Jones'], ['Leonardo DiCaprio', 'Joseph Gordon-Levitt', 'Ellen Page', 'Ken Watanabe'], ['Viggo Mortensen', 'George MacKay', 'Samantha Isler,Annalise Basso'], ['Leonardo DiCaprio', 'Jonah Hill', 'Margot Robbie,Matthew McConaughey'], ['Ben Affleck', 'Rosamund Pike', 'Neil Patrick Harris,Tyler Perry'], ['Vin Diesel', 'Paul Walker', 'Dwayne Johnson', 'Jason Statham'], ['Chris Pratt', 'Bryce Dallas Howard', 'Ty Simpkins,Judy Greer'], ['Ben Affleck', 'Elle Fanning', 'Brendan Gleeson', 'Chris Messina'], ['Sam Worthington', 'Zoe Saldana', 'Sigourney Weaver', 'Michelle Rodriguez'], ['Samuel L. Jackson', 'Kurt Russell', 'Jennifer Jason Leigh', 'Walton Goggins'], ['Ben Affleck', 'Anna Kendrick', 'J.K. Simmons', 'Jon Bernthal'], ['Hugh Jackman', 'Jake Gyllenhaal', 'Viola Davis,Melissa Leo'], ['Travis Fimmel', 'Paula Patton', 'Ben Foster', 'Dominic Cooper'], ['Emma Stone', 'Viola Davis', 'Octavia Spencer', 'Bryce Dallas Howard'], ['Jonah Hill', 'Miles Teller', 'Steve Lantz', 'Gregg Weiner'], ['Robert Downey Jr.', 'Chris Evans', 'Mark Ruffalo', 'Chris Hemsworth'], ['Russell Crowe', 'Ryan Gosling', 'Angourie Rice', 'Matt Bomer'], ['Ryûnosuke Kamiki', 'Mone Kamishiraishi', 'Ryô Narita', 'Aoi Yuki'], ['Aaron Poole', 'Kenneth Welsh,Daniel Fathers', 'Kathleen Munroe'], ['Kristen Stewart', 'Lars Eidinger', 'Sigrid Bouaziz,Anders Danielsen Lie'], ['Leonardo DiCaprio', 'Matt Damon', 'Jack Nicholson', 'Mark Wahlberg'], ['Tom Hardy', 'Emily Browning', 'Taron Egerton', 'Paul Anderson'], ['Chris Hemsworth', 'Anthony Hopkins', 'Natalie Portman', 'Tom Hiddleston'], ['Matt Damon', 'Jessica Chastain', 'Kristen Wiig', 'Kate Mara'], ['Mario Casas', 'Ana Wagener', 'José Coronado', 'Bárbara Lennie'], ['Henry Cavill', 'Armie Hammer', 'Alicia Vikander', 'Elizabeth Debicki'], ['Chris Pine', 'Ben Foster', 'Jeff Bridges', 'Gil Birmingham'], ['Robert De Niro', 'Leslie Mann', 'Danny DeVito', 'Edie Falco'], ['Alexander Skarsgård', 'Rory J. Saper', 'Christian Stevens', 'Christoph Waltz'], ['Eve Lindley', 'Richard Kind', 'Mark Consuelos', 'Katherine Reis'], ['Alicia Vikander', 'Domhnall Gleeson', 'Oscar Isaac,Sonoya Mizuno'], ['John Gallagher Jr.', 'Tony Goldwyn', 'Adria Arjona', 'John C. McGinley'], ['Chiwetel Ejiofor', 'Michael Kenneth Williams', 'Michael Fassbender', 'Brad Pitt'], ['Keanu Reeves', 'Jason Momoa', 'Jim Carrey', 'Diego Luna'], ['Gerard Butler', 'Lena Headey', 'David Wenham', 'Dominic West'], ['Daniel Radcliffe', 'Emma Watson', 'Rupert Grint', 'Michael Gambon'], ['Jason Bateman', 'Olivia Munn', 'T.J. Miller,Jennifer Aniston'], ['Elle Fanning', 'Christina Hendricks', 'Keanu Reeves', 'Karl Glusman'], ['Aamir Khan', 'Sakshi Tanwar', 'Fatima Sana Shaikh,Sanya Malhotra'], ['John Goodman', 'Mary Elizabeth Winstead', 'John Gallagher Jr.', 'Douglas M. Griffin'], ['Ellen DeGeneres', \"Albert Brooks,Ed O'Neill\", 'Kaitlin Olson'], ['Eva Green', 'Asa Butterfield', 'Samuel L. Jackson', 'Judi Dench'], ['Shailene Woodley', 'Theo James', 'Kate Winslet', 'Jai Courtney'], ['Zac Efron', 'Adam Devine', 'Anna Kendrick', 'Aubrey Plaza'], ['Scott Adkins', 'Teodora Duhovnikova', 'Alon Aboutboul', 'Julian Vergov'], ['Christian Bale', 'Tom Hardy', 'Anne Hathaway,Gary Oldman'], ['Neel Sethi', 'Bill Murray', 'Ben Kingsley', 'Idris Elba'], ['Mark Wahlberg', 'Nicola Peltz', 'Jack Reynor', 'Stanley Tucci'], ['Emma Roberts', 'Dave Franco', 'Emily Meade', 'Miles Heizer'], ['Meryl Streep', 'Pierce Brosnan', 'Amanda Seyfried,Stellan Skarsgård'], ['Leonardo DiCaprio', 'Tom Hardy', 'Will Poulter', 'Domhnall Gleeson'], ['Denzel Washington', 'Viola Davis', 'Stephen Henderson', 'Jovan Adepo'], ['Anna Kendrick', 'Meryl Streep', 'Chris Pine', 'Emily Blunt'], ['Blake Lively', 'Óscar Jaenada', 'Angelo Josue Lozano Corzo', 'Brett Cullen'], ['Miles Teller', 'J.K. Simmons', 'Melissa Benoist', 'Paul Reiser'], ['Vin Diesel', 'Paul Walker', 'Dwayne Johnson', 'Michelle Rodriguez'], ['Ryan Gosling', 'Bradley Cooper', 'Eva Mendes,Craig Van Hook'], ['Tommy Lee Jones', 'Javier Bardem', 'Josh Brolin', 'Woody Harrelson'], ['Leonardo DiCaprio', 'Carey Mulligan', 'Joel Edgerton,Tobey Maguire'], ['Leonardo DiCaprio', 'Emily Mortimer', 'Mark Ruffalo,Ben Kingsley'], ['Dakota Fanning', 'Guy Pearce', 'Kit Harington,Carice van Houten'], ['Chris Pine', 'Zachary Quinto', 'Simon Pegg', 'Leonard Nimoy'], ['Zachary Gordon', 'Robert Capron', 'Rachael Harris,Steve Zahn'], ['Christian Bale', 'Steve Carell', 'Ryan Gosling', 'Brad Pitt'], ['Brie Larson', 'Jacob Tremblay', 'Sean Bridgers,Wendy Crewson'], ['Jamie Foxx', 'Christoph Waltz', 'Leonardo DiCaprio,Kerry Washington'], ['Min-hee Kim', 'Jung-woo Ha', 'Jin-woong Jo', 'So-ri Moon'], ['Hailee Steinfeld', 'Haley Lu Richardson', 'Blake Jenner', 'Kyra Sedgwick'], ['Jackie Earle Haley', 'Patrick Wilson', 'Carla Gugino,Malin Akerman'], ['Michael Cera', 'Jonah Hill', 'Christopher Mintz-Plasse', 'Bill Hader'], ['Tom Hanks', 'Felicity Jones', 'Irrfan Khan', 'Ben Foster'], ['Mark Rylance', 'Ruby Barnhill', 'Penelope Wilton,Jemaine Clement'], ['Jennifer Lawrence', 'Josh Hutcherson', 'Liam Hemsworth,Stanley Tucci'], ['Morgan Saylor', 'Brian Marc', 'Justin Bartha', 'Adrian Martinez'], ['Emily Blunt', 'Josh Brolin', 'Benicio Del Toro', 'Jon Bernthal'], ['Chris Isaak', 'Kiefer Sutherland', 'C.H. Evans', 'Sandra Kinder'], ['Reiko Aylesworth', 'Steven Pasquale,Shareeka Epps', 'John Ortiz'], ['Idris Elba', 'Charlie Hunnam', 'Rinko Kikuchi,Charlie Day'], ['Steve Carell', 'Ryan Gosling', 'Julianne Moore', 'Emma Stone'], ['Michael Cera', 'Mary Elizabeth Winstead', 'Kieran Culkin', 'Alison Pill'], ['Simon Pegg', 'Nick Frost', 'Martin Freeman', 'Bill Nighy'], ['Armie Hammer', 'Annabelle Wallis,Tom Cullen', 'Clint Dyer'], ['Sharlto Copley', 'Brie Larson', 'Armie Hammer', 'Cillian Murphy'], ['Patrick Stewart', 'Ian McKellen', 'Hugh Jackman', 'James McAvoy'], ['Tom Cruise', 'Cobie Smulders', 'Aldis Hodge', 'Robert Knepper'], ['Daniel Craig', 'Eva Green', 'Judi Dench', 'Jeffrey Wright'], ['Kristen Stewart', 'Robert Pattinson', 'Billy Burke,Sarah Clarke'], ['Jesse Eisenberg', 'Mark Ruffalo', 'Woody Harrelson', 'Dave Franco'], ['Helen Mirren', 'Ryan Reynolds', 'Daniel Brühl', 'Katie Holmes'], ['John Krasinski', 'Pablo Schreiber', 'James Badge Dale,David Denman'], ['Daniel Craig', 'Christoph Waltz', 'Léa Seydoux', 'Ralph Fiennes'], ['Jake Gyllenhaal', 'Rene Russo', 'Bill Paxton', 'Riz Ahmed'], ['Charlize Theron', 'Art Parkinson', 'Matthew McConaughey', 'Ralph Fiennes'], ['Graham Skipper', 'Chase Williamson', 'Brea Grant,Barbara Crampton'], ['Joaquin Phoenix', 'Amy Adams', 'Scarlett Johansson,Rooney Mara'], ['Kristen Bell', 'Idina Menzel', 'Jonathan Groff', 'Josh Gad'], ['George Clooney', 'Britt Robertson', 'Hugh Laurie', 'Raffey Cassidy'], ['Gary Oldman', 'Keri Russell', 'Andy Serkis', 'Kodi Smit-McPhee'], ['Ben Stiller', 'Jack Black', 'Robert Downey Jr.', 'Jeff Kahn'], ['Vera Farmiga', 'Patrick Wilson', 'Madison Wolfe', \"Frances O'Connor\"], ['Paul Rudd', 'Michael Douglas', 'Corey Stoll', 'Evangeline Lilly'], ['Renée Zellweger', 'Gemma Jones', 'Jim Broadbent,Sally Phillips'], ['Anya Taylor-Joy', 'Ralph Ineson', 'Kate Dickie', 'Julian Richings'], ['Lily James', 'Cate Blanchett', 'Richard Madden,Helena Bonham Carter'], ['Tom Hughes', 'Charlotte Le Bon', 'Oona Chaplin', 'Barry Ward'], ['Taraneh Alidoosti', 'Shahab Hosseini', 'Babak Karimi,Farid Sajjadi Hosseini'], ['Aomi Muyock', 'Karl Glusman', 'Klara Kristin', 'Juan Saavedra'], ['Joe Alwyn', 'Garrett Hedlund', 'Arturo Castro', 'Mason Lee'], ['Mia Wasikowska', 'Jessica Chastain', 'Tom Hiddleston', 'Charlie Hunnam'], ['Ryan Gosling', 'Carey Mulligan', 'Bryan Cranston', 'Albert Brooks'], ['Amy Schumer', 'Bill Hader', 'Brie Larson', 'Colin Quinn'], ['Michael Fassbender', 'Alicia Vikander', 'Rachel Weisz', 'Florence Clery'], ['Erika Linder', 'Natalie Krill', 'Sebastian Pigott', 'Mayko Nguyen'], ['Mark Ruffalo', 'Michael Keaton', 'Rachel McAdams', 'Liev Schreiber'], ['Kate Mara', 'Anya Taylor-Joy', 'Rose Leslie', 'Michael Yare'], ['Tom Hardy', 'Nick Nolte', 'Joel Edgerton', 'Jennifer Morrison'], ['Chris Evans', 'Hugo Weaving', 'Samuel L. Jackson,Hayley Atwell'], ['Callan McAuliffe', 'Lorraine Nicholson', 'Daniel Eric Gold', 'Clifton Collins Jr.'], ['Emile Hirsch', 'Vince Vaughn', 'Catherine Keener', 'Marcia Gay Harden'], ['Benedict Cumberbatch', 'Keira Knightley', 'Matthew Goode', 'Allen Leech'], ['Dwayne Johnson', 'Kevin Hart', 'Danielle Nicolet', 'Amy Ryan'], ['Tom Cruise', 'Emily Blunt', 'Bill Paxton', 'Brendan Gleeson'], ['Dane DeHaan', 'Jason Isaacs', 'Mia Goth', 'Ivo Nandi'], ['Joseph Gordon-Levitt', 'Shailene Woodley', 'Melissa Leo,Zachary Quinto'], ['Robert Downey Jr.', 'Gwyneth Paltrow', 'Terrence Howard', 'Jeff Bridges'], ['Shailene Woodley', 'Theo James', 'Jeff Daniels,Naomi Watts'], ['James McAvoy', 'Michael Fassbender', 'Jennifer Lawrence', 'Kevin Bacon'], ['Garance Marillier', 'Ella Rumpf', 'Rabah Nait Oufella,Laurent Lucas'], ['Adam Driver', 'Golshifteh Farahani', 'Nellie', 'Rizwan Manji'], ['Kristen Wiig', 'Maya Rudolph', 'Rose Byrne', 'Terry Crews'], ['Gemma Arterton', 'Glenn Close', 'Dominique Tipper,Paddy Considine'], ['Dwayne Johnson', 'Carla Gugino', 'Alexandra Daddario,Colton Haynes'], ['Vanessa Hudgens', 'Selena Gomez', 'Ashley Benson,Rachel Korine'], ['Shia LaBeouf', 'Megan Fox', 'Josh Duhamel', 'Tyrese Gibson'], ['Josh Brolin', 'Elizabeth Olsen', 'Samuel L. Jackson', 'Sharlto Copley'], ['Chris Hemsworth', 'Natalie Portman', 'Tom Hiddleston,Stellan Skarsgård'], ['Brenton Thwaites', 'Nikolaj Coster-Waldau', 'Gerard Butler', 'Chadwick Boseman'], ['Chris Evans', 'Samuel L. Jackson,Scarlett Johansson', 'Robert Redford'], ['Lucas Till', 'Jane Levy', 'Thomas Lennon', 'Barry Pepper'], ['Mark Huberman', 'Susan Loughnane', 'Steve Oram,Catherine Walker'], ['Aaron Taylor-Johnson', 'Nicolas Cage', 'Chloë Grace Moretz', 'Garrett M. Brown'], ['Sharlto Copley', 'Tim Roth', 'Haley Bennett', 'Danila Kozlovsky'], ['Owen Wilson', 'Bonnie Hunt', 'Paul Newman', 'Larry the Cable Guy'], ['Maika Monroe', 'Keir Gilchrist', 'Olivia Luccardi,Lili Sepe'], ['Daniel Craig', 'Rooney Mara', 'Christopher Plummer,Stellan Skarsgård'], ['Jason Sudeikis', 'Jennifer Aniston', 'Emma Roberts', 'Ed Helms'], ['Sasha Lane', 'Shia LaBeouf', 'Riley Keough', 'McCaul Lombardi'], ['Colin Farrell', 'Rachel Weisz', 'Jessica Barden,Olivia Colman'], ['Adrien Brody', 'Laurence Fishburne', 'Topher Grace,Alice Braga'], ['Angelina Jolie', 'Elle Fanning', 'Sharlto Copley,Lesley Manville'], ['Noomi Rapace', 'Michael Chiklis', 'Kerry Bishé,Peter Stormare'], ['Ivana Baquero', 'Ariadna Gil', 'Sergi López,Maribel Verdú'], ['Patrick Wilson', 'Jessica Biel', 'Haley Bennett', 'Vincent Kartheiser'], ['Gerardo Taracena', 'Raoul Max Trujillo', 'Dalia Hernández,Rudy Youngblood'], ['Tom Cruise', 'Rebecca Ferguson', 'Jeremy Renner', 'Simon Pegg'], ['Chris Hemsworth', 'Jessica Chastain', 'Charlize Theron', 'Emily Blunt'], ['Logan Lerman', 'Emma Watson', 'Ezra Miller', 'Paul Rudd'], ['Natalie Portman', 'Peter Sarsgaard', 'Greta Gerwig,Billy Crudup'], ['Kate Beckinsale', 'Mel Raido', 'Duncan Joiner', 'Lucas Till'], ['Ralph Fiennes', 'F. Murray Abraham', 'Mathieu Amalric,Adrien Brody'], ['Saoirse Ronan', 'Max Irons', 'Jake Abel', 'Diane Kruger'], ['Brad Pitt', 'Shia LaBeouf', 'Logan Lerman', 'Michael Peña'], ['Amy Poehler', 'Bill Hader', 'Lewis Black', 'Mindy Kaling'], ['Luke Wilson', 'Eddie Izzard', 'J.K. Simmons', 'Lewis Black'], ['Arnold Schwarzenegger', 'Jason Clarke', 'Emilia Clarke,Jai Courtney'], ['Logan Lerman', 'Kevin McKidd', 'Steve Coogan,Brandon T. Jackson'], ['Hugh Jackman', 'Russell Crowe', 'Anne Hathaway,Amanda Seyfried'], ['Julianne Moore', 'Clive Owen', 'Chiwetel Ejiofor,Michael Caine'], ['Annette Bening', 'Elle Fanning', 'Greta Gerwig', 'Billy Crudup'], ['Melissa McCarthy', 'Rose Byrne', 'Jude Law', 'Jason Statham'], ['François Cluzet', 'Omar Sy', 'Anne Le Ny', 'Audrey Fleurot'], ['Diane Lane', 'Alec Baldwin', 'Arnaud Viard', 'Linda Gegusch'], ['Christos Stergioglou', 'Michele Valley', 'Angeliki Papoulia', 'Hristos Passalis'], [\"O'Shea Jackson Jr.\", 'Corey Hawkins', 'Jason Mitchell,Neil Brown Jr.'], ['Andrew Garfield', 'Emma Stone', 'Jamie Foxx', 'Paul Giamatti'], ['Patrick Wilson', 'Vera Farmiga', 'Ron Livingston', 'Lili Taylor'], ['Zach Galifianakis', 'Bradley Cooper', 'Justin Bartha', 'Ed Helms'], ['Alexander Skarsgård', 'Brooklyn Decker', 'Liam Neeson,Rihanna'], ['James Franco', 'Andy Serkis', 'Freida Pinto', 'Karin Konoval'], ['Teresa Palmer', 'Gabriel Bateman', 'Maria Bello,Billy Burke'], ['Richard Gere', 'Lior Ashkenazi', 'Michael Sheen,Charlotte Gainsbourg'], ['Michael Keaton', 'Zach Galifianakis,Edward Norton', 'Andrea Riseborough'], ['Natalie Portman', 'Mila Kunis', 'Vincent Cassel,Winona Ryder'], ['Tyler James Williams', 'Tessa Thompson', 'Kyle Gallner,Teyonah Parris'], ['Charlotte Gainsbourg', 'Stellan Skarsgård', 'Stacy Martin', 'Shia LaBeouf'], ['Megan Fox', 'Will Arnett', 'Tyler Perry', 'Laura Linney'], ['Keanu Reeves', 'Lorenza Izzo', 'Ana de Armas', 'Aaron Burns'], ['Robert De Niro', 'Zac Efron', 'Zoey Deutch', 'Aubrey Plaza'], ['Tom Hanks', 'Halle Berry', 'Hugh Grant', 'Hugo Weaving'], ['Hugh Jackman', 'Liev Schreiber', 'Ryan Reynolds', 'Danny Huston'], ['Sarah Hyland', 'Steven Krueger', 'Justin Chon', 'Clara Mamet'], ['Daniel Craig', 'Javier Bardem', 'Naomie Harris', 'Judi Dench'], ['Martin Freeman', 'Ian McKellen', 'Richard Armitage,Andy Serkis'], ['Jonah Hill', 'Channing Tatum', 'Ice Cube,Brie Larson'], ['Ferdia Walsh-Peelo', 'Aidan Gillen', 'Maria Doyle Kennedy', 'Jack Reynor'], ['Elle Fanning', 'Dane DeHaan', 'Carly Rae Jepsen', 'Maddie Ziegler'], ['Tom Cruise', 'Morgan Freeman', 'Andrea Riseborough', 'Olga Kurylenko'], ['Channing Tatum', 'Jonah Hill', 'Ice Cube,Nick Offerman'], ['Jake Gyllenhaal', 'Robert Downey Jr.', 'Mark Ruffalo,Anthony Edwards'], ['Blake Jenner', 'Tyler Hoechlin', 'Ryan Guzman,Zoey Deutch'], ['Robert Downey Jr.', 'Guy Pearce', 'Gwyneth Paltrow,Don Cheadle'], ['Jesse Eisenberg', 'Common', 'Mark Ruffalo', 'Woody Harrelson'], ['Robert Downey Jr.', 'Jude Law', 'Rachel McAdams', 'Mark Strong'], ['Kurt Russell', 'Zoë Bell', 'Rosario Dawson', 'Vanessa Ferlito'], ['Eddie Redmayne', 'Alicia Vikander', 'Amber Heard', 'Ben Whishaw'], ['Dwayne Johnson', 'John Hurt', 'Ian McShane', 'Joseph Fiennes'], ['Emily Browning', 'Vanessa Hudgens', 'Abbie Cornish,Jena Malone'], ['Zach Galifianakis', 'Isla Fisher', 'Jon Hamm', 'Gal Gadot'], ['Channing Tatum', 'Mila Kunis,Eddie Redmayne', 'Sean Bean'], ['Zach Galifianakis', 'Kristen Wiig', 'Owen Wilson', 'Ross Kimball'], ['Romain Duris', 'Charlotte Le Bon', 'Jalil Lespert', 'Camille Cottin'], ['Yoo Gong', 'Soo-an Kim', 'Yu-mi Jung', 'Dong-seok Ma'], ['Anna Kendrick', 'Brittany Snow', 'Rebel Wilson', 'Anna Camp'], ['Seth Rogen', 'Rose Byrne', 'Zac Efron', 'Chloë Grace Moretz'], ['Lily James', 'Jai Courtney', 'Christopher Plummer', 'Loïs van Wijk'], ['Henry Cavill', 'Amy Adams', 'Michael Shannon', 'Diane Lane'], ['Benjamin Walker', 'Teresa Palmer', 'Alexandra Daddario,Maggie Grace'], ['Ray Romano', 'Denis Leary', 'John Leguizamo', 'Chris Wedge'], ['Anne Hathaway', 'Meryl Streep', 'Adrian Grenier', 'Emily Blunt'], ['Bryan Cranston', 'John Leguizamo', 'Diane Kruger', 'Amy Ryan'], ['Daniel Day-Lewis', 'Paul Dano', 'Ciarán Hinds,Martin Stringer'], ['Denzel Washington', 'Marton Csokas', 'Chloë Grace Moretz', 'David Harbour'], ['Mark Wahlberg', 'Taylor Kitsch', 'Emile Hirsch', 'Ben Foster'], ['Kristen Connolly', 'Chris Hemsworth', 'Anna Hutchison,Fran Kranz'], ['Anna Faris', 'Colin Hanks', 'Emma Stone', 'Kat Dennings'], ['Jay Baruchel', 'Alice Eve', 'T.J. Miller', 'Mike Vogel'], ['Joaquin Phoenix', 'Josh Brolin', 'Owen Wilson,Katherine Waterston'], ['Mia Wasikowska', 'Johnny Depp', 'Helena Bonham Carter', 'Anne Hathaway'], ['Emile Hirsch', 'Zoë Kravitz', 'Zoey Deutch,Emory Cohen'], ['Lucas Black', 'Zachery Ty Bryan', 'Shad Moss', 'Damien Marzette'], ['Dakota Johnson', 'Rebel Wilson', 'Leslie Mann', 'Alison Brie'], ['Quinton Aaron', 'Sandra Bullock', 'Tim McGraw,Jae Head'], ['Léa Seydoux', 'Adèle Exarchopoulos', 'Salim Kechiouche', 'Aurélien Recoing'], ['Essie Davis', 'Noah Wiseman', 'Daniel Henshall', 'Hayley McElhinney'], ['Ian McKellen', 'Martin Freeman', 'Richard Armitage,Cate Blanchett'], ['Daniel Radcliffe', 'Emma Watson', 'Rupert Grint', 'Brendan Gleeson'], ['Chris Evans', 'Jamie Bell', 'Tilda Swinton', 'Ed Harris'], ['Chloë Grace Moretz', 'Matthew Zuk', 'Gabriela Lopez,Bailey Anne Borders'], ['Connor Paolo', 'Nick Damici', 'Laura Abramsen', 'A.C. Peterson'], ['Olivia DeJonge', 'Ed Oxenbould', 'Deanna Dunagan', 'Peter McRobbie'], ['Vin Diesel', 'Paul Walker', 'Dwayne Johnson', 'Jordana Brewster'], ['Channing Tatum', 'Jenna Dewan Tatum', 'Damaine Radcliff', \"De'Shawn Washington\"], ['Riley Keough', 'Jena Malone', 'Jessie Ok Gray', 'Cary Joji Fukunaga'], ['Gerard Butler', 'Tom Wilkinson', 'Idris Elba', 'Thandie Newton'], ['Justin Timberlake', 'Amanda Seyfried', 'Cillian Murphy,Olivia Wilde'], ['Jesse Eisenberg', 'Andrew Garfield', 'Justin Timberlake,Rooney Mara'], ['Vin Diesel', 'Rose Leslie', 'Elijah Wood', 'Ólafur Darri Ólafsson'], ['Daniel Radcliffe', 'James McAvoy', 'Jessica Brown Findlay', 'Andrew Scott'], ['Luke Treadaway', 'Bob the Cat', 'Ruta Gedmintas', 'Joanne Froggatt'], ['Anton Yelchin', 'Imogen Poots', 'Alia Shawkat,Patrick Stewart'], ['Chris Hemsworth', 'Viola Davis', 'Wei Tang', 'Leehom Wang'], ['Andy Samberg', 'Katie Crown,Kelsey Grammer', 'Jennifer Aniston'], ['Bradley Cooper', 'Sienna Miller', 'Kyle Gallner', 'Cole Konis'], ['Matthew McConaughey', 'Jennifer Garner', 'Jared Leto', 'Steve Zahn'], ['Daniel Day-Lewis', 'Sally Field', 'David Strathairn,Joseph Gordon-Levitt'], ['Daniel Brühl', 'Chris Hemsworth', 'Olivia Wilde,Alexandra Maria Lara'], ['Kate Bosworth', 'Thomas Jane', 'Jacob Tremblay,Annabeth Gish'], ['Bradley Cooper', 'Jennifer Lawrence', 'Robert De Niro', 'Jacki Weaver'], ['Alexi Pappas', 'Chase Offerle', 'Rachel Dratch', 'Andy Buckley'], ['Shailene Woodley', 'Ansel Elgort', 'Nat Wolff', 'Laura Dern'], ['Adam Sandler', 'Drew Barrymore', 'Wendi McLendon-Covey', 'Kevin Nealon'], ['Vin Diesel', 'Paul Walker', 'Michelle Rodriguez', 'Jordana Brewster'], ['Joseph Gordon-Levitt', 'Bruce Willis', 'Emily Blunt', 'Paul Dano'], ['Channing Tatum', 'Jamie Foxx', 'Maggie Gyllenhaal,Jason Clarke'], ['Bryce Dallas Howard', 'Robert Redford', 'Oakes Fegley,Oona Laurence'], ['Tobey Maguire', 'Kirsten Dunst', 'Topher Grace', 'Thomas Haden Church'], ['Logan Lerman', 'Matthew Macfadyen', 'Ray Stevenson', 'Milla Jovovich'], ['Charlie Cox', 'Claire Danes', 'Sienna Miller', 'Ian McKellen'], ['Christian Bale', 'Amy Adams', 'Bradley Cooper,Jennifer Lawrence'], ['Megan Fox', 'Amanda Seyfried', 'Adam Brody', 'Johnny Simmons'], ['Owen Wilson', 'Rachel McAdams', 'Kathy Bates', 'Kurt Fuller'], ['Florence Pugh', 'Christopher Fairbank', 'Cosmo Jarvis', 'Naomi Ackie'], ['Jennifer Lawrence', 'Robert De Niro', 'Bradley Cooper', 'Edgar Ramírez'], ['Kate Winslet', 'Judy Davis', 'Liam Hemsworth,Hugo Weaving'], ['Jesse Eisenberg', 'Kristen Stewart', 'Steve Carell', 'Blake Lively'], ['Shailene Woodley', 'Ansel Elgort', 'Theo James,Kate Winslet'], ['Ben Barnes', 'Julianne Moore', 'Jeff Bridges', 'Alicia Vikander'], ['Omar Sy', 'Clémence Poésy', 'Antoine Bertrand', 'Ashley Walters'], ['Eddie Redmayne', 'Felicity Jones', 'Tom Prior', 'Sophie Perry'], ['James Franco', 'Jonah Hill', 'Seth Rogen,Jay Baruchel'], ['Domhnall Gleeson', 'Rachel McAdams', 'Bill Nighy,Lydia Wilson'], ['Will Ferrell', 'John C. Reilly', 'Mary Steenburgen,Richard Jenkins'], ['Andy Powers', 'Laura Allen', 'Peter Stormare', 'Christian Distefano'], ['Chris Pine', 'Zachary Quinto', 'Zoe Saldana', 'Benedict Cumberbatch'], ['Jesse Eisenberg', 'Emma Stone', 'Woody Harrelson,Abigail Breslin'], ['Josh Brolin', 'George Clooney', 'Alden Ehrenreich', 'Ralph Fiennes'], ['Dev Patel', 'Freida Pinto', 'Saurabh Shukla', 'Anil Kapoor'], ['Kristen Stewart', 'Robert Pattinson', 'Taylor Lautner', 'Peter Facinelli'], ['William Fichtner', 'Jon Voight', 'Lia Marie Johnson,Gabriel Basso'], ['Andrew Garfield', 'Emma Stone', 'Rhys Ifans', 'Irrfan Khan'], ['Jack Huston', 'Toby Kebbell', 'Rodrigo Santoro,Nazanin Boniadi'], ['Jacob Latimore', 'Seychelle Gabriel', 'Dulé Hill', 'Storm Reid'], [\"Dylan O'Brien\", 'Kaya Scodelario', 'Will Poulter', 'Thomas Brodie-Sangster'], ['Kevin Costner', 'Ryan Reynolds', 'Gal Gadot', 'Gary Oldman'], ['Angelina Jolie', 'James McAvoy', 'Morgan Freeman', 'Terence Stamp'], ['Meryl Streep', 'Hugh Grant', 'Simon Helberg', 'Rebecca Ferguson'], ['Nicholas Hoult', 'Felicity Jones', 'Anthony Hopkins', 'Ben Kingsley'], ['Johnny Depp', 'Benedict Cumberbatch', 'Dakota Johnson', 'Joel Edgerton'], ['Michael B. Jordan', 'Sylvester Stallone', 'Tessa Thompson', 'Phylicia Rashad'], ['Paul Dano', 'Daniel Radcliffe', 'Mary Elizabeth Winstead', 'Antonia Ribero'], ['Sylvester Stallone', 'Jason Statham', 'Jet Li', 'Antonio Banderas'], ['Jemaine Clement', 'Taika Waititi,Cori Gonzalez-Macuer', 'Jonny Brugh'], ['Jake Gyllenhaal', 'Rachel McAdams', 'Oona Laurence,Forest Whitaker'], ['John Gallagher Jr.', 'Kate Siegel', 'Michael Trucco,Samantha Sloyan'], ['Tom Hanks', 'Mark Rylance', 'Alan Alda', 'Amy Ryan'], ['Chris Pratt', 'Will Ferrell', 'Elizabeth Banks', 'Will Arnett'], ['Jason Clarke', 'Ang Phula Sherpa', 'Thomas M. Wright', 'Martin Henderson'], ['Adam Sandler', 'Kevin James', 'Michelle Monaghan,Peter Dinklage'], ['Russell Crowe', 'Cate Blanchett', 'Matthew Macfadyen,Max von Sydow'], ['Hugh Jackman', 'Will Yun Lee', 'Tao Okamoto', 'Rila Fukushima'], ['Taylor Kitsch', 'Lynn Collins', 'Willem Dafoe,Samantha Morton'], ['Keegan-Michael Key', 'Jordan Peele', 'Tiffany Haddish,Method Man'], ['Sean Penn', 'Idris Elba', 'Jasmine Trinca', 'Javier Bardem'], ['Michael Fassbender', 'Kate Winslet', 'Seth Rogen', 'Jeff Daniels'], ['Tim Pigott-Smith', 'Naomi Battrick', 'Ellie Kendrick,James Cosmo'], ['Adam Sandler', 'Kevin James', 'Chris Rock', 'David Spade'], ['Blake Lively', 'Michiel Huisman', 'Harrison Ford,Kathy Baker'], ['Edward Norton', 'Liv Tyler', 'Tim Roth', 'William Hurt'], ['Vince Vaughn', 'Malin Akerman', 'Jon Favreau', 'Jason Bateman'], ['Simon Pegg', 'Kate Beckinsale', 'Sanjeev Bhaskar', 'Rob Riggle'], ['Channing Tatum', 'Alex Pettyfer', 'Olivia Munn,Matthew McConaughey'], ['Sandra Bullock', 'Jon Hamm', 'Michael Keaton', 'Pierre Coffin'], ['Natasha Henstridge', 'Lukas Hassel', 'Lin Shaye,Dominique Swain'], ['Tom Hardy', 'Kelly Adams', 'Luing Andrews,Katy Barker'], ['Steve Carell', 'Jason Segel', 'Russell Brand', 'Julie Andrews'], ['James Marsden', 'Michelle Monaghan', 'Luke Bracey,Liana Liberato'], ['Logan Marshall-Green', 'Emayatzy Corinealdi', 'Michiel Huisman', 'Tammy Blanchard'], ['Jessica Chastain', 'Joel Edgerton', 'Chris Pratt', 'Mark Strong'], ['Mandy Moore', 'Zachary Levi', 'Donna Murphy', 'Ron Perlman'], ['Jennifer Lawrence', 'Josh Hutcherson', 'Liam Hemsworth', 'Woody Harrelson'], ['Ed Helms', 'Christina Applegate', 'Skyler Gisondo', 'Steele Stebbins'], ['Liam Neeson', 'Maggie Grace', 'Famke Janssen', 'Leland Orser'], ['Anna Kendrick', 'Rebel Wilson', 'Hailee Steinfeld,Brittany Snow'], ['Billy Crystal', 'John Goodman', 'Steve Buscemi', 'Helen Mirren'], ['Isabelle Huppert', 'Laurent Lafitte', 'Anne Consigny,Charles Berling'], ['Jason Statham', 'Jessica Alba', 'Tommy Lee Jones,Michelle Yeoh'], ['Justin Long', 'Michael Parks', 'Haley Joel Osment,Genesis Rodriguez'], ['Alison Brie', 'Gerard Butler', 'Willem Dafoe', 'Gretchen Mol'], ['Keira Knightley', 'James McAvoy', 'Brenda Blethyn,Saoirse Ronan'], ['Daniel Radcliffe', 'Emma Watson', 'Rupert Grint', 'Bill Nighy'], ['Michael Fassbender', 'Carey Mulligan', 'James Badge Dale', 'Lucy Walters'], ['Saoirse Ronan', 'Cate Blanchett', 'Eric Bana', 'Vicky Krieps'], ['Lauren Birkell', 'Paul Borghese', 'Chira Cassel', 'Anthony Cirillo'], ['Lily James', 'Sam Riley', 'Jack Huston', 'Bella Heathcote'], ['Sullivan Stapleton', 'Eva Green', 'Lena Headey', 'Hans Matheson'], ['Gerard Butler', 'Aaron Eckhart', 'Morgan Freeman,Angela Bassett'], ['Brad Pitt', 'Cate Blanchett', 'Tilda Swinton', 'Julia Ormond'], ['Mickey Rourke', 'Jessica Alba', 'Josh Brolin', 'Joseph Gordon-Levitt'], ['Matt Damon', 'Edgar Ramírez', 'Joan Allen', 'Julia Stiles'], [\"Srdjan 'Zika' Todorovic\", 'Sergej Trifunovic,Jelena Gavrilovic', 'Slobodan Bestic'], ['Frank Grillo', 'Elizabeth Mitchell', 'Mykelti Williamson', 'Joseph Julian Soria'], ['Aamir Khan', 'Madhavan', 'Mona Singh', 'Sharman Joshi'], ['Ben Stiller', 'Owen Wilson', 'Penélope Cruz', 'Will Ferrell'], ['Brad Pitt', 'Mireille Enos', 'Daniella Kertesz', 'James Badge Dale'], ['Tom Cruise', 'Jeremy Renner', 'Simon Pegg', 'Paula Patton'], ['Marilyn Manson', 'Mark Boone Junior', 'Sam Quartin', 'Niko Nicotera'], ['James McAvoy', 'Jamie Bell', 'Eddie Marsan', 'Imogen Poots'], ['Scott Eastwood', 'Britt Robertson', 'Alan Alda', 'Jack Huston'], ['Naomi Watts', 'Ewan McGregor', 'Tom Holland', 'Oaklee Pendergast'], ['Aaron Taylor-Johnson', 'Chloë Grace Moretz,Christopher Mintz-Plasse', 'Jim Carrey'], ['Alex Karpovsky', 'Wyatt Russell', 'Meredith Hagner,Melanie Lynskey'], ['James Franco', 'Michelle Williams', 'Rachel Weisz', 'Mila Kunis'], ['Saoirse Ronan', 'Emory Cohen', 'Domhnall Gleeson,Jim Broadbent'], ['Dakota Fanning', 'Teri Hatcher', 'John Hodgman', 'Jennifer Saunders'], ['Ryan Gosling', 'Michelle Williams', 'John Doman,Faith Wladyka'], ['Logan Paul', 'Peyton List', 'Lia Marie Johnson,Calum Worthy'], ['Radha Mitchell', 'Laurie Holden', 'Sean Bean,Deborah Kara Unger'], ['Karl Urban', 'Olivia Thirlby', 'Lena Headey', 'Rachel Wood'], ['Sam Neill', 'Julian Dennison', 'Rima Te Wiata', 'Rachel House'], ['Ryan Potter', 'Scott Adsit', 'Jamie Chung,T.J. Miller'], ['Chloë Grace Moretz', 'Julianne Moore', 'Gabriella Wilde', 'Portia Doubleday'], ['Robert Downey Jr.', 'Mickey Rourke', 'Gwyneth Paltrow,Don Cheadle'], ['Jake Gyllenhaal', 'Naomi Watts', 'Chris Cooper,Judah Lewis'], ['Dennis Quaid', 'Ben Foster', 'Cam Gigandet', 'Antje Traue'], ['Gerard Butler', 'Aaron Eckhart', 'Morgan Freeman,Angela Bassett'], ['Alex Pettyfer', 'Timothy Olyphant', 'Dianna Agron', 'Teresa Palmer'], ['Mads Mikkelsen', 'Thomas Bo Larsen', 'Annika Wedderkopp', 'Lasse Fogelstrøm'], ['Sandra Bullock', 'Ryan Reynolds', 'Mary Steenburgen,Craig T. Nelson'], ['Will Ferrell', 'Kevin Hart', 'Alison Brie', 'T.I.'], ['Adam Sandler', 'Jennifer Aniston', 'Brooklyn Decker,Nicole Kidman'], ['Leonardo DiCaprio', 'Kate Winslet', 'Christopher Fitzgerald', 'Jonathan Roumie'], ['Ben Affleck', 'Rebecca Hall', 'Jon Hamm', 'Jeremy Renner'], ['Lauren Cohan', 'Rupert Evans', 'James Russell', 'Jim Norton'], ['Rachel Weisz', 'Tom Wilkinson', 'Timothy Spall', 'Andrew Scott'], ['Ethan Hawke', 'Sarah Snook', 'Noah Taylor', 'Madeleine West'], ['Jack Black', 'Dylan Minnette', 'Odeya Rush', 'Ryan Lee'], ['Robert Downey Jr.', 'Jude Law', 'Jared Harris', 'Rachel McAdams'], ['Angelina Jolie', 'Liev Schreiber', 'Chiwetel Ejiofor', 'Daniel Olbrychski'], ['Jake Gyllenhaal', 'Mélanie Laurent', 'Sarah Gadon,Isabella Rossellini'], ['Sharlto Copley', 'David James', 'Jason Cope', 'Nathalie Boltt'], ['Will Ferrell', 'Mark Wahlberg', 'Derek Jeter', 'Eva Mendes'], ['Denzel Washington', 'Russell Crowe', 'Chiwetel Ejiofor,Josh Brolin'], ['Kirsten Dunst', 'Jason Schwartzman', 'Rip Torn', 'Judy Davis'], ['John Cusack', 'Thandie Newton', 'Chiwetel Ejiofor,Amanda Peet'], ['Daniel Radcliffe', 'Emma Watson', 'Rupert Grint', 'Michael Gambon'], ['Ben Affleck', 'Bryan Cranston', 'John Goodman', 'Alan Arkin'], ['Taron Egerton', 'Hugh Jackman', 'Tom Costello', 'Jo Hartley'], ['Ulrich Mühe', 'Martina Gedeck,Sebastian Koch', 'Ulrich Tukur'], ['Dominic Monaghan', 'Ksenia Solo', \"Jennette McCurdy,Da'Vone McDonald\"], ['Alia Shawkat', 'Nancy Kwan', 'Annabelle Attanasio,Alfred Molina'], ['Michael Fassbender', 'Marion Cotillard', 'Jack Madigan,Frank Madigan'], ['Kristen Bell', 'Jason Segel', 'Paul Rudd', 'Mila Kunis'], ['Brenton Thwaites', 'Jeff Bridges', 'Meryl Streep', 'Taylor Swift'], ['Casey Affleck', 'Chiwetel Ejiofor', 'Anthony Mackie,Aaron Paul'], ['Giuseppe Battiston', 'Anna Foglietta', 'Marco Giallini,Edoardo Leo'], ['Jason Sudeikis', 'Josh Gad', 'Danny McBride', 'Maya Rudolph'], ['Jared Gilman', 'Kara Hayward', 'Bruce Willis', 'Bill Murray'], ['John Travolta', 'Queen Latifah', 'Nikki Blonsky,Michelle Pfeiffer'], ['Julianne Hough', 'Josh Duhamel', 'Cobie Smulders,David Lyons'], ['Will Smith', 'Margot Robbie', 'Rodrigo Santoro', 'Adrian Martinez'], ['Brad Garrett', 'Lou Romano', 'Patton Oswalt,Ian Holm'], ['Connor Paolo', 'Nick Damici', 'Kelly McGillis', 'Gregory Jones'], ['Denzel Washington', 'Mila Kunis', 'Ray Stevenson', 'Gary Oldman'], ['Mike Vogel', 'Jessica Lucas', 'Lizzy Caplan', 'T.J. Miller'], ['Edgar Ramírez', 'Luke Bracey', 'Ray Winstone', 'Teresa Palmer'], ['Scarlett Johansson', 'Jeremy McWilliams', 'Lynsey Taylor Mackay', 'Dougie McConnell'], ['Will Smith', 'Alice Braga', 'Charlie Tahan', 'Salli Richardson-Whitfield'], ['Will Smith', 'Tommy Lee Jones', 'Josh Brolin,Jemaine Clement'], ['Elle Fanning', 'AJ Michalka', 'Kyle Chandler', 'Joel Courtney'], ['Gerard Butler', 'Jamie Foxx', 'Leslie Bibb', 'Colm Meaney'], ['Edward Asner', 'Jordan Nagai', 'John Ratzenberger', 'Christopher Plummer'], [\"Dylan O'Brien\", 'Kaya Scodelario', 'Thomas Brodie-Sangster,Giancarlo Esposito'], ['Cate Blanchett', 'Rooney Mara', 'Sarah Paulson', 'Kyle Chandler'], ['Daniel Radcliffe', 'Toni Collette', 'Tracy Letts', 'Sam Trammell'], ['Michael Caine', 'Harvey Keitel', 'Rachel Weisz', 'Jane Fonda'], ['Jared Leto', 'Sarah Polley', 'Diane Kruger', 'Linh Dan Pham'], ['Riz Ahmed', 'Billie Piper', 'James Floyd', 'Cush Jumbo'], ['Aaron Taylor-Johnson', 'Taylor Kitsch', 'Blake Lively,Benicio Del Toro'], ['Zooey Deschanel', 'Joseph Gordon-Levitt', 'Geoffrey Arend', 'Chloë Grace Moretz'], ['Emma Stone', 'Stephen Merchant', 'Richard Gere', 'Liev Schreiber'], ['Sandra Bullock', 'George Clooney', 'Ed Harris', 'Orto Ignatiussen'], ['Asa Butterfield', 'David Thewlis', 'Rupert Friend', \"Zac Mattoon O'Brien\"], ['Mark Wahlberg', 'Michael Peña', 'Rhona Mitra', 'Danny Glover'], ['Mark Wahlberg', 'Zooey Deschanel', 'John Leguizamo', 'Ashlyn Sanchez'], ['Kurt Russell', 'Patrick Wilson', 'Matthew Fox', 'Richard Jenkins'], ['Channing Tatum', 'Joe Manganiello', 'Matt Bomer,Adam Rodriguez'], ['Emma Stone', 'Amanda Bynes', 'Penn Badgley', 'Dan Byrd'], ['Christian Bale', 'Joel Edgerton', 'Ben Kingsley', 'Sigourney Weaver'], ['Sharlto Copley', 'Dev Patel', 'Hugh Jackman,Sigourney Weaver'], ['Ian McKellen', 'Martin Freeman', 'Richard Armitage,Ken Stott'], ['Chiwetel Ejiofor', 'Thandie Newton', 'Anika Noni Rose,Joseph Mawle'], ['Jamie Dornan', 'Cillian Murphy', 'Brian Caspe', 'Karel Hermánek Jr.'], ['Michael Fassbender', 'Penélope Cruz', 'Cameron Diaz,Javier Bardem'], ['Anton Adasinsky', 'Aleksandr Armer', 'Vilen Babichev', 'Rostislav Bershauer'], ['Tina Fey', 'Margot Robbie', 'Martin Freeman', 'Alfred Molina'], ['Clive Owen', 'Catherine Keener', 'Liana Liberato,Jason Clarke'], ['Billy Magnussen', 'Terry Chen', 'Teresa Navarro,Vanessa Ross'], ['Matt Damon', 'Jodie Foster', 'Sharlto Copley', 'Alice Braga'], ['Lorenza Izzo', 'Ariel Levy', 'Aaron Burns', 'Kirby Bliss Blanton'], ['Aaron Taylor-Johnson', 'Elizabeth Olsen', 'Bryan Cranston', 'Ken Watanabe'], ['Jeremy Renner', 'Rachel Weisz', 'Edward Norton', 'Scott Glenn'], ['Russell Crowe', 'Abbie Cornish', 'Albert Finney', 'Marion Cotillard'], ['Alycia Debnam-Carey', 'William Moseley', 'Connor Paolo', 'Brit Morgan'], ['Denzel Washington', 'Paula Patton', 'Jim Caviezel', 'Val Kilmer'], ['Scarlett Johansson', 'Morgan Freeman', 'Min-sik Choi,Amr Waked'], ['Cynthia Nixon', 'Jennifer Ehle', 'Duncan Duff', 'Keith Carradine'], ['Aaron Paul', 'Dominic Cooper', 'Imogen Poots', 'Scott Mescudi'], ['Tom Cruise', 'Rosamund Pike', 'Richard Jenkins', 'Werner Herzog'], ['Adam Sandler', 'David Spade', 'Paula Patton', 'Kathryn Hahn'], ['Jim Carrey', 'Charlotte Gainsbourg', 'Marton Csokas', 'Kati Outinen'], ['Ewan McGregor', 'Jennifer Connelly', 'Dakota Fanning', 'Peter Riegert'], ['Ewan McGregor', 'Pierce Brosnan', 'Olivia Williams,Jon Bernthal'], ['Bradley Cooper', 'Anna Friel', 'Abbie Cornish', 'Robert De Niro'], ['James Badge Dale', 'Emily Mortimer', 'Bruce Greenwood,Max Martini'], ['Hilary Swank', 'Gerard Butler', 'Harry Connick Jr.', 'Lisa Kudrow'], ['Patrick Wilson', 'Lena Headey', 'Ray Winstone,Richard Dreyfuss'], ['Michael Shannon', 'Joel Edgerton', 'Kirsten Dunst', 'Adam Driver'], ['Keegan-Michael Key', 'Gillian Jacobs', 'Mike Birbiglia,Chris Gethard'], ['Mia Wasikowska', 'Johnny Depp', 'Helena Bonham Carter,Anne Hathaway'], ['Elisabeth Moss', 'Naomi Watts', 'Ron Perlman', 'Liev Schreiber'], ['Dave Johns', 'Hayley Squires', 'Sharon Percy', 'Briana Shann'], ['Jennifer Aniston', 'Vince Vaughn', 'Jon Favreau', 'Joey Lauren Adams'], ['Ruth Negga', 'Joel Edgerton', 'Will Dalton', 'Dean Mumford'], ['Miles Teller', 'Kate Mara', 'Michael B. Jordan', 'Jamie Bell'], ['Mia Goth', 'Martin McCann', 'Barry Ward', 'Andrew Simpson'], ['Emma Watson', 'Daniel Brühl', 'Michael Nyqvist,Richenda Carey'], ['Jennifer Lopez', 'Ryan Guzman', 'Kristin Chenoweth', 'John Corbett'], ['Jason Bateman', 'Rebecca Hall', 'Joel Edgerton', 'Allison Tolman'], ['Luke Evans', 'Dominic Cooper', 'Sarah Gadon', 'Art Parkinson'], ['Chris Hemsworth', 'Cillian Murphy', 'Brendan Gleeson,Ben Whishaw'], ['Luke Wilson', 'Maya Rudolph', 'Dax Shepard', 'Terry Crews'], ['Sylvester Stallone', 'Jason Statham', 'Jet Li', 'Dolph Lundgren'], ['Jane Levy', 'Shiloh Fernandez', 'Jessica Lucas', 'Lou Taylor Pucci'], ['Ethan Hawke', 'Juliet Rylance', 'James Ransone,Fred Dalton Thompson'], ['John C. Reilly', 'Jack McBrayer', 'Jane Lynch', 'Sarah Silverman'], ['Kristen Stewart', 'Chris Hemsworth', 'Charlize Theron', 'Sam Claflin'], ['Levi Miller', 'Hugh Jackman', 'Garrett Hedlund', 'Rooney Mara'], ['Shia LaBeouf', 'Rosie Huntington-Whiteley', 'Tyrese Gibson', 'Josh Duhamel'], ['Ellen Page', 'Michael Cera', 'Jennifer Garner', 'Jason Bateman'], ['Tom Hanks', 'Sarita Choudhury', 'Ben Whishaw,Alexander Black'], ['George Clooney', 'Julia Roberts', \"Jack O'Connell,Dominic West\"], ['Cameron Diaz', 'Leslie Mann', 'Kate Upton', 'Nikolaj Coster-Waldau'], ['Amy Adams', 'Susan Sarandon', 'James Marsden', 'Patrick Dempsey'], ['Robert De Niro', 'Anne Hathaway', 'Rene Russo,Anders Holm'], ['Steve Carell', 'Toni Collette', 'Greg Kinnear', 'Abigail Breslin'], ['Miles Teller', 'Aaron Eckhart', 'Katey Sagal', 'Ciarán Hinds'], ['Sam Worthington', 'Liam Neeson', 'Ralph Fiennes,Jason Flemyng'], ['Chris Pine', 'Casey Affleck', 'Ben Foster', 'Eric Bana'], ['Jeff Bridges', 'Garrett Hedlund', 'Olivia Wilde', 'Bruce Boxleitner'], ['Jennifer Lawrence', 'Josh Hutcherson', 'Liam Hemsworth', 'Philip Seymour Hoffman'], ['Ryan Gosling', 'Kirsten Dunst', 'Frank Langella', 'Lily Rabe'], ['Dave Bautista', 'Alain Moussi', 'Gina Carano', 'Jean-Claude Van Damme'], ['Noah Ringer', 'Nicola Peltz', 'Jackson Rathbone,Dev Patel'], ['Jason Segel', 'Cameron Diaz', 'Rob Corddry', 'Ellie Kemper'], ['Cameron Diaz', 'Matthew Morrison', 'J. Todd Smith', 'Dennis Quaid'], ['Brad Pitt', 'Robin Wright', 'Jonah Hill', 'Philip Seymour Hoffman'], ['Nicolas Cage', 'Eva Mendes', 'Sam Elliott', 'Matt Long'], [\"Jack O'Connell\", 'Miyavi', 'Domhnall Gleeson', 'Garrett Hedlund'], ['Henry Cavill', 'Mickey Rourke', 'John Hurt', 'Stephen Dorff'], ['Cillian Murphy', 'Rose Byrne', 'Chris Evans', 'Michelle Yeoh'], ['Kelly Macdonald,Billy Connolly', 'Emma Thompson', 'Julie Walters'], ['Michael Nyqvist', 'Noomi Rapace', 'Ewa Fröling,Lena Endre'], ['Naomi Watts', 'Robin Wright', 'Xavier Samuel', 'James Frecheville'], ['Tom Hardy', 'Noomi Rapace', 'James Gandolfini,Matthias Schoenaerts'], ['Amanda Bynes', 'Laura Ramsey', 'Channing Tatum,Vinnie Jones'], ['Will Ferrell', 'Mark Wahlberg', 'Linda Cardellini', 'Thomas Haden Church'], ['Kodi Smit-McPhee', 'Chloë Grace Moretz', 'Richard Jenkins', 'Cara Buono'], ['Sean Faris', 'Djimon Hounsou', 'Amber Heard', 'Cam Gigandet'], ['Sacha Baron Cohen', 'Mark Strong', 'Rebel Wilson,Freddie Crowder'], ['Sam Rockwell', 'Kevin Spacey', 'Dominique McElligott,Rosie Shaw'], ['Will Ferrell', 'Jonah Hill', 'Brad Pitt', 'Tina Fey'], ['Sean Penn', 'Ryan Gosling', 'Emma Stone', 'Giovanni Ribisi'], ['Mel Gibson', 'Erin Moriarty', 'Diego Luna', 'Michael Parks'], ['Jennifer Aniston', 'Jennifer Connelly', 'Morgan Lily,Trenton Rogers'], ['Jack Black', 'Bryan Cranston', 'Dustin Hoffman', 'Angelina Jolie'], ['Matt Vael', 'Simon Cotton', 'Kevin Leslie', 'Olivia Moyles'], [\"Fionn O'Shea\", 'Nicholas Galitzine', 'Andrew Scott', 'Moe Dunford'], ['Jennifer Lawrence', 'John Hawkes', 'Garret Dillahunt,Isaiah Stone'], ['Jason Bateman', 'Charlie Day', 'Jason Sudeikis', 'Steve Wiebe'], ['Anne Dorval', 'Antoine-Olivier Pilon', 'Suzanne Clément,Patrick Huard'], ['Ron Perlman', 'Selma Blair', 'Doug Jones', 'John Alexander'], ['Alice Englert', 'Viola Davis', 'Emma Thompson,Alden Ehrenreich'], ['Sandra Hüller', 'Peter Simonischek', 'Michael Wittenborn,Thomas Loibl'], ['Rachel Weisz', 'Mark Wahlberg', 'Saoirse Ronan', 'Susan Sarandon'], ['Brad Pitt', 'Casey Affleck', 'Sam Shepard', 'Mary-Louise Parker'], ['Joseph Gordon-Levitt', 'Scarlett Johansson,Julianne Moore', 'Tony Danza'], ['Idris Elba', 'Richard Madden', 'Charlotte Le Bon', 'Kelly Reilly'], ['Paul Sidhu', 'Branden Coles', 'Arielle Holmes', 'Kelcey Watson'], ['Matthew McConaughey', 'Gugu Mbatha-Raw', 'Mahershala Ali', 'Keri Russell'], ['Anna Kendrick', 'Sam Rockwell', 'Tim Roth', 'James Ransone'], ['Ben Stiller', 'Kristen Wiig', 'Jon Daly', 'Kathryn Hahn'], ['Shameik Moore', 'Tony Revolori', 'Kiersey Clemons,Kimberly Elise'], ['Kate Beckinsale', 'Michael Ealy', 'India Eisley', 'Stephen Rea'], ['Willem Dafoe', 'Charlotte Gainsbourg', 'Storm Acheche Sahlstrøm'], ['Jared Padalecki', 'Amanda Righetti', 'Derek Mears,Danielle Panabaker'], ['Liam Neeson', 'Forest Whitaker', 'Maggie Grace,Famke Janssen'], ['Colin Farrell', 'Bokeem Woodbine', 'Bryan Cranston,Kate Beckinsale'], ['Patrick Stewart', 'Hugh Jackman', 'Halle Berry', 'Famke Janssen'], ['Lyndsy Fonseca', 'Michael Doneger', 'Tommy Dewey,Bruce Campbell'], ['Keanu Reeves', 'Renée Zellweger', 'Gugu Mbatha-Raw', 'Gabriel Basso'], ['Ben Stiller', 'Robin Williams', 'Owen Wilson', 'Dick Van Dyke'], ['Jake Gyllenhaal', 'Anne Hathaway', 'Judy Greer', 'Oliver Platt'], ['James Franco', 'Seth Rogen', 'Randall Park', 'Lizzy Caplan'], ['Kang-ho Song', 'Hee-Bong Byun', 'Hae-il Park', 'Doona Bae'], ['Amber Perkins', 'Rachel Quinn', 'Dean Waite', 'Jael Elizabeth Steinmeyer'], ['Ben Burtt', 'Elissa Knight', 'Jeff Garlin', 'Fred Willard'], ['Seth Rogen', 'Katherine Heigl', 'Paul Rudd', 'Leslie Mann'], ['Jake Gyllenhaal', 'Michelle Monaghan', 'Vera Farmiga,Jeffrey Wright'], ['Tom Hardy', 'Shia LaBeouf', 'Guy Pearce', 'Jason Clarke'], ['Heather Sossaman', 'Matthew Bohrer', 'Courtney Halverson', 'Shelley Hennig'], ['Jason Biggs', 'Alyson Hannigan,Seann William Scott', 'Chris Klein'], ['Will Smith', 'Thandie Newton', 'Jaden Smith', 'Brian Howe'], ['Darío Grandinetti', 'María Marull', 'Mónica Villa', 'Rita Cortese'], ['Adam Sandler', 'Terry Crews', 'Jorge Garcia', 'Taylor Lautner'], ['Pierre Niney', 'Paula Beer', 'Ernst Stötzner', 'Marie Gruber'], [\"Sofia Black-D'Elia\", 'Analeigh Tipton,Travis Tope', 'Michael Kelly'], ['Clint Eastwood', 'Bee Vang', 'Christopher Carley,Ahney Her'], ['Bradley Cooper', 'Sienna Miller', 'Daniel Brühl', 'Riccardo Scamarcio'], ['Dan Crisafulli', 'Kay Whitney', 'Richard Garcia', 'Pat Cashman'], ['Emily Browning', 'Rachael Blake', 'Ewen Leslie', 'Bridgette Barrett'], ['Zoey Deutch', 'Lucy Fry', 'Danila Kozlovsky', 'Gabriel Byrne'], ['Johnny Depp', 'Helena Bonham Carter', 'Alan Rickman,Timothy Spall'], ['Anthony Hopkins', 'Jeffrey Dean Morgan', 'Abbie Cornish', 'Colin Farrell'], ['Patrick Wilson', 'Rose Byrne', 'Ty Simpkins', 'Lin Shaye'], ['Andy Samberg', 'Jorma Taccone,Akiva Schaffer', 'Sarah Silverman'], ['Ellie Kendrick', 'David Troughton', 'Jack Holden,Joe Blakemore'], ['Christian Bale', 'Johnny Depp', 'Christian Stolte', 'Jason Clarke'], ['Ellar Coltrane', 'Patricia Arquette', 'Ethan Hawke,Elijah Smith'], ['Megan Fox', 'Will Arnett', 'William Fichtner', 'Noel Fisher'], ['Naomi Watts', 'Viggo Mortensen', 'Armin Mueller-Stahl', 'Josef Altin'], ['Geoffrey Rush', 'Nicholas Hope', 'Sam Neill', 'Ewen Leslie'], ['Seth Rogen', 'James Franco', 'Gary Cole', 'Danny McBride'], [\"Dylan O'Brien\", 'Britt Robertson', 'Victoria Justice', 'James Frecheville'], ['Morgan Freeman', 'Ed Harris', 'Casey Affleck', 'Michelle Monaghan'], ['Sandra Bullock', 'Michael McDonald', 'Melissa McCarthy,Demián Bichir'], ['Isabelle Huppert', 'André Marcon', 'Roman Kolinka,Edith Scob'], ['Keira Knightley', 'Jude Law', 'Aaron Taylor-Johnson,Matthew Macfadyen'], ['Ethan Hawke', 'David Thewlis', 'Emma Watson,Dale Dickey'], ['Mark Wahlberg', 'Seth MacFarlane', 'Amanda Seyfried', 'Jessica Barth'], ['Mark Wahlberg', 'Dwayne Johnson', 'Anthony Mackie,Tony Shalhoub'], ['Leonardo DiCaprio', 'Djimon Hounsou', 'Jennifer Connelly', 'Kagiso Kuypers'], ['Colin Firth', 'Reese Witherspoon', 'Alessandro Nivola,James Hamrick'], ['Tom Hardy', 'Gary Oldman', 'Noomi Rapace', 'Joel Kinnaman'], ['Jeremy Renner', 'Anthony Mackie', 'Brian Geraghty,Guy Pearce'], ['Ryan Reynolds', 'Blake Lively', 'Peter Sarsgaard,Mark Strong'], ['Alexander Skarsgård', 'Michael Peña', 'Theo James', 'Tessa Thompson'], ['Thomas Jane', 'Marcia Gay Harden', 'Laurie Holden,Andre Braugher'], ['Sylvester Stallone', 'Arnold Schwarzenegger', '50 Cent', \"Vincent D'Onofrio\"], ['Lily Collins', 'Sam Claflin', 'Christian Cooke', 'Jaime Winstone'], ['Mae Whitman', 'Bella Thorne', 'Robbie Amell', 'Allison Janney'], ['Byung-hun Lee', 'Yoo Gong', 'Kang-ho Song', 'Ji-min Han'], ['Jennifer Lawrence', 'Josh Hutcherson', 'Liam Hemsworth', 'Woody Harrelson'], ['Tilda Swinton', 'John C. Reilly', 'Ezra Miller', 'Jasper Newell'], ['Kate Beckinsale', 'Chloë Sevigny', 'Xavier Samuel,Emma Greenwell'], ['Lily Collins', 'Jamie Campbell Bower', 'Robert Sheehan,Jemima West'], ['Will Smith', 'Rosario Dawson', 'Woody Harrelson,Michael Ealy'], ['Colin Firth', 'Geoffrey Rush', 'Helena Bonham Carter,Derek Jacobi'], ['Stuart Graham', 'Laine Megaw', 'Brian Milligan', 'Liam McMahon'], ['Hayden Christensen', 'Samuel L. Jackson', 'Jamie Bell,Rachel Bilson'], ['Tom Hanks', 'Tim Allen', 'Joan Cusack', 'Ned Beatty'], ['Gary Oldman', 'Colin Firth', 'Tom Hardy', 'Mark Strong'], ['Milla Jovovich', 'Sienna Guillory', 'Michelle Rodriguez', 'Aryana Engineer'], ['Alia Bhatt', 'Shah Rukh Khan', 'Kunal Kapoor', 'Priyanka Moodley'], ['Colin Firth', 'Jude Law', 'Nicole Kidman', 'Laura Linney'], ['Kit Harington', 'Emily Browning', 'Kiefer Sutherland', 'Adewale Akinnuoye-Agbaje'], ['Suraj Sharma', 'Irrfan Khan', 'Adil Hussain', 'Tabu'], ['Richard Gere', 'Joan Allen', 'Cary-Hiroyuki Tagawa,Sarah Roemer'], ['Channing Tatum', 'Rosario Dawson', 'Chris Pratt', 'Jenna Dewan Tatum'], ['Michael Pitt', 'Steven Yeun', 'Astrid Bergès-Frisbey', 'Brit Marling'], ['Bruce Willis', 'Justin Long', 'Timothy Olyphant', 'Maggie Q'], ['Wesley Elder', 'Christina Grimmie', 'Osric Chau', 'Olan Rogers'], ['Naomi Watts', 'Tim Roth', 'Michael Pitt', 'Brady Corbet'], ['Mark Wahlberg', 'Mila Kunis', 'Seth MacFarlane', 'Joel McHale'], ['Bruce Willis', 'Helen Mirren', 'Morgan Freeman,Mary-Louise Parker'], ['Nicole Kidman', 'Hugh Jackman', 'Shea Adams', 'Eddie Baroo'], ['Dwayne Johnson', 'Billy Bob Thornton', 'Maggie Grace', 'Mauricio Lopez'], ['Josh Stewart', 'Bill Engvall', 'Alex Essoe', 'Ronnie Gene Blevins'], ['Matt Damon', 'Emily Blunt', 'Lisa Thoreson', 'Florence Kastriner'], ['Sharlto Copley', 'Charlie Day', 'Richard Jenkins', 'Anna Kendrick'], ['Robert Downey Jr.', 'Robert Duvall', 'Vera Farmiga', 'Billy Bob Thornton'], ['Eric Bana', 'Rebecca Hall', 'Jim Broadbent', 'Ciarán Hinds'], ['Shia LaBeouf', 'Megan Fox', 'Josh Duhamel', 'Tyrese Gibson'], ['Emmanuel Garijo', 'Tom Hudson', 'Baptiste Goy', 'Axel Devillers'], ['Diego Luna', 'Zoe Saldana', 'Channing Tatum', 'Ron Perlman'], ['Lubna Azabal', 'Mélissa Désormeaux-Poulin', 'Maxim Gaudette', 'Mustafa Kamel'], ['Ben Stiller', 'Michelle Monaghan,Malin Akerman', 'Jerry Stiller'], ['Elijah Wood', 'Brittany Murphy', 'Hugh Jackman', 'Robin Williams'], ['Adrian Grenier', 'Kevin Connolly', 'Jerry Ferrara', 'Kevin Dillon'], ['Scott Speedman', 'Liv Tyler', 'Gemma Ward', 'Alex Fisher'], ['Russell Crowe', 'Jennifer Connelly', 'Anthony Hopkins', 'Emma Watson'], ['Seth Rogen', 'Rose Byrne', 'Zac Efron', 'Lisa Kudrow'], ['Charlotte Gainsbourg', 'Stellan Skarsgård', 'Willem Dafoe', 'Jamie Bell'], ['Reese Witherspoon', 'Laura Dern', 'Gaby Hoffmann,Michiel Huisman'], ['Adam Sandler', 'Salma Hayek', 'Kevin James', 'Chris Rock'], ['James Allen McCune', 'Callie Hernandez', 'Corbin Reid', 'Brandon Scott'], ['Jackie Chan', 'Jaden Smith', 'Taraji P. Henson', 'Wenwen Han'], ['Johnny Depp', 'Michelle Pfeiffer', 'Eva Green', 'Helena Bonham Carter'], ['Mila Kunis', 'Justin Timberlake', 'Patricia Clarkson', 'Jenna Elfman'], ['Edward Norton', 'Jessica Biel', 'Paul Giamatti', 'Rufus Sewell'], ['Liam Neeson', 'Bradley Cooper', 'Sharlto Copley,Jessica Biel'], ['Dan Stevens', 'Sheila Kelley', 'Maika Monroe', 'Joel David Moore'], ['Vince Vaughn', 'Owen Wilson', 'Rose Byrne', 'Aasif Mandvi'], ['Simon Pegg', 'Nick Frost', 'Seth Rogen', 'Mia Stallard'], ['Jessica Brown Findlay', 'Andrew Scott', 'Jeremy Irvine,Tom Wilkinson'], ['Tom Hanks', 'Audrey Tautou', 'Jean Reno', 'Ian McKellen'], ['Eddie Murphy', 'Britt Robertson', 'Natascha McElhone', 'Xavier Samuel'], ['Asa Butterfield', 'Chloë Grace Moretz', 'Christopher Lee', 'Ben Kingsley'], ['Emma Roberts', 'Kiernan Shipka', 'Lauren Holly', 'Lucy Boynton'], ['Leonardo DiCaprio', 'Russell Crowe', 'Mark Strong,Golshifteh Farahani'], ['Christian Bale', 'Cate Blanchett', 'Natalie Portman,Brian Dennehy'], ['Brendan Fraser', 'Jet Li', 'Maria Bello', 'Michelle Yeoh'], ['Melissa McCarthy', 'Kristen Bell', 'Peter Dinklage', 'Ella Anderson'], ['Edgar Ramírez', 'Usher Raymond', 'Robert De Niro', 'Rubén Blades'], ['Ricardo Darín', 'Soledad Villamil', 'Pablo Rago,Carla Quevedo'], ['Jeff Bridges', 'Matt Damon', 'Hailee Steinfeld,Josh Brolin'], ['Zac Efron', 'Wes Bentley', 'Emily Ratajkowski', 'Jonny Weston'], ['Seth MacFarlane', 'Charlize Theron', 'Liam Neeson,Amanda Seyfried'], ['Brian White', 'Karrueche Tran', 'Angelique Pereira,Jessica Vanessa DeLeon'], ['Lily Collins', 'Haley Bennett', 'Taissa Farmiga', 'Steve Tom'], ['Elizabeth Reaser', 'Lulu Wilson', 'Annalise Basso,Henry Thomas'], ['Logan Lerman', 'Alexandra Daddario', 'Brandon T. Jackson', 'Nathan Fillion'], ['Anthony Hopkins', 'Ryan Gosling', 'David Strathairn,Rosamund Pike'], ['Karen Gillan', 'Brenton Thwaites', 'Katee Sackhoff,Rory Cochrane'], ['Colin Farrell', 'Brendan Gleeson', 'Ciarán Hinds,Elizabeth Berrington'], ['Reese Witherspoon', 'Chris Pine', 'Tom Hardy', 'Til Schweiger'], ['Tatiana Pauhofová', 'Karl Markovics', 'Gedeon Burkhard,Simona Stasová'], ['Viggo Mortensen', 'Charlize Theron', 'Kodi Smit-McPhee,Robert Duvall'], ['Abbie Cornish', 'Dermot Mulroney', 'Justin Long,Diego Klattenhoff'], ['Larenz Tate', 'Meagan Good', 'Rotimi', 'Rick Gonzalez'], ['Jason Momoa', 'Ron Perlman', 'Rose McGowan,Stephen Lang'], ['Mark Wahlberg', 'Christian Bale', 'Amy Adams,Melissa Leo'], ['Freddie Highmore', 'Keri Russell', 'Jonathan Rhys Meyers', 'Terrence Howard'], ['Jon Favreau', 'Robert Downey Jr.', 'Scarlett Johansson,Dustin Hoffman'], ['Helen Mirren', 'Aaron Paul', 'Alan Rickman', 'Barkhad Abdi'], ['Shia LaBeouf', 'Michelle Monaghan', 'Rosario Dawson,Michael Chiklis'], ['Ethan Hawke', 'Lena Headey', 'Max Burkholder,Adelaide Kane'], ['Aamir Khan', 'Anushka Sharma', 'Sanjay Dutt,Boman Irani'], ['Harrison Ford', 'Asa Butterfield', 'Hailee Steinfeld', 'Abigail Breslin'], ['Harrison Ford', 'Cate Blanchett', 'Shia LaBeouf,Karen Allen'], ['Nat Wolff', 'Cara Delevingne', 'Austin Abrams', 'Justice Smith'], ['Tom Hiddleston', 'Jeremy Irons', 'Sienna Miller', 'Luke Evans'], ['Daniel Craig', 'Olga Kurylenko', 'Mathieu Amalric', 'Judi Dench'], ['Sigourney Weaver', 'Michelle Rodriguez', 'Tony Shalhoub,Anthony LaPaglia'], ['Jay Baruchel', 'Gerard Butler,Christopher Mintz-Plasse', 'Craig Ferguson'], ['Paul Giamatti', 'Bryce Dallas Howard', 'Jeffrey Wright', 'Bob Balaban'], ['Hugh Jackman', 'Rachel Weisz', 'Sean Patrick Thomas', 'Ellen Burstyn'], ['Owen Wilson', 'Larry the Cable Guy,Michael Caine', 'Emily Mortimer'], ['Malcolm McDowell', 'Richard Brake', 'Jeff Daniel Phillips,Sheri Moon Zombie'], ['Abigail Breslin', 'Wes Bentley', 'Logan Huffman,Alexander Ludwig'], ['Maddy Curley', 'John DeLuca', 'Nikki SooHoo', 'Drew Seeley'], ['Dev Patel', 'Jeremy Irons', 'Malcolm Sinclair', 'Raghuvir Joshi'], ['Liam Neeson', 'Diane Kruger', 'January Jones,Aidan Quinn'], ['Ryan Reynolds', 'Natalie Martinez', 'Matthew Goode,Ben Kingsley'], ['Kevin Costner', 'Demi Moore', 'William Hurt', 'Dane Cook'], ['Callum Turner', 'Grace Van Patten', 'Michal Vondel', 'Mike Birbiglia'], ['Chris Evans', 'Alice Eve', 'Emma Fitzpatrick', 'John Cullum'], ['Tom Hanks', 'Barkhad Abdi', 'Barkhad Abdirahman,Catherine Keener'], ['Rooney Mara', 'Eric Bana', 'Theo James', 'Aidan Turner'], ['Ben Winchell', 'Josh Brener', 'Maria Bello', 'Andy Garcia'], ['Adam Sandler', 'Andy Samberg', 'Selena Gomez', 'Kevin James'], ['Will Smith', 'Charlize Theron', 'Jason Bateman', 'Jae Head'], ['Amy Poehler', 'Tina Fey', 'Maya Rudolph', 'Ike Barinholtz'], ['Robert De Niro', 'Michelle Pfeiffer', 'Dianna Agron', \"John D'Leo\"], ['Seth Rogen', 'Elizabeth Banks', 'Craig Robinson', 'Gerry Bednob'], ['Gaspard Schlatter', 'Sixtine Murat', 'Paulin Jaccoud,Michel Vuillermoz'], ['Sam Worthington', 'Elizabeth Banks', 'Jamie Bell', 'Mandy Gonzalez'], ['Natalie Portman', 'Ashton Kutcher', 'Kevin Kline', 'Cary Elwes'], ['Christian Bale', 'Steve Zahn', 'Jeremy Davies', 'Zach Grenier'], ['Steve Carell', 'Kristen Wiig', 'Benjamin Bratt', 'Miranda Cosgrove'], ['Liam Neeson', 'Dan Stevens', 'David Harbour', 'Boyd Holbrook'], ['Simon Pegg', 'Nick Frost', 'Martin Freeman', 'Rosamund Pike'], ['Lily-Rose Depp', 'Harley Quinn Smith', 'Johnny Depp,Adam Brody'], ['Colin Farrell', 'Woody Harrelson', 'Sam Rockwell,Christopher Walken'], ['Ray Winstone', 'Crispin Glover', 'Angelina Jolie,Robin Wright'], ['Chris Pine', 'Kevin Costner', 'Keira Knightley,Kenneth Branagh'], ['John Cusack', 'Samuel L. Jackson', 'Mary McCormack', 'Paul Birchard'], ['Mark Wahlberg', 'Jessica Lange', 'John Goodman', 'Brie Larson'], ['Jake Gyllenhaal', 'Gemma Arterton', 'Ben Kingsley,Alfred Molina'], ['Miles Teller', 'Shailene Woodley', 'Kyle Chandler,Jennifer Jason Leigh'], ['David Oyelowo', 'Rosamund Pike', 'Tom Felton', 'Jack Davenport'], ['Nicolas Cage', 'Tom Sizemore', 'Thomas Jane,Matt Lanter'], ['Munro Chambers', 'Laurence Leboeuf', 'Michael Ironside', 'Edwin Wright'], ['Jessica Chastain', 'Nikolaj Coster-Waldau', 'Megan Charpentier', 'Isabelle Nélisse'], ['Vera Farmiga', 'Peter Sarsgaard', 'Isabelle Fuhrman', 'CCH Pounder'], ['Woody Allen', 'Penélope Cruz', 'Jesse Eisenberg', 'Ellen Page'], ['George Clooney', 'Meryl Streep', 'Bill Murray', 'Jason Schwartzman'], ['Denzel Washington', 'Clive Owen', 'Jodie Foster,Christopher Plummer'], ['Pierce Brosnan', 'Jason Barry', 'Karen Moskow', 'Kai Ryssdal'], ['James Franco', 'Amber Tamblyn', 'Kate Mara', 'Sean Bott'], ['Ward Horton', 'Annabelle Wallis', 'Alfre Woodard,Tony Amendola'], ['Katie Cassidy', 'Elizabeth Henstridge', 'Adam Campbell', 'Miles Fisher'], ['Michelle Williams', 'Kristin Scott Thomas', 'Margot Robbie,Eric Godon'], ['Christopher Plummer', 'Lily Cole', 'Heath Ledger,Andrew Garfield'], ['Dennis Quaid', 'Channing Tatum', 'Marlon Wayans,Adewale Akinnuoye-Agbaje'], ['Rebecca Hall', 'Michael C. Hall', 'Tracy Letts', 'Maria Dizzia'], ['Shia LaBeouf', 'Jai Courtney', 'Gary Oldman', 'Kate Mara'], ['Michael Vartan', 'Erin Moriarty', 'Nadine Velazquez,Ronnie Gene Blevins'], ['Naomi Watts', 'Charlie Heaton', 'Jacob Tremblay,Oliver Platt'], ['Mark Chao', 'Ni Ni', 'Dave Bautista', 'Sienna Guillory'], ['Kurt Russell', 'Rose McGowan', 'Danny Trejo', 'Zoë Bell'], ['Carmen Electra', 'Vanessa Lachey,Nicole Parker', 'Matt Lanter'], ['Sylvester Stallone', 'Antonio Tarver', 'Milo Ventimiglia', 'Burt Young'], ['Zachary Gordon', 'Robert Capron', 'Devon Bostick,Steve Zahn'], ['Mia Wasikowska', 'Michael Fassbender', 'Jamie Bell', 'Su Elliot'], ['Matthew McConaughey', 'Kate Hudson', 'Donald Sutherland', 'Alexis Dziena'], ['Sacha Baron Cohen', 'Anna Faris', 'John C. Reilly', 'Ben Kingsley'], ['Karl Urban', 'James Marsden', 'Wentworth Miller', 'Eric Stonestreet'], ['Adrian Titieni', 'Maria-Victoria Dragus', 'Lia Bugnar,Malina Manovici'], ['Adam Sandler', 'John Turturro', 'Emmanuelle Chriqui,Nick Swardson'], ['Ana de Armas', 'Keanu Reeves', 'Christopher McDonald', 'Mira Sorvino'], ['Ethan Hawke', 'Sally Hawkins', 'Kari Matchett', 'Zachary Bennett'], ['Jason Bateman', 'Jason Sudeikis', 'Charlie Day', 'Jennifer Aniston'], ['Tilda Swinton', 'Matthias Schoenaerts', 'Ralph Fiennes', 'Dakota Johnson'], ['Kirsten Dunst', 'Charlotte Gainsbourg', 'Kiefer Sutherland', 'Alexander Skarsgård'], ['Anika Noni Rose', 'Keith David', 'Oprah Winfrey', 'Bruno Campos'], ['Denzel Washington', 'Chris Pine', 'Rosario Dawson', 'Ethan Suplee'], ['Denzel Washington', 'Nadine Velazquez', 'Don Cheadle', 'John Goodman'], ['Jim Parsons', 'Rihanna', 'Steve Martin', 'Jennifer Lopez'], ['Geoffrey Rush', 'Jim Sturgess', 'Sylvia Hoeks,Donald Sutherland'], ['Sophie Nélisse', 'Josh Wiggins', 'Joe Cobden', 'Bill Paxton'], ['Chadwick Boseman', 'T.R. Knight', 'Harrison Ford,Nicole Beharie'], ['Jim Sturgess', 'Kate Bosworth', 'Kevin Spacey', 'Aaron Yoo'], ['Keira Knightley', 'Mark Ruffalo', 'Adam Levine', 'Hailee Steinfeld'], ['Christian Bale', 'Casey Affleck', 'Zoe Saldana', 'Woody Harrelson'], ['Rebecca Hall', 'Scarlett Johansson', 'Javier Bardem,Christopher Evan Welch'], ['Jack Black', 'Ian McShane,Angelina Jolie', 'Dustin Hoffman'], ['Ice Cube', 'Regina Hall', 'Anthony Anderson', 'Eve'], ['Christian Bale', 'Sam Worthington', 'Anton Yelchin', 'Moon Bloodgood'], ['Hilary Swank', 'Imelda Staunton', 'Patrick Dempsey', 'Scott Glenn'], ['Ted Levine', 'Kathleen Quinlan', 'Dan Byrd', 'Emilie de Ravin'], ['Angelina Jolie', 'Colm Feore', 'Amy Ryan', 'Gattlin Griffith'], ['Robert Pattinson', 'Emilie de Ravin', 'Caitlyn Rund,Moisés Acevedo'], ['Miyu Irino', 'Saori Hayami', 'Aoi Yuki', 'Kenshô Ono'], ['Steve Carell', 'Jennifer Garner', 'Ed Oxenbould', 'Dylan Minnette'], ['Tom Hardy', 'Olivia Colman', 'Ruth Wilson', 'Andrew Scott'], ['Jamie Dornan', 'Aiden Longworth', 'Sarah Gadon,Aaron Paul'], ['Daniel Radcliffe', 'Juno Temple', 'Max Minghella', 'Joe Anderson'], ['Logan Lerman', 'Sarah Gadon', 'Tijuana Ricks', 'Sue Dahlman'], ['Ezra Miller', 'Tye Sheridan', 'Billy Crudup', 'Olivia Thirlby'], ['Zachary Gordon', 'Devon Bostick', 'Robert Capron,Rachael Harris'], ['Tom Cruise', 'Michelle Monaghan', 'Ving Rhames', 'Philip Seymour Hoffman'], ['Rolf Lassgård', 'Bahar Pars', 'Filip Berg', 'Ida Engvoll'], ['Justin Chatwin', 'James Marsters', 'Yun-Fat Chow', 'Emmy Rossum'], ['Chris Hemsworth', 'Isabel Lucas', 'Josh Hutcherson', 'Josh Peck'], ['Anne Hathaway', 'Jim Sturgess', 'Patricia Clarkson,Tom Mison'], ['Katherine Heigl', 'Josh Duhamel', 'Josh Lucas', 'Alexis Clagett'], ['Jeremy Renner', 'Rose Byrne', 'Robert Carlyle', 'Harold Perrineau'], ['Nicholas Hoult', 'Teresa Palmer', 'John Malkovich,Analeigh Tipton'], ['Cate Blanchett', 'Alec Baldwin', 'Peter Sarsgaard', 'Sally Hawkins'], ['Dwayne Johnson', 'Channing Tatum', 'Adrianne Palicki,Byung-hun Lee'], ['Sam Worthington', 'Liam Neeson', 'Rosamund Pike', 'Ralph Fiennes'], ['Hiroki Hasegawa', 'Yutaka Takenouchi,Satomi Ishihara', 'Ren Ôsugi'], ['Emma Thompson', 'Tom Hanks', 'Annie Rose Buckley', 'Colin Farrell'], ['Johnny Depp', 'Rebecca Hall', 'Morgan Freeman', 'Cillian Murphy'], ['Jesse Eisenberg', 'Anne Hathaway', 'George Lopez,Karen Disher'], ['Nicholas Hoult', 'Kristen Stewart', 'Vernetta Lopez,Scott Lawrence'], ['Brad Pitt', 'Cate Blanchett', 'Gael García Bernal', 'Mohamed Akhzam'], ['Brad Pitt', 'Sean Penn', 'Jessica Chastain', 'Hunter McCracken'], ['Zac Efron', 'Taylor Schilling', 'Blythe Danner', 'Riley Thomas Stewart'], ['Elisabeth Shue', \"Jerry O'Connell\", 'Richard Dreyfuss,Ving Rhames'], ['Joseph Gordon-Levitt', 'Seth Rogen', 'Anna Kendrick', 'Bryce Dallas Howard'], ['Dylan Duffus', 'Scorcher,Shone Romulus', 'Jade Asha'], ['Paul Rudd', 'Leslie Mann', 'Maude Apatow', 'Iris Apatow'], ['Hugh Jackman', 'Evangeline Lilly', 'Dakota Goyo,Anthony Mackie'], ['Sarah Jessica Parker', 'Kim Cattrall', 'Cynthia Nixon', 'Kristin Davis'], ['Sylvester Stallone', 'Julie Benz', 'Matthew Marsden', 'Graham McTavish'], ['Rose McGowan', 'Freddy Rodríguez', 'Josh Brolin,Marley Shelton'], ['Will Smith', 'Alec Baldwin', 'Albert Brooks', 'David Morse'], ['Lee Pace', 'Catinca Untaru', 'Justine Waddell', 'Kim Uylenbroek'], ['Katherine Heigl', 'Gerard Butler', 'Bree Turner', 'Eric Winter'], ['Kate Hudson', 'Anne Hathaway', 'Candice Bergen', 'Bryan Greenberg'], ['Jason Sudeikis', 'Alison Brie', 'Jordan Carlos,Margarita Levieva'], ['Samuel L. Jackson', 'Julianna Margulies', 'Nathan Phillips', 'Rachel Blanchard'], ['Daniel Radcliffe', 'Zoe Kazan', 'Megan Park', 'Adam Driver'], ['Jay Baruchel', 'Cate Blanchett', 'Gerard Butler', 'Craig Ferguson'], ['Joel Kinnaman', 'Gary Oldman', 'Michael Keaton', 'Abbie Cornish'], ['Nat Wolff', 'James Franco', \"Vincent D'Onofrio\", 'Selena Gomez'], ['Sally Field', 'Max Greenfield', 'Tyne Daly', 'Wendi McLendon-Covey'], ['George Clooney', 'Brad Pitt', 'Matt Damon,Michael Mantell'], ['Nathan Fillion', 'Elizabeth Banks', 'Michael Rooker', 'Don Thompson'], ['Matt Damon', 'Kate Winslet', 'Jude Law', 'Gwyneth Paltrow'], ['Salma Hayek', 'Vincent Cassel', 'Toby Jones', 'John C. Reilly'], ['Ruth Wilson', 'Paula Prentiss', 'Lucy Boynton', 'Bob Balaban'], ['Josh Hutcherson', 'AnnaSophia Robb', 'Zooey Deschanel', 'Robert Patrick'], ['Emily Baldoni', 'Maury Sterling', 'Nicholas Brendon', 'Elizabeth Gracen'], ['Jamal Woolard', 'Anthony Mackie', 'Derek Luke,Momo Dione'], ['Jun Kunimura', 'Jung-min Hwang', 'Do-won Kwak', 'Woo-hee Chun'], ['Sylvester Stallone', 'Liam Hemsworth', 'Randy Couture,Jean-Claude Van Damme'], ['William Atherton', 'Blythe Auffarth', 'Blanche Baker,Kevin Chamberlin'], ['Ben Whishaw', 'Dustin Hoffman', 'Alan Rickman,Francesc Albiol'], ['Nicole Kidman', 'Daniel Craig', 'Dakota Blue Richards', 'Ben Walker'], ['Michael Fassbender', 'Dominic West', 'Olga Kurylenko,Andreas Wisniewski'], ['Tye Sheridan', 'Logan Miller', 'Joey Morgan,Sarah Dumont'], ['Zac Efron', 'Matthew Perry', 'Leslie Mann', 'Thomas Lennon'], ['Lake Bell', 'Pierce Brosnan', 'Owen Wilson,Chatchawai Kamonsakpitak'], ['Brandon Routh', 'Kevin Spacey', 'Kate Bosworth', 'James Marsden'], ['Kristen Stewart', 'Robert Pattinson', 'Taylor Lautner', 'Gil Birmingham'], ['Gabourey Sidibe', \"Mo'Nique\", 'Paula Patton', 'Mariah Carey'], ['Matthew McConaughey', 'Naomi Watts', 'Ken Watanabe,Ryoko Seta'], ['Zoey Deutch', 'Nicholas Braun', 'Mateo Arias', 'Israel Broussard'], ['Philip Seymour Hoffman', 'Joaquin Phoenix,Amy Adams', 'Jesse Plemons'], ['Kenny Wormald', 'Julianne Hough', 'Dennis Quaid,Andie MacDowell'], ['Chloë Grace Moretz', 'Mireille Enos', 'Jamie Blackley,Joshua Leonard'], ['Dan Stevens', 'Malin Akerman', 'Oliver Platt', 'Kerry Bishé'], ['Tye Sheridan', 'Emory Cohen', 'Bel Powley,Stephen Moyer'], ['Samantha Robinson', 'Jeffrey Vincent Parise', 'Laura Waddell', 'Gian Keys'], ['Will Ferrell', 'John C. Reilly', 'Sacha Baron Cohen', 'Gary Cole'], ['Dieter Laser', 'Ashley C. Williams', 'Ashlynn Yennie', 'Akihiro Kitamura'], ['Rainn Wilson', 'Ellen Page', 'Liv Tyler', 'Kevin Bacon'], ['Jamie Dornan', 'Mark Strong', \"Jason O'Mara\", 'Michael McElhatton'], ['George Clooney', 'Vera Farmiga', 'Anna Kendrick,Jason Bateman'], ['Vinnie Jones', 'Bradley Cooper', 'Leslie Bibb', 'Brooke Shields'], ['Kristen Stewart', 'Robert Pattinson', 'Taylor Lautner,Xavier Samuel'], ['Johnny Simmons', 'Gabriel Luna', 'Clifton Collins Jr.,David Acord'], ['Anna Faris', 'Chris Evans', 'Ari Graynor', 'Blythe Danner'], ['Vin Diesel', 'Karl Urban', 'Katee Sackhoff', 'Jordi Mollà'], ['Melissa George', 'Joshua McIvor', 'Jack Taylor,Michael Dorman'], ['Forest Whitaker', 'Oprah Winfrey', 'John Cusack', 'Jane Fonda'], ['Garrett Clayton', 'Christian Slater', 'Molly Ringwald,James Kelley'], ['Jaden Smith', 'David Denman', 'Will Smith,Sophie Okonedo'], ['Jahking Guillory', 'Christopher Jordan Wallace,Christopher Meyer', 'Kofi Siriboe'], ['Thomas Mann', 'RJ Cyler', 'Olivia Cooke', 'Nick Offerman'], ['George Clooney', 'Shailene Woodley', 'Amara Miller', 'Nick Krause'], ['Sarah Jessica Parker', 'Kim Cattrall', 'Kristin Davis', 'Cynthia Nixon'], ['Nick Robinson', 'Gabriel Basso', 'Moises Arias,Nick Offerman'], ['Jason Statham', 'Joan Allen', 'Tyrese Gibson', 'Ian McShane'], ['Zac Efron', 'Michael B. Jordan', 'Miles Teller', 'Imogen Poots'], ['Paul Bettany', 'Dennis Quaid', 'Charles S. Dutton', 'Lucas Black'], ['Jake Gyllenhaal', 'Michael Peña', 'Anna Kendrick', 'America Ferrera'], ['Kevin Costner', 'Hailee Steinfeld', 'Connie Nielsen', 'Amber Heard'], ['Josh Hartnett', 'Ben Kingsley', 'Morgan Freeman', 'Lucy Liu'], ['James McAvoy', 'Rosario Dawson', 'Vincent Cassel,Danny Sapani'], ['Ellen Page', 'Evan Rachel Wood', 'Max Minghella,Callum Keith Rennie'], ['Natalie Portman', 'Scarlett Johansson', 'Eric Bana,Jim Sturgess'], ['Sarah Butler', 'Jeff Branson', 'Andrew Howard,Daniel Franzese'], ['Viola Davis', 'Hayden Panettiere', 'Catalina Sandino Moreno', 'Ellen Burstyn'], ['Laura Dern', 'Jeremy Irons', 'Justin Theroux', 'Karolina Gruszka'], ['Lambert Wilson', 'Pierre Niney', 'Audrey Tautou,Laurent Lucas'], ['Joseph Gordon-Levitt', 'Charlotte Le Bon,Guillaume Baillargeon', 'Émilie Leclerc'], ['Anna Hutchison', 'Andrea Whitburn', 'Jennifer Koenig,Michael Dickson'], ['Johnny Depp', 'Armie Hammer', 'William Fichtner,Tom Wilkinson'], ['Alexandra Daddario', 'Tania Raymonde', 'Scott Eastwood', 'Trey Songz'], ['Shia LaBeouf', 'David Morse', 'Carrie-Anne Moss', 'Sarah Roemer'], ['Julianne Hough', 'Diego Boneta', 'Tom Cruise', 'Alec Baldwin'], ['Neve Campbell', 'Courteney Cox', 'David Arquette', 'Lucy Hale'], ['Madina Nalwanga', 'David Oyelowo', \"Lupita Nyong'o\", 'Martin Kabanza'], ['Nia Vardalos', 'John Corbett', 'Michael Constantine', 'Lainie Kazan'], ['Charlize Theron', 'Nicholas Hoult', 'Christina Hendricks', 'Chloë Grace Moretz'], ['Jason Biggs', 'Janet Montgomery,Ashley Tisdale', 'Bria L. Murphy'], ['Nathalie Baye', 'Vincent Cassel', 'Marion Cotillard', 'Léa Seydoux'], ['Antonio Banderas', 'Elena Anaya', 'Jan Cornet,Marisa Paredes'], ['Jennifer Garner', 'Kylie Rogers', 'Martin Henderson,Brighton Sharbino'], ['Quvenzhané Wallis', 'Cameron Diaz', 'Jamie Foxx', 'Rose Byrne'], ['Evan Rachel Wood', 'Jim Sturgess', 'Joe Anderson', 'Dana Fuchs'], ['Jake Johnson', 'Damon Wayans Jr.', 'Rob Riggle', 'Nina Dobrev'], ['Thomas Haden Church', 'Josh Wiggins', 'Luke Kleintank,Lauren Graham'], ['Danny McBride', 'Natalie Portman', 'James Franco', 'Rasmus Hardiker'], [\"Nicholas D'Agosto\", 'Emma Bell', 'Arlen Escarpeta', 'Miles Fisher'], ['Gabriella Wilde', 'Alex Pettyfer', 'Bruce Greenwood,Robert Patrick'], ['Morjana Alaoui', 'Mylène Jampanoï', 'Catherine Bégin,Robert Toupin'], ['David Oyelowo', 'Carmen Ejogo', 'Tim Roth', 'Lorraine Toussaint'], ['Rhona Mitra', 'Michael Sheen', 'Bill Nighy', 'Steven Mackintosh'], ['Darsheel Safary', 'Aamir Khan', 'Tanay Chheda', 'Sachet Engineer'], ['Topher Grace', 'Anna Faris', 'Dan Fogler', 'Teresa Palmer'], ['Milla Jovovich', 'Ali Larter', 'Wentworth Miller,Kim Coates'], ['Thomas Mann', 'Oliver Cooper', 'Jonathan Daniel Brown', 'Dax Flame'], ['Chiwetel Ejiofor', 'Nicole Kidman', 'Julia Roberts', 'Dean Norris'], ['Lauren German', 'Heather Matarazzo', 'Bijou Phillips', 'Roger Bart'], ['Robert Hoffman', 'Briana Evigan', 'Cassie Ventura', 'Adam G. Sevani'], ['Adam Pally', 'T.J. Miller', 'Thomas Middleditch,Shannon Woodward'], ['Kevin Spacey', 'Jennifer Garner', 'Robbie Amell,Cheryl Hines']]\n"
     ]
    }
   ],
   "execution_count": 32
  },
  {
   "metadata": {
    "ExecuteTime": {
     "end_time": "2025-07-22T07:18:25.940985Z",
     "start_time": "2025-07-22T07:18:25.932186Z"
    }
   },
   "cell_type": "code",
   "source": [
    "actors_list = [i for j in temp_actors_list for i in j]  #二维展为一维\n",
    "actors_num = len(set(actors_list)) #set去重\n",
    "print(actors_num) #演员的数量"
   ],
   "outputs": [
    {
     "name": "stdout",
     "output_type": "stream",
     "text": [
      "2015\n"
     ]
    }
   ],
   "execution_count": 33
  },
  {
   "cell_type": "code",
   "source": [
    "#想知道每个演员出演的电影数量\n",
    "u,indices = np.unique(actors_list,return_counts = True)\n",
    "print (u)\n",
    "indices"
   ],
   "metadata": {
    "collapsed": false,
    "ExecuteTime": {
     "end_time": "2025-07-22T07:18:26.060874Z",
     "start_time": "2025-07-22T07:18:26.049653Z"
    }
   },
   "outputs": [
    {
     "name": "stdout",
     "output_type": "stream",
     "text": [
      "['50 Cent' 'A.C. Peterson' 'AJ Michalka' ... 'Émilie Leclerc'\n",
      " 'Ólafur Darri Ólafsson' 'Óscar Jaenada']\n"
     ]
    },
    {
     "data": {
      "text/plain": [
       "array([1, 1, 1, ..., 1, 1, 1], dtype=int64)"
      ]
     },
     "execution_count": 34,
     "metadata": {},
     "output_type": "execute_result"
    }
   ],
   "execution_count": 34
  },
  {
   "cell_type": "markdown",
   "source": [
    "### 8.3.1 电影时长的关系"
   ],
   "metadata": {
    "collapsed": false
   }
  },
  {
   "cell_type": "code",
   "source": [
    "# rating,runtime分布情况\n",
    "# 选择图形，直方图\n",
    "# 准备数据\n",
    "runtime_data = df[\"Runtime (Minutes)\"].values\n",
    "\n",
    "max_runtime = runtime_data.max()\n",
    "min_runtime = runtime_data.min()\n",
    "print(min_runtime,max_runtime)\n",
    "# 计算组数\n",
    "print(max_runtime - min_runtime)\n",
    "print('-'*50)\n",
    "num_bin = (max_runtime - min_runtime) // 5\n",
    "\n",
    "# 设置图形的大小\n",
    "plt.figure(figsize=(20, 8), dpi=80)\n",
    "# 第二个bins参数必须为int或sequence或str，bins代表划分为多少个单元\n",
    "plt.hist(runtime_data, int(num_bin))\n",
    "plt.grid(alpha=0.5) #alpha是透明度\n",
    "#range第三个参数是步长\n",
    "plt.xticks(range(min_runtime, max_runtime + 5,5))\n",
    "\n",
    "plt.show()"
   ],
   "metadata": {
    "collapsed": false,
    "pycharm": {
     "name": "#%%\n"
    },
    "ExecuteTime": {
     "end_time": "2025-07-22T07:18:26.563278Z",
     "start_time": "2025-07-22T07:18:26.139619Z"
    }
   },
   "outputs": [
    {
     "name": "stdout",
     "output_type": "stream",
     "text": [
      "66 191\n",
      "125\n",
      "--------------------------------------------------\n"
     ]
    },
    {
     "data": {
      "text/plain": [
       "<Figure size 1600x640 with 1 Axes>"
      ],
      "image/png": "[encoded data removed]"
     },
     "metadata": {},
     "output_type": "display_data"
    }
   ],
   "execution_count": 35
  },
  {
   "cell_type": "code",
   "source": [
    "#电影评分的分布情况\n",
    "# 获取平均评分\n",
    "print(df[\"Rating\"].mean())\n",
    "\n",
    "# rating,runtime分布情况\n",
    "# 选择图形，直方图\n",
    "# 准备数据\n",
    "runtime_data = df[\"Rating\"].values\n",
    "print(type(runtime_data))\n",
    "max_runtime = runtime_data.max()\n",
    "min_runtime = runtime_data.min()\n",
    "print('-'*50)\n",
    "print(max_runtime,min_runtime) #最大值最小值电影评分"
   ],
   "metadata": {
    "collapsed": false,
    "pycharm": {
     "name": "#%%\n"
    },
    "ExecuteTime": {
     "end_time": "2025-07-22T07:18:26.632721Z",
     "start_time": "2025-07-22T07:18:26.621749Z"
    }
   },
   "outputs": [
    {
     "name": "stdout",
     "output_type": "stream",
     "text": [
      "6.723199999999999\n",
      "<class 'numpy.ndarray'>\n",
      "--------------------------------------------------\n",
      "9.0 1.9\n"
     ]
    }
   ],
   "execution_count": 36
  },
  {
   "cell_type": "code",
   "source": [
    "# 计算组数\n",
    "print(f'最大评分减去最小评分为{max_runtime - min_runtime}')\n",
    "num_bin = (max_runtime - min_runtime) // 0.5  #对不齐的原因是因为9.0-1.9不能整除0.5\n",
    "\n",
    "print(f'组数为{num_bin}')\n",
    "# 设置图形的大小\n",
    "plt.figure(figsize=(20, 8), dpi=80)\n",
    "# 第二个bins参数必须为int或sequence或str，bins代表划分为多少个单元\n",
    "plt.hist(runtime_data, int(num_bin))\n",
    "plt.grid(alpha=0.5)\n",
    "#因为range的步长不支持0.5,自己做一个列表\n",
    "_x = [min_runtime]\n",
    "i = min_runtime\n",
    "while i <= max_runtime + 0.5:\n",
    "    i = i + 0.5\n",
    "    _x.append(i)\n",
    "\n",
    "plt.xticks(_x) #设置x轴的刻度\n",
    "\n",
    "plt.show()"
   ],
   "metadata": {
    "collapsed": false,
    "pycharm": {
     "name": "#%%\n"
    },
    "ExecuteTime": {
     "end_time": "2025-07-22T07:18:27.022196Z",
     "start_time": "2025-07-22T07:18:26.721252Z"
    }
   },
   "outputs": [
    {
     "name": "stdout",
     "output_type": "stream",
     "text": [
      "最大评分减去最小评分为7.1\n",
      "组数为14.0\n"
     ]
    },
    {
     "data": {
      "text/plain": [
       "<Figure size 1600x640 with 1 Axes>"
      ],
      "image/png": "[encoded data removed]"
     },
     "metadata": {},
     "output_type": "display_data"
    }
   ],
   "execution_count": 37
  },
  {
   "cell_type": "markdown",
   "source": [
    "### 8.3.3 导演要拍什么题材电影"
   ],
   "metadata": {
    "collapsed": false
   }
  },
  {
   "cell_type": "code",
   "source": "print(df[\"Genre\"].head(3))  #看前几条数据，掌握格式，内容类型",
   "metadata": {
    "collapsed": false,
    "pycharm": {
     "name": "#%%\n"
    },
    "ExecuteTime": {
     "end_time": "2025-07-22T07:18:27.078744Z",
     "start_time": "2025-07-22T07:18:27.068771Z"
    }
   },
   "outputs": [
    {
     "name": "stdout",
     "output_type": "stream",
     "text": [
      "0     Action,Adventure,Sci-Fi\n",
      "1    Adventure,Mystery,Sci-Fi\n",
      "2             Horror,Thriller\n",
      "Name: Genre, dtype: object\n"
     ]
    }
   ],
   "execution_count": 38
  },
  {
   "cell_type": "code",
   "source": [
    "# 统计分类的列表\n",
    "temp_list = df[\"Genre\"].str.split(\",\").tolist()  # [[],[],[]]\n",
    "# 二维变为一维\n",
    "genre_list = list(set([i for j in temp_list for i in j]))\n",
    "print(len(genre_list)) # 20个题材类型\n",
    "# 构造全为0的数组，行是原来的样本数，列是题材类型数目，one-hot编码，\n",
    "zeros_df = pd.DataFrame(np.zeros((df.shape[0], len(genre_list))), columns=genre_list)\n",
    "print(zeros_df)"
   ],
   "metadata": {
    "collapsed": false,
    "pycharm": {
     "name": "#%%\n"
    },
    "ExecuteTime": {
     "end_time": "2025-07-22T07:18:27.188937Z",
     "start_time": "2025-07-22T07:18:27.147075Z"
    }
   },
   "outputs": [
    {
     "name": "stdout",
     "output_type": "stream",
     "text": [
      "20\n",
      "     Sport  Adventure  Fantasy  Crime  Music  Biography  Horror  War  History  \\\n",
      "0      0.0        0.0      0.0    0.0    0.0        0.0     0.0  0.0      0.0   \n",
      "1      0.0        0.0      0.0    0.0    0.0        0.0     0.0  0.0      0.0   \n",
      "2      0.0        0.0      0.0    0.0    0.0        0.0     0.0  0.0      0.0   \n",
      "3      0.0        0.0      0.0    0.0    0.0        0.0     0.0  0.0      0.0   \n",
      "4      0.0        0.0      0.0    0.0    0.0        0.0     0.0  0.0      0.0   \n",
      "..     ...        ...      ...    ...    ...        ...     ...  ...      ...   \n",
      "995    0.0        0.0      0.0    0.0    0.0        0.0     0.0  0.0      0.0   \n",
      "996    0.0        0.0      0.0    0.0    0.0        0.0     0.0  0.0      0.0   \n",
      "997    0.0        0.0      0.0    0.0    0.0        0.0     0.0  0.0      0.0   \n",
      "998    0.0        0.0      0.0    0.0    0.0        0.0     0.0  0.0      0.0   \n",
      "999    0.0        0.0      0.0    0.0    0.0        0.0     0.0  0.0      0.0   \n",
      "\n",
      "     Thriller  Musical  Romance  Mystery  Drama  Comedy  Sci-Fi  Animation  \\\n",
      "0         0.0      0.0      0.0      0.0    0.0     0.0     0.0        0.0   \n",
      "1         0.0      0.0      0.0      0.0    0.0     0.0     0.0        0.0   \n",
      "2         0.0      0.0      0.0      0.0    0.0     0.0     0.0        0.0   \n",
      "3         0.0      0.0      0.0      0.0    0.0     0.0     0.0        0.0   \n",
      "4         0.0      0.0      0.0      0.0    0.0     0.0     0.0        0.0   \n",
      "..        ...      ...      ...      ...    ...     ...     ...        ...   \n",
      "995       0.0      0.0      0.0      0.0    0.0     0.0     0.0        0.0   \n",
      "996       0.0      0.0      0.0      0.0    0.0     0.0     0.0        0.0   \n",
      "997       0.0      0.0      0.0      0.0    0.0     0.0     0.0        0.0   \n",
      "998       0.0      0.0      0.0      0.0    0.0     0.0     0.0        0.0   \n",
      "999       0.0      0.0      0.0      0.0    0.0     0.0     0.0        0.0   \n",
      "\n",
      "     Action  Western  Family  \n",
      "0       0.0      0.0     0.0  \n",
      "1       0.0      0.0     0.0  \n",
      "2       0.0      0.0     0.0  \n",
      "3       0.0      0.0     0.0  \n",
      "4       0.0      0.0     0.0  \n",
      "..      ...      ...     ...  \n",
      "995     0.0      0.0     0.0  \n",
      "996     0.0      0.0     0.0  \n",
      "997     0.0      0.0     0.0  \n",
      "998     0.0      0.0     0.0  \n",
      "999     0.0      0.0     0.0  \n",
      "\n",
      "[1000 rows x 20 columns]\n"
     ]
    }
   ],
   "execution_count": 39
  },
  {
   "cell_type": "code",
   "source": [
    "# 给每个电影出现分类的位置赋值1,one-hot的中文是独热码\n",
    "for i in range(df.shape[0]):\n",
    "    # zeros_df.loc[0,[\"Sci-fi\",\"Mucical\"]] = 1\n",
    "    #temp_list是二维列表，temp_list[i]是一个一维列表\n",
    "    zeros_df.loc[i, temp_list[i]] = 1 #temp_list[i]是一个列表，里面是分类\n",
    "\n",
    "zeros_df.head(3)"
   ],
   "metadata": {
    "collapsed": false,
    "pycharm": {
     "name": "#%%\n"
    },
    "ExecuteTime": {
     "end_time": "2025-07-22T07:18:28.521044Z",
     "start_time": "2025-07-22T07:18:27.238315Z"
    }
   },
   "outputs": [
    {
     "data": {
      "text/plain": [
       "   Sport  Adventure  Fantasy  Crime  Music  Biography  Horror  War  History  \\\n",
       "0    0.0        1.0      0.0    0.0    0.0        0.0     0.0  0.0      0.0   \n",
       "1    0.0        1.0      0.0    0.0    0.0        0.0     0.0  0.0      0.0   \n",
       "2    0.0        0.0      0.0    0.0    0.0        0.0     1.0  0.0      0.0   \n",
       "\n",
       "   Thriller  Musical  Romance  Mystery  Drama  Comedy  Sci-Fi  Animation  \\\n",
       "0       0.0      0.0      0.0      0.0    0.0     0.0     1.0        0.0   \n",
       "1       0.0      0.0      0.0      1.0    0.0     0.0     1.0        0.0   \n",
       "2       1.0      0.0      0.0      0.0    0.0     0.0     0.0        0.0   \n",
       "\n",
       "   Action  Western  Family  \n",
       "0     1.0      0.0     0.0  \n",
       "1     0.0      0.0     0.0  \n",
       "2     0.0      0.0     0.0  "
      ],
      "text/html": [
       "<div>\n",
       "<style scoped>\n",
       "    .dataframe tbody tr th:only-of-type {\n",
       "        vertical-align: middle;\n",
       "    }\n",
       "\n",
       "    .dataframe tbody tr th {\n",
       "        vertical-align: top;\n",
       "    }\n",
       "\n",
       "    .dataframe thead th {\n",
       "        text-align: right;\n",
       "    }\n",
       "</style>\n",
       "<table border=\"1\" class=\"dataframe\">\n",
       "  <thead>\n",
       "    <tr style=\"text-align: right;\">\n",
       "      <th></th>\n",
       "      <th>Sport</th>\n",
       "      <th>Adventure</th>\n",
       "      <th>Fantasy</th>\n",
       "      <th>Crime</th>\n",
       "      <th>Music</th>\n",
       "      <th>Biography</th>\n",
       "      <th>Horror</th>\n",
       "      <th>War</th>\n",
       "      <th>History</th>\n",
       "      <th>Thriller</th>\n",
       "      <th>Musical</th>\n",
       "      <th>Romance</th>\n",
       "      <th>Mystery</th>\n",
       "      <th>Drama</th>\n",
       "      <th>Comedy</th>\n",
       "      <th>Sci-Fi</th>\n",
       "      <th>Animation</th>\n",
       "      <th>Action</th>\n",
       "      <th>Western</th>\n",
       "      <th>Family</th>\n",
       "    </tr>\n",
       "  </thead>\n",
       "  <tbody>\n",
       "    <tr>\n",
       "      <th>0</th>\n",
       "      <td>0.0</td>\n",
       "      <td>1.0</td>\n",
       "      <td>0.0</td>\n",
       "      <td>0.0</td>\n",
       "      <td>0.0</td>\n",
       "      <td>0.0</td>\n",
       "      <td>0.0</td>\n",
       "      <td>0.0</td>\n",
       "      <td>0.0</td>\n",
       "      <td>0.0</td>\n",
       "      <td>0.0</td>\n",
       "      <td>0.0</td>\n",
       "      <td>0.0</td>\n",
       "      <td>0.0</td>\n",
       "      <td>0.0</td>\n",
       "      <td>1.0</td>\n",
       "      <td>0.0</td>\n",
       "      <td>1.0</td>\n",
       "      <td>0.0</td>\n",
       "      <td>0.0</td>\n",
       "    </tr>\n",
       "    <tr>\n",
       "      <th>1</th>\n",
       "      <td>0.0</td>\n",
       "      <td>1.0</td>\n",
       "      <td>0.0</td>\n",
       "      <td>0.0</td>\n",
       "      <td>0.0</td>\n",
       "      <td>0.0</td>\n",
       "      <td>0.0</td>\n",
       "      <td>0.0</td>\n",
       "      <td>0.0</td>\n",
       "      <td>0.0</td>\n",
       "      <td>0.0</td>\n",
       "      <td>0.0</td>\n",
       "      <td>1.0</td>\n",
       "      <td>0.0</td>\n",
       "      <td>0.0</td>\n",
       "      <td>1.0</td>\n",
       "      <td>0.0</td>\n",
       "      <td>0.0</td>\n",
       "      <td>0.0</td>\n",
       "      <td>0.0</td>\n",
       "    </tr>\n",
       "    <tr>\n",
       "      <th>2</th>\n",
       "      <td>0.0</td>\n",
       "      <td>0.0</td>\n",
       "      <td>0.0</td>\n",
       "      <td>0.0</td>\n",
       "      <td>0.0</td>\n",
       "      <td>0.0</td>\n",
       "      <td>1.0</td>\n",
       "      <td>0.0</td>\n",
       "      <td>0.0</td>\n",
       "      <td>1.0</td>\n",
       "      <td>0.0</td>\n",
       "      <td>0.0</td>\n",
       "      <td>0.0</td>\n",
       "      <td>0.0</td>\n",
       "      <td>0.0</td>\n",
       "      <td>0.0</td>\n",
       "      <td>0.0</td>\n",
       "      <td>0.0</td>\n",
       "      <td>0.0</td>\n",
       "      <td>0.0</td>\n",
       "    </tr>\n",
       "  </tbody>\n",
       "</table>\n",
       "</div>"
      ]
     },
     "execution_count": 40,
     "metadata": {},
     "output_type": "execute_result"
    }
   ],
   "execution_count": 40
  },
  {
   "cell_type": "code",
   "source": [
    "# 统计每个分类的电影的数量和，genre_count是什么类型？\n",
    "genre_count = zeros_df.sum(axis=0)\n",
    "print(genre_count)"
   ],
   "metadata": {
    "collapsed": false,
    "pycharm": {
     "name": "#%%\n"
    },
    "ExecuteTime": {
     "end_time": "2025-07-22T07:18:28.627284Z",
     "start_time": "2025-07-22T07:18:28.616741Z"
    }
   },
   "outputs": [
    {
     "name": "stdout",
     "output_type": "stream",
     "text": [
      "Sport         18.0\n",
      "Adventure    259.0\n",
      "Fantasy      101.0\n",
      "Crime        150.0\n",
      "Music         16.0\n",
      "Biography     81.0\n",
      "Horror       119.0\n",
      "War           13.0\n",
      "History       29.0\n",
      "Thriller     195.0\n",
      "Musical        5.0\n",
      "Romance      141.0\n",
      "Mystery      106.0\n",
      "Drama        513.0\n",
      "Comedy       279.0\n",
      "Sci-Fi       120.0\n",
      "Animation     49.0\n",
      "Action       303.0\n",
      "Western        7.0\n",
      "Family        51.0\n",
      "dtype: float64\n"
     ]
    }
   ],
   "execution_count": 41
  },
  {
   "cell_type": "code",
   "source": [
    "# 排序\n",
    "genre_count = genre_count.sort_values()\n",
    "_x = genre_count.index\n",
    "_y = genre_count.values\n",
    "# 画图\n",
    "plt.figure(figsize=(20, 8), dpi=80)\n",
    "plt.bar(range(len(_x)), _y, width=0.4, color=\"orange\")\n",
    "plt.xticks(range(len(_x)), _x)\n",
    "plt.show()"
   ],
   "metadata": {
    "collapsed": false,
    "pycharm": {
     "name": "#%%\n"
    },
    "ExecuteTime": {
     "end_time": "2025-07-22T07:18:29.125048Z",
     "start_time": "2025-07-22T07:18:28.757451Z"
    }
   },
   "outputs": [
    {
     "data": {
      "text/plain": [
       "<Figure size 1600x640 with 1 Axes>"
      ],
      "image/png": "[encoded data removed]"
     },
     "metadata": {},
     "output_type": "display_data"
    }
   ],
   "execution_count": 42
  },
  {
   "cell_type": "markdown",
   "source": [],
   "metadata": {
    "collapsed": false
   }
  }
 ],
 "metadata": {
  "kernelspec": {
   "display_name": "Python 3",
   "language": "python",
   "name": "python3"
  },
  "language_info": {
   "codemirror_mode": {
    "name": "ipython",
    "version": 2
   },
   "file_extension": ".py",
   "mimetype": "text/x-python",
   "name": "python",
   "nbconvert_exporter": "python",
   "pygments_lexer": "ipython2",
   "version": "2.7.6"
  },
  "pycharm": {
   "stem_cell": {
    "cell_type": "raw",
    "source": [
     "# 8 Pandas统计计算和描述\n"
    ],
    "metadata": {
     "collapsed": false
    }
   }
  }
 },
 "nbformat": 4,
 "nbformat_minor": 0
}
