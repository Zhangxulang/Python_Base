{
 "cells": [
  {
   "cell_type": "markdown",
   "source": [
    "# 9 Pandas分组与聚合"
   ],
   "metadata": {
    "collapsed": false
   }
  },
  {
   "cell_type": "markdown",
   "source": [
    "# 设置索引"
   ],
   "metadata": {
    "collapsed": false
   }
  },
  {
   "metadata": {
    "ExecuteTime": {
     "end_time": "2025-07-22T16:05:17.673030Z",
     "start_time": "2025-07-22T16:05:13.718156Z"
    }
   },
   "cell_type": "code",
   "source": [
    "import pandas as pd\n",
    "import numpy as np"
   ],
   "outputs": [],
   "execution_count": 1
  },
  {
   "cell_type": "code",
   "source": [
    "#索引中单项不可变，但是整体可以换掉\n",
    "a = pd.DataFrame({'a': range(7),'b': range(7, 0, -1),\n",
    "                  'c': ['one','one','one','two','two','two', 'two'],\n",
    "                  'd': list(\"hjklmno\")})\n",
    "a"
   ],
   "metadata": {
    "collapsed": false,
    "pycharm": {
     "name": "#%%\n"
    },
    "ExecuteTime": {
     "end_time": "2025-07-22T16:05:22.995827Z",
     "start_time": "2025-07-22T16:05:22.949952Z"
    }
   },
   "outputs": [
    {
     "data": {
      "text/plain": [
       "   a  b    c  d\n",
       "0  0  7  one  h\n",
       "1  1  6  one  j\n",
       "2  2  5  one  k\n",
       "3  3  4  two  l\n",
       "4  4  3  two  m\n",
       "5  5  2  two  n\n",
       "6  6  1  two  o"
      ],
      "text/html": [
       "<div>\n",
       "<style scoped>\n",
       "    .dataframe tbody tr th:only-of-type {\n",
       "        vertical-align: middle;\n",
       "    }\n",
       "\n",
       "    .dataframe tbody tr th {\n",
       "        vertical-align: top;\n",
       "    }\n",
       "\n",
       "    .dataframe thead th {\n",
       "        text-align: right;\n",
       "    }\n",
       "</style>\n",
       "<table border=\"1\" class=\"dataframe\">\n",
       "  <thead>\n",
       "    <tr style=\"text-align: right;\">\n",
       "      <th></th>\n",
       "      <th>a</th>\n",
       "      <th>b</th>\n",
       "      <th>c</th>\n",
       "      <th>d</th>\n",
       "    </tr>\n",
       "  </thead>\n",
       "  <tbody>\n",
       "    <tr>\n",
       "      <th>0</th>\n",
       "      <td>0</td>\n",
       "      <td>7</td>\n",
       "      <td>one</td>\n",
       "      <td>h</td>\n",
       "    </tr>\n",
       "    <tr>\n",
       "      <th>1</th>\n",
       "      <td>1</td>\n",
       "      <td>6</td>\n",
       "      <td>one</td>\n",
       "      <td>j</td>\n",
       "    </tr>\n",
       "    <tr>\n",
       "      <th>2</th>\n",
       "      <td>2</td>\n",
       "      <td>5</td>\n",
       "      <td>one</td>\n",
       "      <td>k</td>\n",
       "    </tr>\n",
       "    <tr>\n",
       "      <th>3</th>\n",
       "      <td>3</td>\n",
       "      <td>4</td>\n",
       "      <td>two</td>\n",
       "      <td>l</td>\n",
       "    </tr>\n",
       "    <tr>\n",
       "      <th>4</th>\n",
       "      <td>4</td>\n",
       "      <td>3</td>\n",
       "      <td>two</td>\n",
       "      <td>m</td>\n",
       "    </tr>\n",
       "    <tr>\n",
       "      <th>5</th>\n",
       "      <td>5</td>\n",
       "      <td>2</td>\n",
       "      <td>two</td>\n",
       "      <td>n</td>\n",
       "    </tr>\n",
       "    <tr>\n",
       "      <th>6</th>\n",
       "      <td>6</td>\n",
       "      <td>1</td>\n",
       "      <td>two</td>\n",
       "      <td>o</td>\n",
       "    </tr>\n",
       "  </tbody>\n",
       "</table>\n",
       "</div>"
      ]
     },
     "execution_count": 2,
     "metadata": {},
     "output_type": "execute_result"
    }
   ],
   "execution_count": 2
  },
  {
   "cell_type": "code",
   "source": [
    "c=a.copy()\n",
    "a.index=list('abcdefg')  #a的索引变了，a.index更换索引\n",
    "print(c)\n",
    "# a.columns=list('ABCD')  #a的列名变了，a.columns更换列名\n",
    "print('-'*50)\n",
    "print(a)"
   ],
   "metadata": {
    "collapsed": false,
    "pycharm": {
     "name": "#%%\n"
    },
    "ExecuteTime": {
     "end_time": "2025-07-22T16:05:25.915109Z",
     "start_time": "2025-07-22T16:05:25.900239Z"
    }
   },
   "outputs": [
    {
     "name": "stdout",
     "output_type": "stream",
     "text": [
      "   a  b    c  d\n",
      "0  0  7  one  h\n",
      "1  1  6  one  j\n",
      "2  2  5  one  k\n",
      "3  3  4  two  l\n",
      "4  4  3  two  m\n",
      "5  5  2  two  n\n",
      "6  6  1  two  o\n",
      "--------------------------------------------------\n",
      "   a  b    c  d\n",
      "a  0  7  one  h\n",
      "b  1  6  one  j\n",
      "c  2  5  one  k\n",
      "d  3  4  two  l\n",
      "e  4  3  two  m\n",
      "f  5  2  two  n\n",
      "g  6  1  two  o\n"
     ]
    }
   ],
   "execution_count": 3
  },
  {
   "cell_type": "code",
   "source": [
    "c.values.shape"
   ],
   "metadata": {
    "collapsed": false,
    "ExecuteTime": {
     "end_time": "2025-07-22T16:05:26.065575Z",
     "start_time": "2025-07-22T16:05:26.056406Z"
    }
   },
   "outputs": [
    {
     "data": {
      "text/plain": [
       "(7, 4)"
      ]
     },
     "execution_count": 4,
     "metadata": {},
     "output_type": "execute_result"
    }
   ],
   "execution_count": 4
  },
  {
   "cell_type": "code",
   "source": [
    "#让某些列变为索引，让c列，d列数据变为索引\n",
    "print(a)\n",
    "print('-'*50)\n",
    "a.set_index(['c'],inplace=True)#a没变，返回修改后的df\n",
    "a"
   ],
   "metadata": {
    "collapsed": false,
    "pycharm": {
     "name": "#%%\n"
    },
    "ExecuteTime": {
     "end_time": "2025-07-22T16:05:26.668736Z",
     "start_time": "2025-07-22T16:05:26.644127Z"
    }
   },
   "outputs": [
    {
     "name": "stdout",
     "output_type": "stream",
     "text": [
      "   a  b    c  d\n",
      "a  0  7  one  h\n",
      "b  1  6  one  j\n",
      "c  2  5  one  k\n",
      "d  3  4  two  l\n",
      "e  4  3  two  m\n",
      "f  5  2  two  n\n",
      "g  6  1  two  o\n",
      "--------------------------------------------------\n"
     ]
    },
    {
     "data": {
      "text/plain": [
       "     a  b  d\n",
       "c           \n",
       "one  0  7  h\n",
       "one  1  6  j\n",
       "one  2  5  k\n",
       "two  3  4  l\n",
       "two  4  3  m\n",
       "two  5  2  n\n",
       "two  6  1  o"
      ],
      "text/html": [
       "<div>\n",
       "<style scoped>\n",
       "    .dataframe tbody tr th:only-of-type {\n",
       "        vertical-align: middle;\n",
       "    }\n",
       "\n",
       "    .dataframe tbody tr th {\n",
       "        vertical-align: top;\n",
       "    }\n",
       "\n",
       "    .dataframe thead th {\n",
       "        text-align: right;\n",
       "    }\n",
       "</style>\n",
       "<table border=\"1\" class=\"dataframe\">\n",
       "  <thead>\n",
       "    <tr style=\"text-align: right;\">\n",
       "      <th></th>\n",
       "      <th>a</th>\n",
       "      <th>b</th>\n",
       "      <th>d</th>\n",
       "    </tr>\n",
       "    <tr>\n",
       "      <th>c</th>\n",
       "      <th></th>\n",
       "      <th></th>\n",
       "      <th></th>\n",
       "    </tr>\n",
       "  </thead>\n",
       "  <tbody>\n",
       "    <tr>\n",
       "      <th>one</th>\n",
       "      <td>0</td>\n",
       "      <td>7</td>\n",
       "      <td>h</td>\n",
       "    </tr>\n",
       "    <tr>\n",
       "      <th>one</th>\n",
       "      <td>1</td>\n",
       "      <td>6</td>\n",
       "      <td>j</td>\n",
       "    </tr>\n",
       "    <tr>\n",
       "      <th>one</th>\n",
       "      <td>2</td>\n",
       "      <td>5</td>\n",
       "      <td>k</td>\n",
       "    </tr>\n",
       "    <tr>\n",
       "      <th>two</th>\n",
       "      <td>3</td>\n",
       "      <td>4</td>\n",
       "      <td>l</td>\n",
       "    </tr>\n",
       "    <tr>\n",
       "      <th>two</th>\n",
       "      <td>4</td>\n",
       "      <td>3</td>\n",
       "      <td>m</td>\n",
       "    </tr>\n",
       "    <tr>\n",
       "      <th>two</th>\n",
       "      <td>5</td>\n",
       "      <td>2</td>\n",
       "      <td>n</td>\n",
       "    </tr>\n",
       "    <tr>\n",
       "      <th>two</th>\n",
       "      <td>6</td>\n",
       "      <td>1</td>\n",
       "      <td>o</td>\n",
       "    </tr>\n",
       "  </tbody>\n",
       "</table>\n",
       "</div>"
      ]
     },
     "execution_count": 5,
     "metadata": {},
     "output_type": "execute_result"
    }
   ],
   "execution_count": 5
  },
  {
   "metadata": {
    "ExecuteTime": {
     "end_time": "2025-07-22T16:05:27.080519Z",
     "start_time": "2025-07-22T16:05:27.072649Z"
    }
   },
   "cell_type": "code",
   "source": "a.columns",
   "outputs": [
    {
     "data": {
      "text/plain": [
       "Index(['a', 'b', 'd'], dtype='object')"
      ]
     },
     "execution_count": 6,
     "metadata": {},
     "output_type": "execute_result"
    }
   ],
   "execution_count": 6
  },
  {
   "metadata": {
    "ExecuteTime": {
     "end_time": "2025-07-22T16:05:27.451825Z",
     "start_time": "2025-07-22T16:05:27.445396Z"
    }
   },
   "cell_type": "code",
   "source": "a.index",
   "outputs": [
    {
     "data": {
      "text/plain": [
       "Index(['one', 'one', 'one', 'two', 'two', 'two', 'two'], dtype='object', name='c')"
      ]
     },
     "execution_count": 7,
     "metadata": {},
     "output_type": "execute_result"
    }
   ],
   "execution_count": 7
  },
  {
   "cell_type": "markdown",
   "source": [
    "### 时间序列"
   ],
   "metadata": {
    "collapsed": false
   }
  },
  {
   "cell_type": "code",
   "source": [
    "pd.date_range(start=\"20190101\", end=\"20190201\")"
   ],
   "metadata": {
    "collapsed": false,
    "pycharm": {
     "name": "#%%\n"
    },
    "ExecuteTime": {
     "end_time": "2025-07-22T16:05:27.644830Z",
     "start_time": "2025-07-22T16:05:27.620357Z"
    }
   },
   "outputs": [
    {
     "data": {
      "text/plain": [
       "DatetimeIndex(['2019-01-01', '2019-01-02', '2019-01-03', '2019-01-04',\n",
       "               '2019-01-05', '2019-01-06', '2019-01-07', '2019-01-08',\n",
       "               '2019-01-09', '2019-01-10', '2019-01-11', '2019-01-12',\n",
       "               '2019-01-13', '2019-01-14', '2019-01-15', '2019-01-16',\n",
       "               '2019-01-17', '2019-01-18', '2019-01-19', '2019-01-20',\n",
       "               '2019-01-21', '2019-01-22', '2019-01-23', '2019-01-24',\n",
       "               '2019-01-25', '2019-01-26', '2019-01-27', '2019-01-28',\n",
       "               '2019-01-29', '2019-01-30', '2019-01-31', '2019-02-01'],\n",
       "              dtype='datetime64[ns]', freq='D')"
      ]
     },
     "execution_count": 8,
     "metadata": {},
     "output_type": "execute_result"
    }
   ],
   "execution_count": 8
  },
  {
   "cell_type": "code",
   "source": "pd.date_range(start=\"20250107\",periods=10,freq='B')",
   "metadata": {
    "collapsed": false,
    "pycharm": {
     "name": "#%%\n"
    },
    "ExecuteTime": {
     "end_time": "2025-07-22T16:05:27.758347Z",
     "start_time": "2025-07-22T16:05:27.745997Z"
    }
   },
   "outputs": [
    {
     "data": {
      "text/plain": [
       "DatetimeIndex(['2025-01-07', '2025-01-08', '2025-01-09', '2025-01-10',\n",
       "               '2025-01-13', '2025-01-14', '2025-01-15', '2025-01-16',\n",
       "               '2025-01-17', '2025-01-20'],\n",
       "              dtype='datetime64[ns]', freq='B')"
      ]
     },
     "execution_count": 9,
     "metadata": {},
     "output_type": "execute_result"
    }
   ],
   "execution_count": 9
  },
  {
   "cell_type": "code",
   "source": "pd.date_range(start=\"20190101\",periods=10,freq='ME')",
   "metadata": {
    "collapsed": false,
    "pycharm": {
     "name": "#%%\n"
    },
    "ExecuteTime": {
     "end_time": "2025-07-22T16:05:27.928141Z",
     "start_time": "2025-07-22T16:05:27.918782Z"
    }
   },
   "outputs": [
    {
     "data": {
      "text/plain": [
       "DatetimeIndex(['2019-01-31', '2019-02-28', '2019-03-31', '2019-04-30',\n",
       "               '2019-05-31', '2019-06-30', '2019-07-31', '2019-08-31',\n",
       "               '2019-09-30', '2019-10-31'],\n",
       "              dtype='datetime64[ns]', freq='ME')"
      ]
     },
     "execution_count": 10,
     "metadata": {},
     "output_type": "execute_result"
    }
   ],
   "execution_count": 10
  },
  {
   "cell_type": "code",
   "source": [
    "pd.date_range(start=\"20190101\",periods=10,freq='MS')"
   ],
   "metadata": {
    "collapsed": false,
    "pycharm": {
     "name": "#%%\n"
    },
    "ExecuteTime": {
     "end_time": "2025-07-22T16:05:28.080400Z",
     "start_time": "2025-07-22T16:05:28.071092Z"
    }
   },
   "outputs": [
    {
     "data": {
      "text/plain": [
       "DatetimeIndex(['2019-01-01', '2019-02-01', '2019-03-01', '2019-04-01',\n",
       "               '2019-05-01', '2019-06-01', '2019-07-01', '2019-08-01',\n",
       "               '2019-09-01', '2019-10-01'],\n",
       "              dtype='datetime64[ns]', freq='MS')"
      ]
     },
     "execution_count": 11,
     "metadata": {},
     "output_type": "execute_result"
    }
   ],
   "execution_count": 11
  },
  {
   "cell_type": "code",
   "source": [
    "pd.date_range(start=\"20230710\",periods=10,freq='W')  #拿每周的周日生成"
   ],
   "metadata": {
    "collapsed": false,
    "pycharm": {
     "name": "#%%\n"
    },
    "ExecuteTime": {
     "end_time": "2025-07-22T16:05:28.201100Z",
     "start_time": "2025-07-22T16:05:28.192477Z"
    }
   },
   "outputs": [
    {
     "data": {
      "text/plain": [
       "DatetimeIndex(['2023-07-16', '2023-07-23', '2023-07-30', '2023-08-06',\n",
       "               '2023-08-13', '2023-08-20', '2023-08-27', '2023-09-03',\n",
       "               '2023-09-10', '2023-09-17'],\n",
       "              dtype='datetime64[ns]', freq='W-SUN')"
      ]
     },
     "execution_count": 12,
     "metadata": {},
     "output_type": "execute_result"
    }
   ],
   "execution_count": 12
  },
  {
   "cell_type": "code",
   "source": [
    "s = pd.Series(['3/11/2000', '3/12/2000', '3/13/2000'] * 5)\n",
    "s"
   ],
   "metadata": {
    "collapsed": false,
    "pycharm": {
     "name": "#%%\n"
    },
    "ExecuteTime": {
     "end_time": "2025-07-22T16:05:28.495010Z",
     "start_time": "2025-07-22T16:05:28.484944Z"
    }
   },
   "outputs": [
    {
     "data": {
      "text/plain": [
       "0     3/11/2000\n",
       "1     3/12/2000\n",
       "2     3/13/2000\n",
       "3     3/11/2000\n",
       "4     3/12/2000\n",
       "5     3/13/2000\n",
       "6     3/11/2000\n",
       "7     3/12/2000\n",
       "8     3/13/2000\n",
       "9     3/11/2000\n",
       "10    3/12/2000\n",
       "11    3/13/2000\n",
       "12    3/11/2000\n",
       "13    3/12/2000\n",
       "14    3/13/2000\n",
       "dtype: object"
      ]
     },
     "execution_count": 13,
     "metadata": {},
     "output_type": "execute_result"
    }
   ],
   "execution_count": 13
  },
  {
   "cell_type": "code",
   "source": [
    "#timeit可以统计执行耗时，to_datetime把字符串转为时间格式\n",
    "pd.to_datetime(s)"
   ],
   "metadata": {
    "collapsed": false,
    "pycharm": {
     "name": "#%%\n"
    },
    "ExecuteTime": {
     "end_time": "2025-07-22T16:05:28.884054Z",
     "start_time": "2025-07-22T16:05:28.719494Z"
    }
   },
   "outputs": [
    {
     "data": {
      "text/plain": [
       "0    2000-03-11\n",
       "1    2000-03-12\n",
       "2    2000-03-13\n",
       "3    2000-03-11\n",
       "4    2000-03-12\n",
       "5    2000-03-13\n",
       "6    2000-03-11\n",
       "7    2000-03-12\n",
       "8    2000-03-13\n",
       "9    2000-03-11\n",
       "10   2000-03-12\n",
       "11   2000-03-13\n",
       "12   2000-03-11\n",
       "13   2000-03-12\n",
       "14   2000-03-13\n",
       "dtype: datetime64[ns]"
      ]
     },
     "execution_count": 14,
     "metadata": {},
     "output_type": "execute_result"
    }
   ],
   "execution_count": 14
  },
  {
   "cell_type": "code",
   "source": [
    "#实战美国911数据\n",
    "from matplotlib import pyplot as plt\n",
    "\n",
    "# 把时间字符串转为时间类型设置为索引\n",
    "df = pd.read_csv(\"./911.csv\")\n",
    "df[\"timeStamp\"] = pd.to_datetime(df[\"timeStamp\"])\n",
    "\n",
    "# 添加列，表示分类\n",
    "temp_list = df[\"title\"].str.split(\": \").tolist() #二维列表\n",
    "cate_list = [i[0] for i in temp_list] #i[0]就是EMS  Fire  Traffic\n",
    "# print(cate_list)\n",
    "# print(np.array(cate_list).reshape((df.shape[0], 1)))\n",
    " #添加一列\n",
    "df[\"cate\"] = pd.DataFrame(np.array(cate_list).reshape((df.shape[0], 1)))\n",
    "\n",
    "df.set_index(\"timeStamp\", inplace=True) #设置索引，时间戳，inplace=True表示在原df上修改\n",
    "\n",
    "df.head(10)  #查看前10行"
   ],
   "metadata": {
    "collapsed": false,
    "pycharm": {
     "name": "#%%\n"
    },
    "ExecuteTime": {
     "end_time": "2025-07-22T16:05:39.599979Z",
     "start_time": "2025-07-22T16:05:29.182186Z"
    }
   },
   "outputs": [
    {
     "data": {
      "text/plain": [
       "                           lat        lng  \\\n",
       "timeStamp                                   \n",
       "2015-12-10 17:10:52  40.297876 -75.581294   \n",
       "2015-12-10 17:29:21  40.258061 -75.264680   \n",
       "2015-12-10 14:39:21  40.121182 -75.351975   \n",
       "2015-12-10 16:47:36  40.116153 -75.343513   \n",
       "2015-12-10 16:56:52  40.251492 -75.603350   \n",
       "2015-12-10 15:39:04  40.253473 -75.283245   \n",
       "2015-12-10 16:46:48  40.182111 -75.127795   \n",
       "2015-12-10 16:17:05  40.217286 -75.405182   \n",
       "2015-12-10 16:51:42  40.289027 -75.399590   \n",
       "2015-12-10 17:35:41  40.102398 -75.291458   \n",
       "\n",
       "                                                                  desc  \\\n",
       "timeStamp                                                                \n",
       "2015-12-10 17:10:52  REINDEER CT & DEAD END;  NEW HANOVER; Station ...   \n",
       "2015-12-10 17:29:21  BRIAR PATH & WHITEMARSH LN;  HATFIELD TOWNSHIP...   \n",
       "2015-12-10 14:39:21  HAWS AVE; NORRISTOWN; 2015-12-10 @ 14:39:21-St...   \n",
       "2015-12-10 16:47:36  AIRY ST & SWEDE ST;  NORRISTOWN; Station 308A;...   \n",
       "2015-12-10 16:56:52  CHERRYWOOD CT & DEAD END;  LOWER POTTSGROVE; S...   \n",
       "2015-12-10 15:39:04  CANNON AVE & W 9TH ST;  LANSDALE; Station 345;...   \n",
       "2015-12-10 16:46:48  LAUREL AVE & OAKDALE AVE;  HORSHAM; Station 35...   \n",
       "2015-12-10 16:17:05  COLLEGEVILLE RD & LYWISKI RD;  SKIPPACK; Stati...   \n",
       "2015-12-10 16:51:42  MAIN ST & OLD SUMNEYTOWN PIKE;  LOWER SALFORD;...   \n",
       "2015-12-10 17:35:41  BLUEROUTE  & RAMP I476 NB TO CHEMICAL RD; PLYM...   \n",
       "\n",
       "                         zip                        title                twp  \\\n",
       "timeStamp                                                                      \n",
       "2015-12-10 17:10:52  19525.0       EMS: BACK PAINS/INJURY        NEW HANOVER   \n",
       "2015-12-10 17:29:21  19446.0      EMS: DIABETIC EMERGENCY  HATFIELD TOWNSHIP   \n",
       "2015-12-10 14:39:21  19401.0          Fire: GAS-ODOR/LEAK         NORRISTOWN   \n",
       "2015-12-10 16:47:36  19401.0       EMS: CARDIAC EMERGENCY         NORRISTOWN   \n",
       "2015-12-10 16:56:52      NaN               EMS: DIZZINESS   LOWER POTTSGROVE   \n",
       "2015-12-10 15:39:04  19446.0             EMS: HEAD INJURY           LANSDALE   \n",
       "2015-12-10 16:46:48  19044.0         EMS: NAUSEA/VOMITING            HORSHAM   \n",
       "2015-12-10 16:17:05  19426.0   EMS: RESPIRATORY EMERGENCY           SKIPPACK   \n",
       "2015-12-10 16:51:42  19438.0        EMS: SYNCOPAL EPISODE      LOWER SALFORD   \n",
       "2015-12-10 17:35:41  19462.0  Traffic: VEHICLE ACCIDENT -           PLYMOUTH   \n",
       "\n",
       "                                                         addr  e     cate  \n",
       "timeStamp                                                                  \n",
       "2015-12-10 17:10:52                    REINDEER CT & DEAD END  1      EMS  \n",
       "2015-12-10 17:29:21                BRIAR PATH & WHITEMARSH LN  1      EMS  \n",
       "2015-12-10 14:39:21                                  HAWS AVE  1     Fire  \n",
       "2015-12-10 16:47:36                        AIRY ST & SWEDE ST  1      EMS  \n",
       "2015-12-10 16:56:52                  CHERRYWOOD CT & DEAD END  1      EMS  \n",
       "2015-12-10 15:39:04                     CANNON AVE & W 9TH ST  1      EMS  \n",
       "2015-12-10 16:46:48                  LAUREL AVE & OAKDALE AVE  1      EMS  \n",
       "2015-12-10 16:17:05              COLLEGEVILLE RD & LYWISKI RD  1      EMS  \n",
       "2015-12-10 16:51:42             MAIN ST & OLD SUMNEYTOWN PIKE  1      EMS  \n",
       "2015-12-10 17:35:41  BLUEROUTE  & RAMP I476 NB TO CHEMICAL RD  1  Traffic  "
      ],
      "text/html": [
       "<div>\n",
       "<style scoped>\n",
       "    .dataframe tbody tr th:only-of-type {\n",
       "        vertical-align: middle;\n",
       "    }\n",
       "\n",
       "    .dataframe tbody tr th {\n",
       "        vertical-align: top;\n",
       "    }\n",
       "\n",
       "    .dataframe thead th {\n",
       "        text-align: right;\n",
       "    }\n",
       "</style>\n",
       "<table border=\"1\" class=\"dataframe\">\n",
       "  <thead>\n",
       "    <tr style=\"text-align: right;\">\n",
       "      <th></th>\n",
       "      <th>lat</th>\n",
       "      <th>lng</th>\n",
       "      <th>desc</th>\n",
       "      <th>zip</th>\n",
       "      <th>title</th>\n",
       "      <th>twp</th>\n",
       "      <th>addr</th>\n",
       "      <th>e</th>\n",
       "      <th>cate</th>\n",
       "    </tr>\n",
       "    <tr>\n",
       "      <th>timeStamp</th>\n",
       "      <th></th>\n",
       "      <th></th>\n",
       "      <th></th>\n",
       "      <th></th>\n",
       "      <th></th>\n",
       "      <th></th>\n",
       "      <th></th>\n",
       "      <th></th>\n",
       "      <th></th>\n",
       "    </tr>\n",
       "  </thead>\n",
       "  <tbody>\n",
       "    <tr>\n",
       "      <th>2015-12-10 17:10:52</th>\n",
       "      <td>40.297876</td>\n",
       "      <td>-75.581294</td>\n",
       "      <td>REINDEER CT &amp; DEAD END;  NEW HANOVER; Station ...</td>\n",
       "      <td>19525.0</td>\n",
       "      <td>EMS: BACK PAINS/INJURY</td>\n",
       "      <td>NEW HANOVER</td>\n",
       "      <td>REINDEER CT &amp; DEAD END</td>\n",
       "      <td>1</td>\n",
       "      <td>EMS</td>\n",
       "    </tr>\n",
       "    <tr>\n",
       "      <th>2015-12-10 17:29:21</th>\n",
       "      <td>40.258061</td>\n",
       "      <td>-75.264680</td>\n",
       "      <td>BRIAR PATH &amp; WHITEMARSH LN;  HATFIELD TOWNSHIP...</td>\n",
       "      <td>19446.0</td>\n",
       "      <td>EMS: DIABETIC EMERGENCY</td>\n",
       "      <td>HATFIELD TOWNSHIP</td>\n",
       "      <td>BRIAR PATH &amp; WHITEMARSH LN</td>\n",
       "      <td>1</td>\n",
       "      <td>EMS</td>\n",
       "    </tr>\n",
       "    <tr>\n",
       "      <th>2015-12-10 14:39:21</th>\n",
       "      <td>40.121182</td>\n",
       "      <td>-75.351975</td>\n",
       "      <td>HAWS AVE; NORRISTOWN; 2015-12-10 @ 14:39:21-St...</td>\n",
       "      <td>19401.0</td>\n",
       "      <td>Fire: GAS-ODOR/LEAK</td>\n",
       "      <td>NORRISTOWN</td>\n",
       "      <td>HAWS AVE</td>\n",
       "      <td>1</td>\n",
       "      <td>Fire</td>\n",
       "    </tr>\n",
       "    <tr>\n",
       "      <th>2015-12-10 16:47:36</th>\n",
       "      <td>40.116153</td>\n",
       "      <td>-75.343513</td>\n",
       "      <td>AIRY ST &amp; SWEDE ST;  NORRISTOWN; Station 308A;...</td>\n",
       "      <td>19401.0</td>\n",
       "      <td>EMS: CARDIAC EMERGENCY</td>\n",
       "      <td>NORRISTOWN</td>\n",
       "      <td>AIRY ST &amp; SWEDE ST</td>\n",
       "      <td>1</td>\n",
       "      <td>EMS</td>\n",
       "    </tr>\n",
       "    <tr>\n",
       "      <th>2015-12-10 16:56:52</th>\n",
       "      <td>40.251492</td>\n",
       "      <td>-75.603350</td>\n",
       "      <td>CHERRYWOOD CT &amp; DEAD END;  LOWER POTTSGROVE; S...</td>\n",
       "      <td>NaN</td>\n",
       "      <td>EMS: DIZZINESS</td>\n",
       "      <td>LOWER POTTSGROVE</td>\n",
       "      <td>CHERRYWOOD CT &amp; DEAD END</td>\n",
       "      <td>1</td>\n",
       "      <td>EMS</td>\n",
       "    </tr>\n",
       "    <tr>\n",
       "      <th>2015-12-10 15:39:04</th>\n",
       "      <td>40.253473</td>\n",
       "      <td>-75.283245</td>\n",
       "      <td>CANNON AVE &amp; W 9TH ST;  LANSDALE; Station 345;...</td>\n",
       "      <td>19446.0</td>\n",
       "      <td>EMS: HEAD INJURY</td>\n",
       "      <td>LANSDALE</td>\n",
       "      <td>CANNON AVE &amp; W 9TH ST</td>\n",
       "      <td>1</td>\n",
       "      <td>EMS</td>\n",
       "    </tr>\n",
       "    <tr>\n",
       "      <th>2015-12-10 16:46:48</th>\n",
       "      <td>40.182111</td>\n",
       "      <td>-75.127795</td>\n",
       "      <td>LAUREL AVE &amp; OAKDALE AVE;  HORSHAM; Station 35...</td>\n",
       "      <td>19044.0</td>\n",
       "      <td>EMS: NAUSEA/VOMITING</td>\n",
       "      <td>HORSHAM</td>\n",
       "      <td>LAUREL AVE &amp; OAKDALE AVE</td>\n",
       "      <td>1</td>\n",
       "      <td>EMS</td>\n",
       "    </tr>\n",
       "    <tr>\n",
       "      <th>2015-12-10 16:17:05</th>\n",
       "      <td>40.217286</td>\n",
       "      <td>-75.405182</td>\n",
       "      <td>COLLEGEVILLE RD &amp; LYWISKI RD;  SKIPPACK; Stati...</td>\n",
       "      <td>19426.0</td>\n",
       "      <td>EMS: RESPIRATORY EMERGENCY</td>\n",
       "      <td>SKIPPACK</td>\n",
       "      <td>COLLEGEVILLE RD &amp; LYWISKI RD</td>\n",
       "      <td>1</td>\n",
       "      <td>EMS</td>\n",
       "    </tr>\n",
       "    <tr>\n",
       "      <th>2015-12-10 16:51:42</th>\n",
       "      <td>40.289027</td>\n",
       "      <td>-75.399590</td>\n",
       "      <td>MAIN ST &amp; OLD SUMNEYTOWN PIKE;  LOWER SALFORD;...</td>\n",
       "      <td>19438.0</td>\n",
       "      <td>EMS: SYNCOPAL EPISODE</td>\n",
       "      <td>LOWER SALFORD</td>\n",
       "      <td>MAIN ST &amp; OLD SUMNEYTOWN PIKE</td>\n",
       "      <td>1</td>\n",
       "      <td>EMS</td>\n",
       "    </tr>\n",
       "    <tr>\n",
       "      <th>2015-12-10 17:35:41</th>\n",
       "      <td>40.102398</td>\n",
       "      <td>-75.291458</td>\n",
       "      <td>BLUEROUTE  &amp; RAMP I476 NB TO CHEMICAL RD; PLYM...</td>\n",
       "      <td>19462.0</td>\n",
       "      <td>Traffic: VEHICLE ACCIDENT -</td>\n",
       "      <td>PLYMOUTH</td>\n",
       "      <td>BLUEROUTE  &amp; RAMP I476 NB TO CHEMICAL RD</td>\n",
       "      <td>1</td>\n",
       "      <td>Traffic</td>\n",
       "    </tr>\n",
       "  </tbody>\n",
       "</table>\n",
       "</div>"
      ]
     },
     "execution_count": 15,
     "metadata": {},
     "output_type": "execute_result"
    }
   ],
   "execution_count": 15
  },
  {
   "cell_type": "code",
   "source": [
    "plt.figure(figsize=(20, 8), dpi=80)\n",
    "\n",
    "# 分组,一图多线\n",
    "#resample降采样，按月统计,索引必须是时间类型，类似groupby\n",
    "for group_name, group_data in df.groupby(by=\"cate\"):\n",
    "    # 对不同的分类都进行绘图\n",
    "    count_by_month = group_data.resample(\"M\").count()[\"title\"]  #降采样\n",
    "    print(count_by_month)\n",
    "    # 画图\n",
    "    _x = count_by_month.index\n",
    "    print(_x)\n",
    "    _y = count_by_month.values #values是对应事故发生次数\n",
    "\n",
    "    _x = [i.strftime(\"%Y%m%d\") for i in _x]  #变年月日格式\n",
    "\n",
    "    plt.plot(_x, _y, label=group_name)\n",
    "\n",
    "plt.xticks(range(len(_x)), _x, rotation=45)\n",
    "plt.legend(loc=\"best\")\n",
    "plt.show()"
   ],
   "metadata": {
    "collapsed": false,
    "pycharm": {
     "name": "#%%\n"
    },
    "ExecuteTime": {
     "end_time": "2025-07-22T16:05:40.834159Z",
     "start_time": "2025-07-22T16:05:39.767571Z"
    }
   },
   "outputs": [
    {
     "name": "stderr",
     "output_type": "stream",
     "text": [
      "C:\\Windows\\Temp\\ipykernel_8688\\3777774160.py:7: FutureWarning: 'M' is deprecated and will be removed in a future version, please use 'ME' instead.\n",
      "  count_by_month = group_data.resample(\"M\").count()[\"title\"]  #降采样\n"
     ]
    },
    {
     "name": "stdout",
     "output_type": "stream",
     "text": [
      "timeStamp\n",
      "2015-12-31    3898\n",
      "2016-01-31    6063\n",
      "2016-02-29    5413\n",
      "2016-03-31    5832\n",
      "2016-04-30    5684\n",
      "2016-05-31    5730\n",
      "2016-06-30    5720\n",
      "2016-07-31    6029\n",
      "2016-08-31    6005\n",
      "2016-09-30    5750\n",
      "2016-10-31    6039\n",
      "2016-11-30    5838\n",
      "2016-12-31    6024\n",
      "2017-01-31    6082\n",
      "2017-02-28    5417\n",
      "2017-03-31    5913\n",
      "2017-04-30    5780\n",
      "2017-05-31    5948\n",
      "2017-06-30    6030\n",
      "2017-07-31    5974\n",
      "2017-08-31    5882\n",
      "2017-09-30    3789\n",
      "Freq: ME, Name: title, dtype: int64\n",
      "DatetimeIndex(['2015-12-31', '2016-01-31', '2016-02-29', '2016-03-31',\n",
      "               '2016-04-30', '2016-05-31', '2016-06-30', '2016-07-31',\n",
      "               '2016-08-31', '2016-09-30', '2016-10-31', '2016-11-30',\n",
      "               '2016-12-31', '2017-01-31', '2017-02-28', '2017-03-31',\n",
      "               '2017-04-30', '2017-05-31', '2017-06-30', '2017-07-31',\n",
      "               '2017-08-31', '2017-09-30'],\n",
      "              dtype='datetime64[ns]', name='timeStamp', freq='ME')\n",
      "timeStamp\n",
      "2015-12-31    1095\n",
      "2016-01-31    1904\n",
      "2016-02-29    1868\n",
      "2016-03-31    1589\n",
      "2016-04-30    1717\n",
      "2016-05-31    1573\n",
      "2016-06-30    1787\n",
      "2016-07-31    1898\n",
      "2016-08-31    1907\n",
      "2016-09-30    1793\n",
      "2016-10-31    1930\n",
      "2016-11-30    1765\n",
      "2016-12-31    1846\n",
      "2017-01-31    1658\n",
      "2017-02-28    1462\n",
      "2017-03-31    1634\n",
      "2017-04-30    1614\n",
      "2017-05-31    1670\n",
      "2017-06-30    1986\n",
      "2017-07-31    1754\n",
      "2017-08-31    1862\n",
      "2017-09-30    1120\n",
      "Freq: ME, Name: title, dtype: int64\n",
      "DatetimeIndex(['2015-12-31', '2016-01-31', '2016-02-29', '2016-03-31',\n",
      "               '2016-04-30', '2016-05-31', '2016-06-30', '2016-07-31',\n",
      "               '2016-08-31', '2016-09-30', '2016-10-31', '2016-11-30',\n",
      "               '2016-12-31', '2017-01-31', '2017-02-28', '2017-03-31',\n",
      "               '2017-04-30', '2017-05-31', '2017-06-30', '2017-07-31',\n",
      "               '2017-08-31', '2017-09-30'],\n",
      "              dtype='datetime64[ns]', name='timeStamp', freq='ME')\n",
      "timeStamp\n",
      "2015-12-31    2923\n",
      "2016-01-31    5129\n",
      "2016-02-29    4115\n",
      "2016-03-31    3638\n",
      "2016-04-30    3886\n",
      "2016-05-31    4071\n",
      "2016-06-30    4225\n",
      "2016-07-31    4161\n",
      "2016-08-31    3992\n",
      "2016-09-30    4126\n",
      "2016-10-31    4533\n",
      "2016-11-30    4488\n",
      "2016-12-31    4292\n",
      "2017-01-31    3865\n",
      "2017-02-28    3388\n",
      "2017-03-31    4137\n",
      "2017-04-30    3662\n",
      "2017-05-31    4101\n",
      "2017-06-30    4317\n",
      "2017-07-31    4040\n",
      "2017-08-31    4009\n",
      "2017-09-30    2367\n",
      "Freq: ME, Name: title, dtype: int64\n",
      "DatetimeIndex(['2015-12-31', '2016-01-31', '2016-02-29', '2016-03-31',\n",
      "               '2016-04-30', '2016-05-31', '2016-06-30', '2016-07-31',\n",
      "               '2016-08-31', '2016-09-30', '2016-10-31', '2016-11-30',\n",
      "               '2016-12-31', '2017-01-31', '2017-02-28', '2017-03-31',\n",
      "               '2017-04-30', '2017-05-31', '2017-06-30', '2017-07-31',\n",
      "               '2017-08-31', '2017-09-30'],\n",
      "              dtype='datetime64[ns]', name='timeStamp', freq='ME')\n"
     ]
    },
    {
     "data": {
      "text/plain": [
       "<Figure size 1600x640 with 1 Axes>"
      ],
      "image/png": "[encoded data removed]"
     },
     "metadata": {},
     "output_type": "display_data"
    }
   ],
   "execution_count": 16
  },
  {
   "cell_type": "markdown",
   "source": [
    "### 分组运算"
   ],
   "metadata": {
    "collapsed": false
   }
  },
  {
   "cell_type": "code",
   "source": [
    "import numpy as np\n",
    "#分组后给名称加前缀\n",
    "dict_obj = {'key1' : ['a', 'b', 'a', 'b',\n",
    "                      'a', 'b', 'a', 'a'],\n",
    "            'key2' : ['one', 'one', 'two', 'three',\n",
    "                      'two', 'two', 'one', 'three'],\n",
    "            'data1': np.random.randint(1, 10, 8),\n",
    "            'data2': np.random.randint(1, 10, 8)}\n",
    "df_obj = pd.DataFrame(dict_obj)\n",
    "print(df_obj)\n",
    "print('-'*50)\n",
    "# 按key1分组后，计算data1，data2的统计信息并附加到原始表格中，并添加表头前缀\n",
    "k1_sum = df_obj.groupby('key1').mean().add_prefix('mean_')\n",
    "print(k1_sum)"
   ],
   "metadata": {
    "collapsed": false,
    "pycharm": {
     "name": "#%%\n"
    },
    "ExecuteTime": {
     "end_time": "2025-07-22T16:05:43.348212Z",
     "start_time": "2025-07-22T16:05:40.940907Z"
    }
   },
   "outputs": [
    {
     "name": "stdout",
     "output_type": "stream",
     "text": [
      "  key1   key2  data1  data2\n",
      "0    a    one      5      8\n",
      "1    b    one      4      7\n",
      "2    a    two      4      1\n",
      "3    b  three      7      5\n",
      "4    a    two      1      3\n",
      "5    b    two      6      6\n",
      "6    a    one      6      3\n",
      "7    a  three      1      1\n",
      "--------------------------------------------------\n"
     ]
    },
    {
     "ename": "TypeError",
     "evalue": "agg function failed [how->mean,dtype->object]",
     "output_type": "error",
     "traceback": [
      "\u001B[31m---------------------------------------------------------------------------\u001B[39m",
      "\u001B[31mTypeError\u001B[39m                                 Traceback (most recent call last)",
      "\u001B[36mFile \u001B[39m\u001B[32m~\\AppData\\Local\\Programs\\Python\\Python312\\Lib\\site-packages\\pandas\\core\\groupby\\groupby.py:1943\u001B[39m, in \u001B[36mGroupBy._agg_py_fallback\u001B[39m\u001B[34m(self, how, values, ndim, alt)\u001B[39m\n\u001B[32m   1942\u001B[39m \u001B[38;5;28;01mtry\u001B[39;00m:\n\u001B[32m-> \u001B[39m\u001B[32m1943\u001B[39m     res_values = \u001B[38;5;28;43mself\u001B[39;49m\u001B[43m.\u001B[49m\u001B[43m_grouper\u001B[49m\u001B[43m.\u001B[49m\u001B[43magg_series\u001B[49m\u001B[43m(\u001B[49m\u001B[43mser\u001B[49m\u001B[43m,\u001B[49m\u001B[43m \u001B[49m\u001B[43malt\u001B[49m\u001B[43m,\u001B[49m\u001B[43m \u001B[49m\u001B[43mpreserve_dtype\u001B[49m\u001B[43m=\u001B[49m\u001B[38;5;28;43;01mTrue\u001B[39;49;00m\u001B[43m)\u001B[49m\n\u001B[32m   1944\u001B[39m \u001B[38;5;28;01mexcept\u001B[39;00m \u001B[38;5;167;01mException\u001B[39;00m \u001B[38;5;28;01mas\u001B[39;00m err:\n",
      "\u001B[36mFile \u001B[39m\u001B[32m~\\AppData\\Local\\Programs\\Python\\Python312\\Lib\\site-packages\\pandas\\core\\groupby\\ops.py:864\u001B[39m, in \u001B[36mBaseGrouper.agg_series\u001B[39m\u001B[34m(self, obj, func, preserve_dtype)\u001B[39m\n\u001B[32m    862\u001B[39m     preserve_dtype = \u001B[38;5;28;01mTrue\u001B[39;00m\n\u001B[32m--> \u001B[39m\u001B[32m864\u001B[39m result = \u001B[38;5;28;43mself\u001B[39;49m\u001B[43m.\u001B[49m\u001B[43m_aggregate_series_pure_python\u001B[49m\u001B[43m(\u001B[49m\u001B[43mobj\u001B[49m\u001B[43m,\u001B[49m\u001B[43m \u001B[49m\u001B[43mfunc\u001B[49m\u001B[43m)\u001B[49m\n\u001B[32m    866\u001B[39m npvalues = lib.maybe_convert_objects(result, try_float=\u001B[38;5;28;01mFalse\u001B[39;00m)\n",
      "\u001B[36mFile \u001B[39m\u001B[32m~\\AppData\\Local\\Programs\\Python\\Python312\\Lib\\site-packages\\pandas\\core\\groupby\\ops.py:885\u001B[39m, in \u001B[36mBaseGrouper._aggregate_series_pure_python\u001B[39m\u001B[34m(self, obj, func)\u001B[39m\n\u001B[32m    884\u001B[39m \u001B[38;5;28;01mfor\u001B[39;00m i, group \u001B[38;5;129;01min\u001B[39;00m \u001B[38;5;28menumerate\u001B[39m(splitter):\n\u001B[32m--> \u001B[39m\u001B[32m885\u001B[39m     res = \u001B[43mfunc\u001B[49m\u001B[43m(\u001B[49m\u001B[43mgroup\u001B[49m\u001B[43m)\u001B[49m\n\u001B[32m    886\u001B[39m     res = extract_result(res)\n",
      "\u001B[36mFile \u001B[39m\u001B[32m~\\AppData\\Local\\Programs\\Python\\Python312\\Lib\\site-packages\\pandas\\core\\groupby\\groupby.py:2460\u001B[39m, in \u001B[36mGroupBy.mean.<locals>.<lambda>\u001B[39m\u001B[34m(x)\u001B[39m\n\u001B[32m   2457\u001B[39m \u001B[38;5;28;01melse\u001B[39;00m:\n\u001B[32m   2458\u001B[39m     result = \u001B[38;5;28mself\u001B[39m._cython_agg_general(\n\u001B[32m   2459\u001B[39m         \u001B[33m\"\u001B[39m\u001B[33mmean\u001B[39m\u001B[33m\"\u001B[39m,\n\u001B[32m-> \u001B[39m\u001B[32m2460\u001B[39m         alt=\u001B[38;5;28;01mlambda\u001B[39;00m x: \u001B[43mSeries\u001B[49m\u001B[43m(\u001B[49m\u001B[43mx\u001B[49m\u001B[43m,\u001B[49m\u001B[43m \u001B[49m\u001B[43mcopy\u001B[49m\u001B[43m=\u001B[49m\u001B[38;5;28;43;01mFalse\u001B[39;49;00m\u001B[43m)\u001B[49m\u001B[43m.\u001B[49m\u001B[43mmean\u001B[49m\u001B[43m(\u001B[49m\u001B[43mnumeric_only\u001B[49m\u001B[43m=\u001B[49m\u001B[43mnumeric_only\u001B[49m\u001B[43m)\u001B[49m,\n\u001B[32m   2461\u001B[39m         numeric_only=numeric_only,\n\u001B[32m   2462\u001B[39m     )\n\u001B[32m   2463\u001B[39m     \u001B[38;5;28;01mreturn\u001B[39;00m result.__finalize__(\u001B[38;5;28mself\u001B[39m.obj, method=\u001B[33m\"\u001B[39m\u001B[33mgroupby\u001B[39m\u001B[33m\"\u001B[39m)\n",
      "\u001B[36mFile \u001B[39m\u001B[32m~\\AppData\\Local\\Programs\\Python\\Python312\\Lib\\site-packages\\pandas\\core\\series.py:6560\u001B[39m, in \u001B[36mSeries.mean\u001B[39m\u001B[34m(self, axis, skipna, numeric_only, **kwargs)\u001B[39m\n\u001B[32m   6552\u001B[39m \u001B[38;5;129m@doc\u001B[39m(make_doc(\u001B[33m\"\u001B[39m\u001B[33mmean\u001B[39m\u001B[33m\"\u001B[39m, ndim=\u001B[32m1\u001B[39m))\n\u001B[32m   6553\u001B[39m \u001B[38;5;28;01mdef\u001B[39;00m \u001B[34mmean\u001B[39m(\n\u001B[32m   6554\u001B[39m     \u001B[38;5;28mself\u001B[39m,\n\u001B[32m   (...)\u001B[39m\u001B[32m   6558\u001B[39m     **kwargs,\n\u001B[32m   6559\u001B[39m ):\n\u001B[32m-> \u001B[39m\u001B[32m6560\u001B[39m     \u001B[38;5;28;01mreturn\u001B[39;00m \u001B[43mNDFrame\u001B[49m\u001B[43m.\u001B[49m\u001B[43mmean\u001B[49m\u001B[43m(\u001B[49m\u001B[38;5;28;43mself\u001B[39;49m\u001B[43m,\u001B[49m\u001B[43m \u001B[49m\u001B[43maxis\u001B[49m\u001B[43m,\u001B[49m\u001B[43m \u001B[49m\u001B[43mskipna\u001B[49m\u001B[43m,\u001B[49m\u001B[43m \u001B[49m\u001B[43mnumeric_only\u001B[49m\u001B[43m,\u001B[49m\u001B[43m \u001B[49m\u001B[43m*\u001B[49m\u001B[43m*\u001B[49m\u001B[43mkwargs\u001B[49m\u001B[43m)\u001B[49m\n",
      "\u001B[36mFile \u001B[39m\u001B[32m~\\AppData\\Local\\Programs\\Python\\Python312\\Lib\\site-packages\\pandas\\core\\generic.py:12439\u001B[39m, in \u001B[36mNDFrame.mean\u001B[39m\u001B[34m(self, axis, skipna, numeric_only, **kwargs)\u001B[39m\n\u001B[32m  12432\u001B[39m \u001B[38;5;28;01mdef\u001B[39;00m \u001B[34mmean\u001B[39m(\n\u001B[32m  12433\u001B[39m     \u001B[38;5;28mself\u001B[39m,\n\u001B[32m  12434\u001B[39m     axis: Axis | \u001B[38;5;28;01mNone\u001B[39;00m = \u001B[32m0\u001B[39m,\n\u001B[32m   (...)\u001B[39m\u001B[32m  12437\u001B[39m     **kwargs,\n\u001B[32m  12438\u001B[39m ) -> Series | \u001B[38;5;28mfloat\u001B[39m:\n\u001B[32m> \u001B[39m\u001B[32m12439\u001B[39m     \u001B[38;5;28;01mreturn\u001B[39;00m \u001B[38;5;28;43mself\u001B[39;49m\u001B[43m.\u001B[49m\u001B[43m_stat_function\u001B[49m\u001B[43m(\u001B[49m\n\u001B[32m  12440\u001B[39m \u001B[43m        \u001B[49m\u001B[33;43m\"\u001B[39;49m\u001B[33;43mmean\u001B[39;49m\u001B[33;43m\"\u001B[39;49m\u001B[43m,\u001B[49m\u001B[43m \u001B[49m\u001B[43mnanops\u001B[49m\u001B[43m.\u001B[49m\u001B[43mnanmean\u001B[49m\u001B[43m,\u001B[49m\u001B[43m \u001B[49m\u001B[43maxis\u001B[49m\u001B[43m,\u001B[49m\u001B[43m \u001B[49m\u001B[43mskipna\u001B[49m\u001B[43m,\u001B[49m\u001B[43m \u001B[49m\u001B[43mnumeric_only\u001B[49m\u001B[43m,\u001B[49m\u001B[43m \u001B[49m\u001B[43m*\u001B[49m\u001B[43m*\u001B[49m\u001B[43mkwargs\u001B[49m\n\u001B[32m  12441\u001B[39m \u001B[43m    \u001B[49m\u001B[43m)\u001B[49m\n",
      "\u001B[36mFile \u001B[39m\u001B[32m~\\AppData\\Local\\Programs\\Python\\Python312\\Lib\\site-packages\\pandas\\core\\generic.py:12396\u001B[39m, in \u001B[36mNDFrame._stat_function\u001B[39m\u001B[34m(self, name, func, axis, skipna, numeric_only, **kwargs)\u001B[39m\n\u001B[32m  12394\u001B[39m validate_bool_kwarg(skipna, \u001B[33m\"\u001B[39m\u001B[33mskipna\u001B[39m\u001B[33m\"\u001B[39m, none_allowed=\u001B[38;5;28;01mFalse\u001B[39;00m)\n\u001B[32m> \u001B[39m\u001B[32m12396\u001B[39m \u001B[38;5;28;01mreturn\u001B[39;00m \u001B[38;5;28;43mself\u001B[39;49m\u001B[43m.\u001B[49m\u001B[43m_reduce\u001B[49m\u001B[43m(\u001B[49m\n\u001B[32m  12397\u001B[39m \u001B[43m    \u001B[49m\u001B[43mfunc\u001B[49m\u001B[43m,\u001B[49m\u001B[43m \u001B[49m\u001B[43mname\u001B[49m\u001B[43m=\u001B[49m\u001B[43mname\u001B[49m\u001B[43m,\u001B[49m\u001B[43m \u001B[49m\u001B[43maxis\u001B[49m\u001B[43m=\u001B[49m\u001B[43maxis\u001B[49m\u001B[43m,\u001B[49m\u001B[43m \u001B[49m\u001B[43mskipna\u001B[49m\u001B[43m=\u001B[49m\u001B[43mskipna\u001B[49m\u001B[43m,\u001B[49m\u001B[43m \u001B[49m\u001B[43mnumeric_only\u001B[49m\u001B[43m=\u001B[49m\u001B[43mnumeric_only\u001B[49m\n\u001B[32m  12398\u001B[39m \u001B[43m\u001B[49m\u001B[43m)\u001B[49m\n",
      "\u001B[36mFile \u001B[39m\u001B[32m~\\AppData\\Local\\Programs\\Python\\Python312\\Lib\\site-packages\\pandas\\core\\series.py:6468\u001B[39m, in \u001B[36mSeries._reduce\u001B[39m\u001B[34m(self, op, name, axis, skipna, numeric_only, filter_type, **kwds)\u001B[39m\n\u001B[32m   6464\u001B[39m     \u001B[38;5;28;01mraise\u001B[39;00m \u001B[38;5;167;01mTypeError\u001B[39;00m(\n\u001B[32m   6465\u001B[39m         \u001B[33mf\u001B[39m\u001B[33m\"\u001B[39m\u001B[33mSeries.\u001B[39m\u001B[38;5;132;01m{\u001B[39;00mname\u001B[38;5;132;01m}\u001B[39;00m\u001B[33m does not allow \u001B[39m\u001B[38;5;132;01m{\u001B[39;00mkwd_name\u001B[38;5;132;01m}\u001B[39;00m\u001B[33m=\u001B[39m\u001B[38;5;132;01m{\u001B[39;00mnumeric_only\u001B[38;5;132;01m}\u001B[39;00m\u001B[33m \u001B[39m\u001B[33m\"\u001B[39m\n\u001B[32m   6466\u001B[39m         \u001B[33m\"\u001B[39m\u001B[33mwith non-numeric dtypes.\u001B[39m\u001B[33m\"\u001B[39m\n\u001B[32m   6467\u001B[39m     )\n\u001B[32m-> \u001B[39m\u001B[32m6468\u001B[39m \u001B[38;5;28;01mreturn\u001B[39;00m \u001B[43mop\u001B[49m\u001B[43m(\u001B[49m\u001B[43mdelegate\u001B[49m\u001B[43m,\u001B[49m\u001B[43m \u001B[49m\u001B[43mskipna\u001B[49m\u001B[43m=\u001B[49m\u001B[43mskipna\u001B[49m\u001B[43m,\u001B[49m\u001B[43m \u001B[49m\u001B[43m*\u001B[49m\u001B[43m*\u001B[49m\u001B[43mkwds\u001B[49m\u001B[43m)\u001B[49m\n",
      "\u001B[36mFile \u001B[39m\u001B[32m~\\AppData\\Local\\Programs\\Python\\Python312\\Lib\\site-packages\\pandas\\core\\nanops.py:147\u001B[39m, in \u001B[36mbottleneck_switch.__call__.<locals>.f\u001B[39m\u001B[34m(values, axis, skipna, **kwds)\u001B[39m\n\u001B[32m    146\u001B[39m \u001B[38;5;28;01melse\u001B[39;00m:\n\u001B[32m--> \u001B[39m\u001B[32m147\u001B[39m     result = \u001B[43malt\u001B[49m\u001B[43m(\u001B[49m\u001B[43mvalues\u001B[49m\u001B[43m,\u001B[49m\u001B[43m \u001B[49m\u001B[43maxis\u001B[49m\u001B[43m=\u001B[49m\u001B[43maxis\u001B[49m\u001B[43m,\u001B[49m\u001B[43m \u001B[49m\u001B[43mskipna\u001B[49m\u001B[43m=\u001B[49m\u001B[43mskipna\u001B[49m\u001B[43m,\u001B[49m\u001B[43m \u001B[49m\u001B[43m*\u001B[49m\u001B[43m*\u001B[49m\u001B[43mkwds\u001B[49m\u001B[43m)\u001B[49m\n\u001B[32m    149\u001B[39m \u001B[38;5;28;01mreturn\u001B[39;00m result\n",
      "\u001B[36mFile \u001B[39m\u001B[32m~\\AppData\\Local\\Programs\\Python\\Python312\\Lib\\site-packages\\pandas\\core\\nanops.py:404\u001B[39m, in \u001B[36m_datetimelike_compat.<locals>.new_func\u001B[39m\u001B[34m(values, axis, skipna, mask, **kwargs)\u001B[39m\n\u001B[32m    402\u001B[39m     mask = isna(values)\n\u001B[32m--> \u001B[39m\u001B[32m404\u001B[39m result = \u001B[43mfunc\u001B[49m\u001B[43m(\u001B[49m\u001B[43mvalues\u001B[49m\u001B[43m,\u001B[49m\u001B[43m \u001B[49m\u001B[43maxis\u001B[49m\u001B[43m=\u001B[49m\u001B[43maxis\u001B[49m\u001B[43m,\u001B[49m\u001B[43m \u001B[49m\u001B[43mskipna\u001B[49m\u001B[43m=\u001B[49m\u001B[43mskipna\u001B[49m\u001B[43m,\u001B[49m\u001B[43m \u001B[49m\u001B[43mmask\u001B[49m\u001B[43m=\u001B[49m\u001B[43mmask\u001B[49m\u001B[43m,\u001B[49m\u001B[43m \u001B[49m\u001B[43m*\u001B[49m\u001B[43m*\u001B[49m\u001B[43mkwargs\u001B[49m\u001B[43m)\u001B[49m\n\u001B[32m    406\u001B[39m \u001B[38;5;28;01mif\u001B[39;00m datetimelike:\n",
      "\u001B[36mFile \u001B[39m\u001B[32m~\\AppData\\Local\\Programs\\Python\\Python312\\Lib\\site-packages\\pandas\\core\\nanops.py:720\u001B[39m, in \u001B[36mnanmean\u001B[39m\u001B[34m(values, axis, skipna, mask)\u001B[39m\n\u001B[32m    719\u001B[39m the_sum = values.sum(axis, dtype=dtype_sum)\n\u001B[32m--> \u001B[39m\u001B[32m720\u001B[39m the_sum = \u001B[43m_ensure_numeric\u001B[49m\u001B[43m(\u001B[49m\u001B[43mthe_sum\u001B[49m\u001B[43m)\u001B[49m\n\u001B[32m    722\u001B[39m \u001B[38;5;28;01mif\u001B[39;00m axis \u001B[38;5;129;01mis\u001B[39;00m \u001B[38;5;129;01mnot\u001B[39;00m \u001B[38;5;28;01mNone\u001B[39;00m \u001B[38;5;129;01mand\u001B[39;00m \u001B[38;5;28mgetattr\u001B[39m(the_sum, \u001B[33m\"\u001B[39m\u001B[33mndim\u001B[39m\u001B[33m\"\u001B[39m, \u001B[38;5;28;01mFalse\u001B[39;00m):\n",
      "\u001B[36mFile \u001B[39m\u001B[32m~\\AppData\\Local\\Programs\\Python\\Python312\\Lib\\site-packages\\pandas\\core\\nanops.py:1701\u001B[39m, in \u001B[36m_ensure_numeric\u001B[39m\u001B[34m(x)\u001B[39m\n\u001B[32m   1699\u001B[39m \u001B[38;5;28;01mif\u001B[39;00m \u001B[38;5;28misinstance\u001B[39m(x, \u001B[38;5;28mstr\u001B[39m):\n\u001B[32m   1700\u001B[39m     \u001B[38;5;66;03m# GH#44008, GH#36703 avoid casting e.g. strings to numeric\u001B[39;00m\n\u001B[32m-> \u001B[39m\u001B[32m1701\u001B[39m     \u001B[38;5;28;01mraise\u001B[39;00m \u001B[38;5;167;01mTypeError\u001B[39;00m(\u001B[33mf\u001B[39m\u001B[33m\"\u001B[39m\u001B[33mCould not convert string \u001B[39m\u001B[33m'\u001B[39m\u001B[38;5;132;01m{\u001B[39;00mx\u001B[38;5;132;01m}\u001B[39;00m\u001B[33m'\u001B[39m\u001B[33m to numeric\u001B[39m\u001B[33m\"\u001B[39m)\n\u001B[32m   1702\u001B[39m \u001B[38;5;28;01mtry\u001B[39;00m:\n",
      "\u001B[31mTypeError\u001B[39m: Could not convert string 'onetwotwoonethree' to numeric",
      "\nThe above exception was the direct cause of the following exception:\n",
      "\u001B[31mTypeError\u001B[39m                                 Traceback (most recent call last)",
      "\u001B[36mCell\u001B[39m\u001B[36m \u001B[39m\u001B[32mIn[17]\u001B[39m\u001B[32m, line 13\u001B[39m\n\u001B[32m     11\u001B[39m \u001B[38;5;28mprint\u001B[39m(\u001B[33m'\u001B[39m\u001B[33m-\u001B[39m\u001B[33m'\u001B[39m*\u001B[32m50\u001B[39m)\n\u001B[32m     12\u001B[39m \u001B[38;5;66;03m# 按key1分组后，计算data1，data2的统计信息并附加到原始表格中，并添加表头前缀\u001B[39;00m\n\u001B[32m---> \u001B[39m\u001B[32m13\u001B[39m k1_sum = \u001B[43mdf_obj\u001B[49m\u001B[43m.\u001B[49m\u001B[43mgroupby\u001B[49m\u001B[43m(\u001B[49m\u001B[33;43m'\u001B[39;49m\u001B[33;43mkey1\u001B[39;49m\u001B[33;43m'\u001B[39;49m\u001B[43m)\u001B[49m\u001B[43m.\u001B[49m\u001B[43mmean\u001B[49m\u001B[43m(\u001B[49m\u001B[43m)\u001B[49m.add_prefix(\u001B[33m'\u001B[39m\u001B[33mmean_\u001B[39m\u001B[33m'\u001B[39m)\n\u001B[32m     14\u001B[39m \u001B[38;5;28mprint\u001B[39m(k1_sum)\n",
      "\u001B[36mFile \u001B[39m\u001B[32m~\\AppData\\Local\\Programs\\Python\\Python312\\Lib\\site-packages\\pandas\\core\\groupby\\groupby.py:2458\u001B[39m, in \u001B[36mGroupBy.mean\u001B[39m\u001B[34m(self, numeric_only, engine, engine_kwargs)\u001B[39m\n\u001B[32m   2451\u001B[39m     \u001B[38;5;28;01mreturn\u001B[39;00m \u001B[38;5;28mself\u001B[39m._numba_agg_general(\n\u001B[32m   2452\u001B[39m         grouped_mean,\n\u001B[32m   2453\u001B[39m         executor.float_dtype_mapping,\n\u001B[32m   2454\u001B[39m         engine_kwargs,\n\u001B[32m   2455\u001B[39m         min_periods=\u001B[32m0\u001B[39m,\n\u001B[32m   2456\u001B[39m     )\n\u001B[32m   2457\u001B[39m \u001B[38;5;28;01melse\u001B[39;00m:\n\u001B[32m-> \u001B[39m\u001B[32m2458\u001B[39m     result = \u001B[38;5;28;43mself\u001B[39;49m\u001B[43m.\u001B[49m\u001B[43m_cython_agg_general\u001B[49m\u001B[43m(\u001B[49m\n\u001B[32m   2459\u001B[39m \u001B[43m        \u001B[49m\u001B[33;43m\"\u001B[39;49m\u001B[33;43mmean\u001B[39;49m\u001B[33;43m\"\u001B[39;49m\u001B[43m,\u001B[49m\n\u001B[32m   2460\u001B[39m \u001B[43m        \u001B[49m\u001B[43malt\u001B[49m\u001B[43m=\u001B[49m\u001B[38;5;28;43;01mlambda\u001B[39;49;00m\u001B[43m \u001B[49m\u001B[43mx\u001B[49m\u001B[43m:\u001B[49m\u001B[43m \u001B[49m\u001B[43mSeries\u001B[49m\u001B[43m(\u001B[49m\u001B[43mx\u001B[49m\u001B[43m,\u001B[49m\u001B[43m \u001B[49m\u001B[43mcopy\u001B[49m\u001B[43m=\u001B[49m\u001B[38;5;28;43;01mFalse\u001B[39;49;00m\u001B[43m)\u001B[49m\u001B[43m.\u001B[49m\u001B[43mmean\u001B[49m\u001B[43m(\u001B[49m\u001B[43mnumeric_only\u001B[49m\u001B[43m=\u001B[49m\u001B[43mnumeric_only\u001B[49m\u001B[43m)\u001B[49m\u001B[43m,\u001B[49m\n\u001B[32m   2461\u001B[39m \u001B[43m        \u001B[49m\u001B[43mnumeric_only\u001B[49m\u001B[43m=\u001B[49m\u001B[43mnumeric_only\u001B[49m\u001B[43m,\u001B[49m\n\u001B[32m   2462\u001B[39m \u001B[43m    \u001B[49m\u001B[43m)\u001B[49m\n\u001B[32m   2463\u001B[39m     \u001B[38;5;28;01mreturn\u001B[39;00m result.__finalize__(\u001B[38;5;28mself\u001B[39m.obj, method=\u001B[33m\"\u001B[39m\u001B[33mgroupby\u001B[39m\u001B[33m\"\u001B[39m)\n",
      "\u001B[36mFile \u001B[39m\u001B[32m~\\AppData\\Local\\Programs\\Python\\Python312\\Lib\\site-packages\\pandas\\core\\groupby\\groupby.py:2004\u001B[39m, in \u001B[36mGroupBy._cython_agg_general\u001B[39m\u001B[34m(self, how, alt, numeric_only, min_count, **kwargs)\u001B[39m\n\u001B[32m   2001\u001B[39m     result = \u001B[38;5;28mself\u001B[39m._agg_py_fallback(how, values, ndim=data.ndim, alt=alt)\n\u001B[32m   2002\u001B[39m     \u001B[38;5;28;01mreturn\u001B[39;00m result\n\u001B[32m-> \u001B[39m\u001B[32m2004\u001B[39m new_mgr = \u001B[43mdata\u001B[49m\u001B[43m.\u001B[49m\u001B[43mgrouped_reduce\u001B[49m\u001B[43m(\u001B[49m\u001B[43marray_func\u001B[49m\u001B[43m)\u001B[49m\n\u001B[32m   2005\u001B[39m res = \u001B[38;5;28mself\u001B[39m._wrap_agged_manager(new_mgr)\n\u001B[32m   2006\u001B[39m \u001B[38;5;28;01mif\u001B[39;00m how \u001B[38;5;129;01min\u001B[39;00m [\u001B[33m\"\u001B[39m\u001B[33midxmin\u001B[39m\u001B[33m\"\u001B[39m, \u001B[33m\"\u001B[39m\u001B[33midxmax\u001B[39m\u001B[33m\"\u001B[39m]:\n",
      "\u001B[36mFile \u001B[39m\u001B[32m~\\AppData\\Local\\Programs\\Python\\Python312\\Lib\\site-packages\\pandas\\core\\internals\\managers.py:1469\u001B[39m, in \u001B[36mBlockManager.grouped_reduce\u001B[39m\u001B[34m(self, func)\u001B[39m\n\u001B[32m   1465\u001B[39m \u001B[38;5;28;01mif\u001B[39;00m blk.is_object:\n\u001B[32m   1466\u001B[39m     \u001B[38;5;66;03m# split on object-dtype blocks bc some columns may raise\u001B[39;00m\n\u001B[32m   1467\u001B[39m     \u001B[38;5;66;03m#  while others do not.\u001B[39;00m\n\u001B[32m   1468\u001B[39m     \u001B[38;5;28;01mfor\u001B[39;00m sb \u001B[38;5;129;01min\u001B[39;00m blk._split():\n\u001B[32m-> \u001B[39m\u001B[32m1469\u001B[39m         applied = \u001B[43msb\u001B[49m\u001B[43m.\u001B[49m\u001B[43mapply\u001B[49m\u001B[43m(\u001B[49m\u001B[43mfunc\u001B[49m\u001B[43m)\u001B[49m\n\u001B[32m   1470\u001B[39m         result_blocks = extend_blocks(applied, result_blocks)\n\u001B[32m   1471\u001B[39m \u001B[38;5;28;01melse\u001B[39;00m:\n",
      "\u001B[36mFile \u001B[39m\u001B[32m~\\AppData\\Local\\Programs\\Python\\Python312\\Lib\\site-packages\\pandas\\core\\internals\\blocks.py:395\u001B[39m, in \u001B[36mBlock.apply\u001B[39m\u001B[34m(self, func, **kwargs)\u001B[39m\n\u001B[32m    389\u001B[39m \u001B[38;5;129m@final\u001B[39m\n\u001B[32m    390\u001B[39m \u001B[38;5;28;01mdef\u001B[39;00m \u001B[34mapply\u001B[39m(\u001B[38;5;28mself\u001B[39m, func, **kwargs) -> \u001B[38;5;28mlist\u001B[39m[Block]:\n\u001B[32m    391\u001B[39m \u001B[38;5;250m    \u001B[39m\u001B[33;03m\"\"\"\u001B[39;00m\n\u001B[32m    392\u001B[39m \u001B[33;03m    apply the function to my values; return a block if we are not\u001B[39;00m\n\u001B[32m    393\u001B[39m \u001B[33;03m    one\u001B[39;00m\n\u001B[32m    394\u001B[39m \u001B[33;03m    \"\"\"\u001B[39;00m\n\u001B[32m--> \u001B[39m\u001B[32m395\u001B[39m     result = \u001B[43mfunc\u001B[49m\u001B[43m(\u001B[49m\u001B[38;5;28;43mself\u001B[39;49m\u001B[43m.\u001B[49m\u001B[43mvalues\u001B[49m\u001B[43m,\u001B[49m\u001B[43m \u001B[49m\u001B[43m*\u001B[49m\u001B[43m*\u001B[49m\u001B[43mkwargs\u001B[49m\u001B[43m)\u001B[49m\n\u001B[32m    397\u001B[39m     result = maybe_coerce_values(result)\n\u001B[32m    398\u001B[39m     \u001B[38;5;28;01mreturn\u001B[39;00m \u001B[38;5;28mself\u001B[39m._split_op_result(result)\n",
      "\u001B[36mFile \u001B[39m\u001B[32m~\\AppData\\Local\\Programs\\Python\\Python312\\Lib\\site-packages\\pandas\\core\\groupby\\groupby.py:2001\u001B[39m, in \u001B[36mGroupBy._cython_agg_general.<locals>.array_func\u001B[39m\u001B[34m(values)\u001B[39m\n\u001B[32m   1998\u001B[39m     \u001B[38;5;28;01mreturn\u001B[39;00m result\n\u001B[32m   2000\u001B[39m \u001B[38;5;28;01massert\u001B[39;00m alt \u001B[38;5;129;01mis\u001B[39;00m \u001B[38;5;129;01mnot\u001B[39;00m \u001B[38;5;28;01mNone\u001B[39;00m\n\u001B[32m-> \u001B[39m\u001B[32m2001\u001B[39m result = \u001B[38;5;28;43mself\u001B[39;49m\u001B[43m.\u001B[49m\u001B[43m_agg_py_fallback\u001B[49m\u001B[43m(\u001B[49m\u001B[43mhow\u001B[49m\u001B[43m,\u001B[49m\u001B[43m \u001B[49m\u001B[43mvalues\u001B[49m\u001B[43m,\u001B[49m\u001B[43m \u001B[49m\u001B[43mndim\u001B[49m\u001B[43m=\u001B[49m\u001B[43mdata\u001B[49m\u001B[43m.\u001B[49m\u001B[43mndim\u001B[49m\u001B[43m,\u001B[49m\u001B[43m \u001B[49m\u001B[43malt\u001B[49m\u001B[43m=\u001B[49m\u001B[43malt\u001B[49m\u001B[43m)\u001B[49m\n\u001B[32m   2002\u001B[39m \u001B[38;5;28;01mreturn\u001B[39;00m result\n",
      "\u001B[36mFile \u001B[39m\u001B[32m~\\AppData\\Local\\Programs\\Python\\Python312\\Lib\\site-packages\\pandas\\core\\groupby\\groupby.py:1947\u001B[39m, in \u001B[36mGroupBy._agg_py_fallback\u001B[39m\u001B[34m(self, how, values, ndim, alt)\u001B[39m\n\u001B[32m   1945\u001B[39m     msg = \u001B[33mf\u001B[39m\u001B[33m\"\u001B[39m\u001B[33magg function failed [how->\u001B[39m\u001B[38;5;132;01m{\u001B[39;00mhow\u001B[38;5;132;01m}\u001B[39;00m\u001B[33m,dtype->\u001B[39m\u001B[38;5;132;01m{\u001B[39;00mser.dtype\u001B[38;5;132;01m}\u001B[39;00m\u001B[33m]\u001B[39m\u001B[33m\"\u001B[39m\n\u001B[32m   1946\u001B[39m     \u001B[38;5;66;03m# preserve the kind of exception that raised\u001B[39;00m\n\u001B[32m-> \u001B[39m\u001B[32m1947\u001B[39m     \u001B[38;5;28;01mraise\u001B[39;00m \u001B[38;5;28mtype\u001B[39m(err)(msg) \u001B[38;5;28;01mfrom\u001B[39;00m \u001B[34;01merr\u001B[39;00m\n\u001B[32m   1949\u001B[39m dtype = ser.dtype\n\u001B[32m   1950\u001B[39m \u001B[38;5;28;01mif\u001B[39;00m dtype == \u001B[38;5;28mobject\u001B[39m:\n",
      "\u001B[31mTypeError\u001B[39m: agg function failed [how->mean,dtype->object]"
     ]
    }
   ],
   "execution_count": 17
  },
  {
   "cell_type": "code",
   "execution_count": 53,
   "outputs": [
    {
     "name": "stderr",
     "output_type": "stream",
     "text": [
      "C:\\Users\\Administrator\\AppData\\Local\\Temp\\ipykernel_9064\\3846908578.py:2: FutureWarning: Dropping invalid columns in DataFrameGroupBy.transform is deprecated. In a future version, a TypeError will be raised. Before calling .transform, select only columns which should be valid for the function.\n",
      "  k1_sum_tf = df_obj.groupby('key1').transform(np.mean).add_prefix('mean_')\n"
     ]
    },
    {
     "data": {
      "text/plain": "   mean_data1  mean_data2\n0    6.000000    3.600000\n1    5.333333    5.666667\n2    6.000000    3.600000\n3    5.333333    5.666667\n4    6.000000    3.600000\n5    5.333333    5.666667\n6    6.000000    3.600000\n7    6.000000    3.600000",
      "text/html": "<div>\n<style scoped>\n    .dataframe tbody tr th:only-of-type {\n        vertical-align: middle;\n    }\n\n    .dataframe tbody tr th {\n        vertical-align: top;\n    }\n\n    .dataframe thead th {\n        text-align: right;\n    }\n</style>\n<table border=\"1\" class=\"dataframe\">\n  <thead>\n    <tr style=\"text-align: right;\">\n      <th></th>\n      <th>mean_data1</th>\n      <th>mean_data2</th>\n    </tr>\n  </thead>\n  <tbody>\n    <tr>\n      <th>0</th>\n      <td>6.000000</td>\n      <td>3.600000</td>\n    </tr>\n    <tr>\n      <th>1</th>\n      <td>5.333333</td>\n      <td>5.666667</td>\n    </tr>\n    <tr>\n      <th>2</th>\n      <td>6.000000</td>\n      <td>3.600000</td>\n    </tr>\n    <tr>\n      <th>3</th>\n      <td>5.333333</td>\n      <td>5.666667</td>\n    </tr>\n    <tr>\n      <th>4</th>\n      <td>6.000000</td>\n      <td>3.600000</td>\n    </tr>\n    <tr>\n      <th>5</th>\n      <td>5.333333</td>\n      <td>5.666667</td>\n    </tr>\n    <tr>\n      <th>6</th>\n      <td>6.000000</td>\n      <td>3.600000</td>\n    </tr>\n    <tr>\n      <th>7</th>\n      <td>6.000000</td>\n      <td>3.600000</td>\n    </tr>\n  </tbody>\n</table>\n</div>"
     },
     "execution_count": 53,
     "metadata": {},
     "output_type": "execute_result"
    }
   ],
   "source": [
    "# 方法2，使用transform，分组后计算结果和原本的df保持一致\n",
    "k1_sum_tf = df_obj.groupby('key1').transform(np.mean).add_prefix('mean_')\n",
    "k1_sum_tf\n",
    "# df_obj[k1_sum_tf.columns] = k1_sum_tf\n",
    "# print(df_obj)"
   ],
   "metadata": {
    "collapsed": false,
    "pycharm": {
     "name": "#%%\n"
    }
   }
  },
  {
   "cell_type": "code",
   "execution_count": null,
   "outputs": [],
   "source": [
    "df_obj.groupby('key1').mean()"
   ],
   "metadata": {
    "collapsed": false,
    "pycharm": {
     "name": "#%%\n"
    }
   }
  },
  {
   "cell_type": "code",
   "execution_count": null,
   "outputs": [],
   "source": [
    "df_obj"
   ],
   "metadata": {
    "collapsed": false,
    "pycharm": {
     "name": "#%%\n"
    }
   }
  },
  {
   "cell_type": "code",
   "execution_count": null,
   "outputs": [],
   "source": [
    "del df_obj['key2']"
   ],
   "metadata": {
    "collapsed": false,
    "pycharm": {
     "name": "#%%\n"
    }
   }
  },
  {
   "cell_type": "code",
   "execution_count": null,
   "outputs": [],
   "source": [
    "df_obj.groupby('key1').transform(np.mean)"
   ],
   "metadata": {
    "collapsed": false,
    "pycharm": {
     "name": "#%%\n"
    }
   }
  },
  {
   "cell_type": "code",
   "execution_count": 54,
   "outputs": [
    {
     "name": "stdout",
     "output_type": "stream",
     "text": [
      "      data1     data2\n",
      "0  2.000000  2.400000\n",
      "1  1.666667  1.333333\n",
      "2 -1.000000  0.400000\n",
      "3 -4.333333  3.333333\n",
      "4  2.000000 -1.600000\n",
      "5  2.666667 -4.666667\n",
      "6 -1.000000 -2.600000\n",
      "7 -2.000000  1.400000\n"
     ]
    },
    {
     "name": "stderr",
     "output_type": "stream",
     "text": [
      "C:\\Users\\Administrator\\AppData\\Local\\Temp\\ipykernel_9064\\172458501.py:8: FutureWarning: Dropping invalid columns in DataFrameGroupBy.transform is deprecated. In a future version, a TypeError will be raised. Before calling .transform, select only columns which should be valid for the function.\n",
      "  print(df_obj.groupby('key1').transform(diff_mean))\n"
     ]
    }
   ],
   "source": [
    "#实现a组和b组，谁比平均分高，谁比平均分低\n",
    "def diff_mean(s):\n",
    "    \"\"\"\n",
    "        返回数据与均值的差值，s传入的是某一个分组\n",
    "    \"\"\"\n",
    "    return s - s.mean()\n",
    "\n",
    "print(df_obj.groupby('key1').transform(diff_mean))"
   ],
   "metadata": {
    "collapsed": false,
    "pycharm": {
     "name": "#%%\n"
    }
   }
  }
 ],
 "metadata": {
  "kernelspec": {
   "display_name": "Python 3",
   "language": "python",
   "name": "python3"
  },
  "language_info": {
   "codemirror_mode": {
    "name": "ipython",
    "version": 2
   },
   "file_extension": ".py",
   "mimetype": "text/x-python",
   "name": "python",
   "nbconvert_exporter": "python",
   "pygments_lexer": "ipython2",
   "version": "2.7.6"
  }
 },
 "nbformat": 4,
 "nbformat_minor": 0
}
