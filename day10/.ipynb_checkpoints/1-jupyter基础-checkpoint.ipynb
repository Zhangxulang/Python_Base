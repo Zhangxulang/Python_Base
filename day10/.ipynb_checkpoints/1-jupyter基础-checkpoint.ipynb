{
 "cells": [
  {
   "metadata": {},
   "cell_type": "markdown",
   "source": "# 1. Jupyter Notebook 基础\n",
   "id": "729eb9183824b8c9"
  },
  {
   "cell_type": "code",
   "id": "initial_id",
   "metadata": {
    "collapsed": true,
    "ExecuteTime": {
     "end_time": "2025-07-17T12:39:26.569667Z",
     "start_time": "2025-07-17T12:39:26.557430Z"
    }
   },
   "source": [
    "#ctrl+enter 快速运行某一个单元格的代码\n",
    "#shift+enter 运行当前单元格和下一个单元格的代码\n",
    "#alt+enter 运行当前单元格和上一个单元格的代码\n",
    "1+2"
   ],
   "outputs": [
    {
     "data": {
      "text/plain": [
       "3"
      ]
     },
     "execution_count": 1,
     "metadata": {},
     "output_type": "execute_result"
    }
   ],
   "execution_count": 1
  },
  {
   "metadata": {},
   "cell_type": "markdown",
   "source": " 关闭内核会终止当前 Notebook 占用的 CPU 和内存资源，并释放相应的端口，需要重新启动 Notebook 才能继续使用。",
   "id": "6145d7b48ebe4601"
  },
  {
   "metadata": {},
   "cell_type": "code",
   "outputs": [],
   "execution_count": null,
   "source": [
    "\n",
    "a = 10\n",
    "b = 20\n",
    "c = a + b\n",
    "print(c)\n"
   ],
   "id": "db6f6822e8c64719"
  },
  {
   "metadata": {},
   "cell_type": "markdown",
   "source": [
    "##### markdown 是用来写文档的语言，可以方便地插入公式、图表、链接等内容。\n",
    "\n",
    "\n"
   ],
   "id": "c4db2ae725b45057"
  },
  {
   "metadata": {},
   "cell_type": "code",
   "outputs": [],
   "execution_count": null,
   "source": [
    "a=10\n",
    "print(a)"
   ],
   "id": "a58f42448399b79"
  },
  {
   "metadata": {
    "ExecuteTime": {
     "end_time": "2025-07-17T13:05:35.765550Z",
     "start_time": "2025-07-17T13:05:35.707626Z"
    }
   },
   "cell_type": "code",
   "source": [
    "b=20\n",
    "print(b)\n",
    "print(id(b))\n"
   ],
   "id": "1acf13fec48907b7",
   "outputs": [
    {
     "name": "stdout",
     "output_type": "stream",
     "text": [
      "20\n",
      "140733196090392\n"
     ]
    }
   ],
   "execution_count": 10
  },
  {
   "metadata": {
    "ExecuteTime": {
     "end_time": "2025-07-17T13:06:09.259573Z",
     "start_time": "2025-07-17T13:06:09.253423Z"
    }
   },
   "cell_type": "code",
   "source": [
    "a=20\n",
    "print(a)\n",
    "print(id(a))\n",
    "b=a\n",
    "print(b)\n",
    "print(id(b))\n",
    "\n"
   ],
   "id": "fbee97e87eb1acd3",
   "outputs": [
    {
     "name": "stdout",
     "output_type": "stream",
     "text": [
      "20\n",
      "140733196090392\n",
      "20\n",
      "140733196090392\n"
     ]
    }
   ],
   "execution_count": 11
  },
  {
   "metadata": {},
   "cell_type": "code",
   "outputs": [],
   "execution_count": null,
   "source": "",
   "id": "2e7e178e698e44ef"
  },
  {
   "metadata": {},
   "cell_type": "code",
   "outputs": [],
   "execution_count": null,
   "source": "",
   "id": "87eb51ee9ca88a8f"
  }
 ],
 "metadata": {
  "kernelspec": {
   "display_name": "Python 3",
   "language": "python",
   "name": "python3"
  },
  "language_info": {
   "codemirror_mode": {
    "name": "ipython",
    "version": 2
   },
   "file_extension": ".py",
   "mimetype": "text/x-python",
   "name": "python",
   "nbconvert_exporter": "python",
   "pygments_lexer": "ipython2",
   "version": "2.7.6"
  }
 },
 "nbformat": 4,
 "nbformat_minor": 5
}
