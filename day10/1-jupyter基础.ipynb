{
 "cells": [
  {
   "cell_type": "markdown",
   "id": "729eb9183824b8c9",
   "metadata": {},
   "source": [
    "# 1. Jupyter Notebook 基础\n"
   ]
  },
  {
   "cell_type": "code",
   "execution_count": 1,
   "id": "initial_id",
   "metadata": {
    "ExecuteTime": {
     "end_time": "2025-07-17T12:39:26.569667Z",
     "start_time": "2025-07-17T12:39:26.557430Z"
    },
    "collapsed": true,
    "jupyter": {
     "outputs_hidden": true
    }
   },
   "outputs": [
    {
     "data": {
      "text/plain": [
       "3"
      ]
     },
     "execution_count": 1,
     "metadata": {},
     "output_type": "execute_result"
    }
   ],
   "source": [
    "#ctrl+enter 快速运行某一个单元格的代码\n",
    "#shift+enter 运行当前单元格和下一个单元格的代码\n",
    "#alt+enter 运行当前单元格和上一个单元格的代码\n",
    "1+2"
   ]
  },
  {
   "cell_type": "markdown",
   "id": "6145d7b48ebe4601",
   "metadata": {},
   "source": [
    " 关闭内核会终止当前 Notebook 占用的 CPU 和内存资源，并释放相应的端口，需要重新启动 Notebook 才能继续使用。"
   ]
  },
  {
   "cell_type": "code",
   "execution_count": null,
   "id": "db6f6822e8c64719",
   "metadata": {},
   "outputs": [],
   "source": [
    "\n",
    "a = 10\n",
    "b = 20\n",
    "c = a + b\n",
    "print(c)\n"
   ]
  },
  {
   "cell_type": "markdown",
   "id": "c4db2ae725b45057",
   "metadata": {},
   "source": [
    "##### markdown 是用来写文档的语言，可以方便地插入公式、图表、链接等内容。\n",
    "\n",
    "\n"
   ]
  },
  {
   "cell_type": "code",
   "execution_count": null,
   "id": "a58f42448399b79",
   "metadata": {},
   "outputs": [],
   "source": [
    "a=10\n",
    "print(a)"
   ]
  },
  {
   "cell_type": "code",
   "execution_count": 10,
   "id": "1acf13fec48907b7",
   "metadata": {
    "ExecuteTime": {
     "end_time": "2025-07-17T13:05:35.765550Z",
     "start_time": "2025-07-17T13:05:35.707626Z"
    }
   },
   "outputs": [
    {
     "name": "stdout",
     "output_type": "stream",
     "text": [
      "20\n",
      "140733196090392\n"
     ]
    }
   ],
   "source": [
    "b=20\n",
    "print(b)\n",
    "print(id(b))\n"
   ]
  },
  {
   "cell_type": "code",
   "execution_count": 11,
   "id": "fbee97e87eb1acd3",
   "metadata": {
    "ExecuteTime": {
     "end_time": "2025-07-17T13:06:09.259573Z",
     "start_time": "2025-07-17T13:06:09.253423Z"
    }
   },
   "outputs": [
    {
     "name": "stdout",
     "output_type": "stream",
     "text": [
      "20\n",
      "140733196090392\n",
      "20\n",
      "140733196090392\n"
     ]
    }
   ],
   "source": [
    "a=20\n",
    "print(a)\n",
    "print(id(a))\n",
    "b=a\n",
    "print(b)\n",
    "print(id(b))\n",
    "\n"
   ]
  },
  {
   "cell_type": "code",
   "execution_count": null,
   "id": "2e7e178e698e44ef",
   "metadata": {},
   "outputs": [],
   "source": ""
  },
  {
   "cell_type": "code",
   "execution_count": null,
   "id": "87eb51ee9ca88a8f",
   "metadata": {},
   "outputs": [],
   "source": [
    "import pandas as pd\n",
    "\n",
    "# 读取数据\n",
    "df = pd.read_csv(\"titanic.csv\")\n",
    "\n",
    "# 查看前几行\n",
    "df.head()"
   ]
  },
  {
   "metadata": {},
   "cell_type": "code",
   "outputs": [],
   "execution_count": null,
   "source": [
    "import matplotlib.pyplot as plt\n",
    "\n",
    "x = [1, 2, 3, 4, 5]\n",
    "y = [1, 4, 9, 16, 25]\n",
    "\n",
    "plt.plot(x, y)\n",
    "plt.title(\"简单折线图\")\n",
    "plt.xlabel(\"X轴\")\n",
    "plt.ylabel(\"Y轴\")\n",
    "plt.grid(True)\n",
    "plt.show()"
   ],
   "id": "48d89c3637a5c591"
  },
  {
   "metadata": {},
   "cell_type": "code",
   "outputs": [],
   "execution_count": null,
   "source": [
    "from sklearn.datasets import load_iris\n",
    "from sklearn.ensemble import RandomForestClassifier\n",
    "\n",
    "iris = load_iris()\n",
    "model = RandomForestClassifier()\n",
    "model.fit(iris.data, iris.target)\n",
    "\n",
    "print(\"预测结果：\", model.predict([[5.1, 3.5, 1.4, 0.2]]))"
   ],
   "id": "6efe3962f425abbf"
  },
  {
   "metadata": {},
   "cell_type": "code",
   "outputs": [],
   "execution_count": null,
   "source": [
    "from ipywidgets import interact\n",
    "\n",
    "def greet(name):\n",
    "    print(f\"你好，{name}！\")\n",
    "\n",
    "interact(greet, name=\"小明\")"
   ],
   "id": "6c6d204e242842c9"
  },
  {
   "metadata": {},
   "cell_type": "code",
   "outputs": [],
   "execution_count": null,
   "source": [
    "import cv2\n",
    "from matplotlib import pyplot as plt\n",
    "\n",
    "img = cv2.imread(\"lena.jpg\")\n",
    "img_rgb = cv2.cvtColor(img, cv2.COLOR_BGR2RGB)\n",
    "\n",
    "plt.imshow(img_rgb)\n",
    "plt.axis('off')\n",
    "plt.title(\"Lena 图像\")\n",
    "plt.show()"
   ],
   "id": "1c7178137bf24a73"
  },
  {
   "metadata": {},
   "cell_type": "code",
   "outputs": [],
   "execution_count": null,
   "source": "",
   "id": "6ab6cbb0888cfb45"
  }
 ],
 "metadata": {
  "kernelspec": {
   "display_name": "Python 3 (ipykernel)",
   "language": "python",
   "name": "python3"
  },
  "language_info": {
   "codemirror_mode": {
    "name": "ipython",
    "version": 3
   },
   "file_extension": ".py",
   "mimetype": "text/x-python",
   "name": "python",
   "nbconvert_exporter": "python",
   "pygments_lexer": "ipython3",
   "version": "3.12.1"
  }
 },
 "nbformat": 4,
 "nbformat_minor": 5
}
